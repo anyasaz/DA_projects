{
 "cells": [
  {
   "cell_type": "markdown",
   "id": "c81daeeb",
   "metadata": {
    "deletable": false,
    "id": "c81daeeb"
   },
   "source": [
    "# Исследование надежности заемщиков\n"
   ]
  },
  {
   "cell_type": "markdown",
   "id": "744d7639",
   "metadata": {
    "deletable": false,
    "id": "744d7639"
   },
   "source": [
    "## Общая информация о данных"
   ]
  },
  {
   "cell_type": "markdown",
   "id": "e7a14c31",
   "metadata": {
    "deletable": false,
    "id": "e7a14c31"
   },
   "source": [
    "Импортируем библиотеку pandas и сохраним датафрейм в переменную data."
   ]
  },
  {
   "cell_type": "code",
   "execution_count": 1,
   "id": "7bcf75c9",
   "metadata": {
    "deletable": false,
    "id": "7bcf75c9"
   },
   "outputs": [],
   "source": [
    "import pandas as pd\n",
    "import warnings\n",
    "warnings.filterwarnings(\"ignore\")\n",
    "\n",
    "data = pd.read_csv(r'C:\\Users\\bonny\\Desktop\\мои_проекты_практикум\\проект_2_банки\\banking.csv')"
   ]
  },
  {
   "cell_type": "markdown",
   "id": "b8038fe3",
   "metadata": {
    "deletable": false,
    "id": "b8038fe3"
   },
   "source": [
    "Выведем первые 5 строчек датафрейма `data` на экран."
   ]
  },
  {
   "cell_type": "code",
   "execution_count": 2,
   "id": "2a7cab99",
   "metadata": {
    "deletable": false,
    "id": "2a7cab99",
    "outputId": "1a8f3ef2-d323-4ec2-ddf7-89670b5944c4",
    "scrolled": true
   },
   "outputs": [
    {
     "data": {
      "text/html": [
       "<div>\n",
       "<style scoped>\n",
       "    .dataframe tbody tr th:only-of-type {\n",
       "        vertical-align: middle;\n",
       "    }\n",
       "\n",
       "    .dataframe tbody tr th {\n",
       "        vertical-align: top;\n",
       "    }\n",
       "\n",
       "    .dataframe thead th {\n",
       "        text-align: right;\n",
       "    }\n",
       "</style>\n",
       "<table border=\"1\" class=\"dataframe\">\n",
       "  <thead>\n",
       "    <tr style=\"text-align: right;\">\n",
       "      <th></th>\n",
       "      <th>children</th>\n",
       "      <th>days_employed</th>\n",
       "      <th>dob_years</th>\n",
       "      <th>education</th>\n",
       "      <th>education_id</th>\n",
       "      <th>family_status</th>\n",
       "      <th>family_status_id</th>\n",
       "      <th>gender</th>\n",
       "      <th>income_type</th>\n",
       "      <th>debt</th>\n",
       "      <th>total_income</th>\n",
       "      <th>purpose</th>\n",
       "    </tr>\n",
       "  </thead>\n",
       "  <tbody>\n",
       "    <tr>\n",
       "      <th>0</th>\n",
       "      <td>1</td>\n",
       "      <td>-8437.673028</td>\n",
       "      <td>42</td>\n",
       "      <td>высшее</td>\n",
       "      <td>0</td>\n",
       "      <td>женат / замужем</td>\n",
       "      <td>0</td>\n",
       "      <td>F</td>\n",
       "      <td>сотрудник</td>\n",
       "      <td>0</td>\n",
       "      <td>253875.639453</td>\n",
       "      <td>покупка жилья</td>\n",
       "    </tr>\n",
       "    <tr>\n",
       "      <th>1</th>\n",
       "      <td>1</td>\n",
       "      <td>-4024.803754</td>\n",
       "      <td>36</td>\n",
       "      <td>среднее</td>\n",
       "      <td>1</td>\n",
       "      <td>женат / замужем</td>\n",
       "      <td>0</td>\n",
       "      <td>F</td>\n",
       "      <td>сотрудник</td>\n",
       "      <td>0</td>\n",
       "      <td>112080.014102</td>\n",
       "      <td>приобретение автомобиля</td>\n",
       "    </tr>\n",
       "    <tr>\n",
       "      <th>2</th>\n",
       "      <td>0</td>\n",
       "      <td>-5623.422610</td>\n",
       "      <td>33</td>\n",
       "      <td>Среднее</td>\n",
       "      <td>1</td>\n",
       "      <td>женат / замужем</td>\n",
       "      <td>0</td>\n",
       "      <td>M</td>\n",
       "      <td>сотрудник</td>\n",
       "      <td>0</td>\n",
       "      <td>145885.952297</td>\n",
       "      <td>покупка жилья</td>\n",
       "    </tr>\n",
       "    <tr>\n",
       "      <th>3</th>\n",
       "      <td>3</td>\n",
       "      <td>-4124.747207</td>\n",
       "      <td>32</td>\n",
       "      <td>среднее</td>\n",
       "      <td>1</td>\n",
       "      <td>женат / замужем</td>\n",
       "      <td>0</td>\n",
       "      <td>M</td>\n",
       "      <td>сотрудник</td>\n",
       "      <td>0</td>\n",
       "      <td>267628.550329</td>\n",
       "      <td>дополнительное образование</td>\n",
       "    </tr>\n",
       "    <tr>\n",
       "      <th>4</th>\n",
       "      <td>0</td>\n",
       "      <td>340266.072047</td>\n",
       "      <td>53</td>\n",
       "      <td>среднее</td>\n",
       "      <td>1</td>\n",
       "      <td>гражданский брак</td>\n",
       "      <td>1</td>\n",
       "      <td>F</td>\n",
       "      <td>пенсионер</td>\n",
       "      <td>0</td>\n",
       "      <td>158616.077870</td>\n",
       "      <td>сыграть свадьбу</td>\n",
       "    </tr>\n",
       "  </tbody>\n",
       "</table>\n",
       "</div>"
      ],
      "text/plain": [
       "   children  days_employed  dob_years education  education_id  \\\n",
       "0         1   -8437.673028         42    высшее             0   \n",
       "1         1   -4024.803754         36   среднее             1   \n",
       "2         0   -5623.422610         33   Среднее             1   \n",
       "3         3   -4124.747207         32   среднее             1   \n",
       "4         0  340266.072047         53   среднее             1   \n",
       "\n",
       "      family_status  family_status_id gender income_type  debt   total_income  \\\n",
       "0   женат / замужем                 0      F   сотрудник     0  253875.639453   \n",
       "1   женат / замужем                 0      F   сотрудник     0  112080.014102   \n",
       "2   женат / замужем                 0      M   сотрудник     0  145885.952297   \n",
       "3   женат / замужем                 0      M   сотрудник     0  267628.550329   \n",
       "4  гражданский брак                 1      F   пенсионер     0  158616.077870   \n",
       "\n",
       "                      purpose  \n",
       "0               покупка жилья  \n",
       "1     приобретение автомобиля  \n",
       "2               покупка жилья  \n",
       "3  дополнительное образование  \n",
       "4             сыграть свадьбу  "
      ]
     },
     "execution_count": 2,
     "metadata": {},
     "output_type": "execute_result"
    }
   ],
   "source": [
    "data.head()"
   ]
  },
  {
   "cell_type": "markdown",
   "id": "1c12e233",
   "metadata": {
    "deletable": false,
    "id": "1c12e233"
   },
   "source": [
    "Выведем основную информацию о датафрейме с помощью метода `info()`."
   ]
  },
  {
   "cell_type": "code",
   "execution_count": 3,
   "id": "2b757bca",
   "metadata": {
    "deletable": false,
    "id": "2b757bca",
    "outputId": "15376089-8dad-46c9-b520-c05248d43158"
   },
   "outputs": [
    {
     "name": "stdout",
     "output_type": "stream",
     "text": [
      "<class 'pandas.core.frame.DataFrame'>\n",
      "RangeIndex: 21525 entries, 0 to 21524\n",
      "Data columns (total 12 columns):\n",
      " #   Column            Non-Null Count  Dtype  \n",
      "---  ------            --------------  -----  \n",
      " 0   children          21525 non-null  int64  \n",
      " 1   days_employed     19351 non-null  float64\n",
      " 2   dob_years         21525 non-null  int64  \n",
      " 3   education         21525 non-null  object \n",
      " 4   education_id      21525 non-null  int64  \n",
      " 5   family_status     21525 non-null  object \n",
      " 6   family_status_id  21525 non-null  int64  \n",
      " 7   gender            21525 non-null  object \n",
      " 8   income_type       21525 non-null  object \n",
      " 9   debt              21525 non-null  int64  \n",
      " 10  total_income      19351 non-null  float64\n",
      " 11  purpose           21525 non-null  object \n",
      "dtypes: float64(2), int64(5), object(5)\n",
      "memory usage: 2.0+ MB\n"
     ]
    }
   ],
   "source": [
    "data.info()"
   ]
  },
  {
   "cell_type": "markdown",
   "id": "333ec665",
   "metadata": {
    "deletable": false,
    "id": "333ec665"
   },
   "source": [
    "## Предобработка данных"
   ]
  },
  {
   "cell_type": "markdown",
   "id": "02d92d53",
   "metadata": {
    "deletable": false,
    "id": "02d92d53"
   },
   "source": [
    "### Удаление пропусков"
   ]
  },
  {
   "cell_type": "markdown",
   "id": "cd84967c",
   "metadata": {
    "deletable": false,
    "id": "cd84967c"
   },
   "source": [
    "Выведем количество пропущенных значений для каждого столбца."
   ]
  },
  {
   "cell_type": "code",
   "execution_count": 4,
   "id": "7f9b2309",
   "metadata": {
    "deletable": false,
    "id": "7f9b2309",
    "outputId": "81f4d817-781c-465c-ed15-91ce4446810d"
   },
   "outputs": [
    {
     "data": {
      "text/plain": [
       "children               0\n",
       "days_employed       2174\n",
       "dob_years              0\n",
       "education              0\n",
       "education_id           0\n",
       "family_status          0\n",
       "family_status_id       0\n",
       "gender                 0\n",
       "income_type            0\n",
       "debt                   0\n",
       "total_income        2174\n",
       "purpose                0\n",
       "dtype: int64"
      ]
     },
     "execution_count": 4,
     "metadata": {},
     "output_type": "execute_result"
    }
   ],
   "source": [
    "data.isna().sum()"
   ]
  },
  {
   "cell_type": "markdown",
   "id": "db86e27b",
   "metadata": {
    "deletable": false,
    "id": "db86e27b"
   },
   "source": [
    "В двух столбцах есть пропущенные значения. Один из них — `days_employed`. Пропуски в этом столбце мы обработаем на следующем этапе. Другой столбец с пропущенными значениями — `total_income` — хранит данные о доходах. На сумму дохода сильнее всего влияет тип занятости, поэтому заполнить пропуски в этом столбце нужно медианным значением по каждому типу из столбца `income_type`."
   ]
  },
  {
   "cell_type": "code",
   "execution_count": 5,
   "id": "42006a93",
   "metadata": {
    "deletable": false,
    "id": "42006a93"
   },
   "outputs": [],
   "source": [
    "for t in data['income_type'].unique():\n",
    "    data.loc[(data['income_type'] == t) & (data['total_income'].isna()), 'total_income'] = \\\n",
    "    data.loc[(data['income_type'] == t), 'total_income'].median()"
   ]
  },
  {
   "cell_type": "markdown",
   "id": "89da5ece",
   "metadata": {
    "deletable": false,
    "id": "89da5ece"
   },
   "source": [
    "### Обработка аномальных значений"
   ]
  },
  {
   "cell_type": "markdown",
   "id": "57964554",
   "metadata": {
    "deletable": false,
    "id": "57964554"
   },
   "source": [
    "В данных встречаются артефакты (аномалии) — отрицательное количество дней трудового стажа в столбце `days_employed`. Заменим все отрицательные значения положительными."
   ]
  },
  {
   "cell_type": "code",
   "execution_count": 6,
   "id": "f6f055bf",
   "metadata": {
    "deletable": false,
    "id": "f6f055bf"
   },
   "outputs": [],
   "source": [
    "data['days_employed'] = data['days_employed'].abs()"
   ]
  },
  {
   "cell_type": "markdown",
   "id": "6107dd2f",
   "metadata": {
    "deletable": false,
    "id": "6107dd2f"
   },
   "source": [
    "Для каждого типа занятости выведем медианное значение трудового стажа `days_employed` в днях."
   ]
  },
  {
   "cell_type": "code",
   "execution_count": 7,
   "id": "85a5faf6",
   "metadata": {
    "deletable": false,
    "id": "85a5faf6",
    "outputId": "801ef80e-522b-4668-f34e-565af7432bcf"
   },
   "outputs": [
    {
     "data": {
      "text/plain": [
       "income_type\n",
       "безработный        366413.652744\n",
       "в декрете            3296.759962\n",
       "госслужащий          2689.368353\n",
       "компаньон            1547.382223\n",
       "пенсионер          365213.306266\n",
       "предприниматель       520.848083\n",
       "сотрудник            1574.202821\n",
       "студент               578.751554\n",
       "Name: days_employed, dtype: float64"
      ]
     },
     "execution_count": 7,
     "metadata": {},
     "output_type": "execute_result"
    }
   ],
   "source": [
    "data.groupby('income_type')['days_employed'].agg('median')"
   ]
  },
  {
   "cell_type": "markdown",
   "id": "38d1a030",
   "metadata": {
    "deletable": false,
    "id": "38d1a030"
   },
   "source": [
    "У двух типов (безработные и пенсионеры) получатся аномально большие значения. Исправить такие значения сложно, поэтому оставим их как есть. Тем более этот столбец не понадобится для исследования."
   ]
  },
  {
   "cell_type": "markdown",
   "id": "d8a9f147",
   "metadata": {
    "deletable": false,
    "id": "d8a9f147"
   },
   "source": [
    "Выведем перечень уникальных значений столбца `children`."
   ]
  },
  {
   "cell_type": "code",
   "execution_count": 8,
   "id": "ef5056eb",
   "metadata": {
    "deletable": false,
    "id": "ef5056eb",
    "outputId": "6975b15c-7f95-4697-d16d-a0c79b657b03"
   },
   "outputs": [
    {
     "data": {
      "text/plain": [
       "array([ 1,  0,  3,  2, -1,  4, 20,  5], dtype=int64)"
      ]
     },
     "execution_count": 8,
     "metadata": {},
     "output_type": "execute_result"
    }
   ],
   "source": [
    "data['children'].unique()"
   ]
  },
  {
   "cell_type": "markdown",
   "id": "40b9ebf2",
   "metadata": {
    "deletable": false,
    "id": "40b9ebf2"
   },
   "source": [
    "В столбце `children` есть два аномальных значения. Удалим строки, в которых встречаются такие аномальные значения из датафрейма `data`."
   ]
  },
  {
   "cell_type": "code",
   "execution_count": 9,
   "id": "3ff9801d",
   "metadata": {
    "deletable": false,
    "id": "3ff9801d"
   },
   "outputs": [],
   "source": [
    "data = data[(data['children'] != -1) & (data['children'] != 20)]"
   ]
  },
  {
   "cell_type": "markdown",
   "id": "bbc4d0ce",
   "metadata": {
    "deletable": false,
    "id": "bbc4d0ce"
   },
   "source": [
    "Ещё раз выведем перечень уникальных значений столбца `children`, чтобы убедиться, что артефакты удалены."
   ]
  },
  {
   "cell_type": "code",
   "execution_count": 10,
   "id": "ad4fa8b7",
   "metadata": {
    "deletable": false,
    "id": "ad4fa8b7",
    "outputId": "b2097101-d49d-44d9-901b-32a65c9463d1"
   },
   "outputs": [
    {
     "data": {
      "text/plain": [
       "array([1, 0, 3, 2, 4, 5], dtype=int64)"
      ]
     },
     "execution_count": 10,
     "metadata": {},
     "output_type": "execute_result"
    }
   ],
   "source": [
    "data['children'].unique()"
   ]
  },
  {
   "cell_type": "markdown",
   "id": "75440b63",
   "metadata": {
    "deletable": false,
    "id": "75440b63"
   },
   "source": []
  },
  {
   "cell_type": "markdown",
   "id": "f4ea573f",
   "metadata": {
    "deletable": false,
    "id": "f4ea573f"
   },
   "source": [
    "Заполним пропуски в столбце `days_employed` медианными значениями по каждого типа занятости `income_type`."
   ]
  },
  {
   "cell_type": "code",
   "execution_count": 11,
   "id": "af6b1a7e",
   "metadata": {
    "deletable": false,
    "id": "af6b1a7e"
   },
   "outputs": [],
   "source": [
    "for t in data['income_type'].unique():\n",
    "    data.loc[(data['income_type'] == t) & (data['days_employed'].isna()), 'days_employed'] = \\\n",
    "    data.loc[(data['income_type'] == t), 'days_employed'].median()"
   ]
  },
  {
   "cell_type": "markdown",
   "id": "2753f40d",
   "metadata": {
    "deletable": false,
    "id": "2753f40d"
   },
   "source": [
    "Убедимся, что все пропуски заполнены."
   ]
  },
  {
   "cell_type": "code",
   "execution_count": 12,
   "id": "55f78bc2",
   "metadata": {
    "deletable": false,
    "id": "55f78bc2",
    "outputId": "8da1e4e1-358e-4e87-98c9-f261bce0a7b2"
   },
   "outputs": [
    {
     "data": {
      "text/plain": [
       "children            0\n",
       "days_employed       0\n",
       "dob_years           0\n",
       "education           0\n",
       "education_id        0\n",
       "family_status       0\n",
       "family_status_id    0\n",
       "gender              0\n",
       "income_type         0\n",
       "debt                0\n",
       "total_income        0\n",
       "purpose             0\n",
       "dtype: int64"
      ]
     },
     "execution_count": 12,
     "metadata": {},
     "output_type": "execute_result"
    }
   ],
   "source": [
    "data.isna().sum()"
   ]
  },
  {
   "cell_type": "markdown",
   "id": "ddc81e43",
   "metadata": {
    "deletable": false,
    "id": "ddc81e43"
   },
   "source": [
    "### Изменение типов данных"
   ]
  },
  {
   "cell_type": "markdown",
   "id": "42d19d24",
   "metadata": {
    "deletable": false,
    "id": "42d19d24"
   },
   "source": [
    "Заменим вещественный тип данных в столбце `total_income` на целочисленный."
   ]
  },
  {
   "cell_type": "code",
   "execution_count": 13,
   "id": "920b65ad",
   "metadata": {
    "deletable": false,
    "id": "920b65ad"
   },
   "outputs": [],
   "source": [
    "data['total_income'] = data['total_income'].astype(int)"
   ]
  },
  {
   "cell_type": "markdown",
   "id": "80c420ba",
   "metadata": {
    "deletable": false,
    "id": "80c420ba"
   },
   "source": [
    "### Обработка дубликатов"
   ]
  },
  {
   "cell_type": "markdown",
   "id": "dc587695",
   "metadata": {
    "deletable": false,
    "id": "dc587695"
   },
   "source": [
    "Выведем на экран количество строк-дубликатов в данных. Если такие строки присутствуют, удалим их."
   ]
  },
  {
   "cell_type": "code",
   "execution_count": 14,
   "id": "3ee445e4",
   "metadata": {
    "deletable": false,
    "id": "3ee445e4",
    "outputId": "9684deba-1934-42d1-99e1-cda61740f822"
   },
   "outputs": [
    {
     "data": {
      "text/plain": [
       "54"
      ]
     },
     "execution_count": 14,
     "metadata": {},
     "output_type": "execute_result"
    }
   ],
   "source": [
    "data.duplicated().sum()"
   ]
  },
  {
   "cell_type": "code",
   "execution_count": 15,
   "id": "8575fe05",
   "metadata": {
    "deletable": false,
    "id": "8575fe05"
   },
   "outputs": [],
   "source": [
    "data = data.drop_duplicates()"
   ]
  },
  {
   "cell_type": "markdown",
   "id": "9771a76c",
   "metadata": {
    "deletable": false,
    "id": "9771a76c"
   },
   "source": [
    "Обработаем неявные дубликаты в столбце `education`. В этом столбце есть одни и те же значения, но записанные по-разному: с использованием заглавных и строчных букв. Приведем их к нижнему регистру."
   ]
  },
  {
   "cell_type": "code",
   "execution_count": 16,
   "id": "a9f8e2bf",
   "metadata": {
    "deletable": false,
    "id": "a9f8e2bf"
   },
   "outputs": [],
   "source": [
    "data['education'] = data['education'].str.lower()"
   ]
  },
  {
   "cell_type": "markdown",
   "id": "9904cf55",
   "metadata": {
    "deletable": false,
    "id": "9904cf55"
   },
   "source": [
    "### Категоризация данных"
   ]
  },
  {
   "cell_type": "markdown",
   "id": "72fcc8a2",
   "metadata": {
    "deletable": false,
    "id": "72fcc8a2"
   },
   "source": [
    "На основании диапазонов, указанных ниже, создадим в датафрейме `data` столбец `total_income_category` с категориями:\n",
    "\n",
    "- 0–30000 — `'E'`;\n",
    "- 30001–50000 — `'D'`;\n",
    "- 50001–200000 — `'C'`;\n",
    "- 200001–1000000 — `'B'`;\n",
    "- 1000001 и выше — `'A'`."
   ]
  },
  {
   "cell_type": "code",
   "execution_count": 17,
   "id": "e1771346",
   "metadata": {
    "deletable": false,
    "id": "e1771346"
   },
   "outputs": [],
   "source": [
    "def categorize_income(income):\n",
    "    try:\n",
    "        if 0 <= income <= 30000:\n",
    "            return 'E'\n",
    "        elif 30001 <= income <= 50000:\n",
    "            return 'D'\n",
    "        elif 50001 <= income <= 200000:\n",
    "            return 'C'\n",
    "        elif 200001 <= income <= 1000000:\n",
    "            return 'B'\n",
    "        elif income >= 1000001:\n",
    "            return 'A'\n",
    "    except:\n",
    "        pass"
   ]
  },
  {
   "cell_type": "code",
   "execution_count": 18,
   "id": "d5f3586d",
   "metadata": {
    "deletable": false,
    "id": "d5f3586d"
   },
   "outputs": [],
   "source": [
    "data['total_income_category'] = data['total_income'].apply(categorize_income)"
   ]
  },
  {
   "cell_type": "markdown",
   "id": "dde49b5c",
   "metadata": {
    "deletable": false,
    "id": "dde49b5c"
   },
   "source": [
    "Выведем на экран перечень уникальных целей взятия кредита из столбца `purpose`."
   ]
  },
  {
   "cell_type": "code",
   "execution_count": 19,
   "id": "f67ce9b3",
   "metadata": {
    "deletable": false,
    "id": "f67ce9b3",
    "outputId": "673c12d9-7d7e-4ae0-9812-c622c89dd244"
   },
   "outputs": [
    {
     "data": {
      "text/plain": [
       "array(['покупка жилья', 'приобретение автомобиля',\n",
       "       'дополнительное образование', 'сыграть свадьбу',\n",
       "       'операции с жильем', 'образование', 'на проведение свадьбы',\n",
       "       'покупка жилья для семьи', 'покупка недвижимости',\n",
       "       'покупка коммерческой недвижимости', 'покупка жилой недвижимости',\n",
       "       'строительство собственной недвижимости', 'недвижимость',\n",
       "       'строительство недвижимости', 'на покупку подержанного автомобиля',\n",
       "       'на покупку своего автомобиля',\n",
       "       'операции с коммерческой недвижимостью',\n",
       "       'строительство жилой недвижимости', 'жилье',\n",
       "       'операции со своей недвижимостью', 'автомобили',\n",
       "       'заняться образованием', 'сделка с подержанным автомобилем',\n",
       "       'получение образования', 'автомобиль', 'свадьба',\n",
       "       'получение дополнительного образования', 'покупка своего жилья',\n",
       "       'операции с недвижимостью', 'получение высшего образования',\n",
       "       'свой автомобиль', 'сделка с автомобилем',\n",
       "       'профильное образование', 'высшее образование',\n",
       "       'покупка жилья для сдачи', 'на покупку автомобиля', 'ремонт жилью',\n",
       "       'заняться высшим образованием'], dtype=object)"
      ]
     },
     "execution_count": 19,
     "metadata": {},
     "output_type": "execute_result"
    }
   ],
   "source": [
    "data['purpose'].unique()"
   ]
  },
  {
   "cell_type": "markdown",
   "id": "85d0aef0",
   "metadata": {
    "deletable": false,
    "id": "85d0aef0"
   },
   "source": [
    "Создадим функцию, которая на основании данных из столбца `purpose` сформирует новый столбец `purpose_category`, в который войдут следующие категории:**\n",
    "\n",
    "- `'операции с автомобилем'`,\n",
    "- `'операции с недвижимостью'`,\n",
    "- `'проведение свадьбы'`,\n",
    "- `'получение образования'`."
   ]
  },
  {
   "cell_type": "code",
   "execution_count": 20,
   "id": "e149fab4",
   "metadata": {
    "deletable": false,
    "id": "e149fab4"
   },
   "outputs": [],
   "source": [
    "def categorize_purpose(row):\n",
    "    try:\n",
    "        if 'автом' in row:\n",
    "            return 'операции с автомобилем'\n",
    "        elif 'жил' in row or 'недвиж' in row:\n",
    "            return 'операции с недвижимостью'\n",
    "        elif 'свад' in row:\n",
    "            return 'проведение свадьбы'\n",
    "        elif 'образов' in row:\n",
    "            return 'получение образования'\n",
    "    except:\n",
    "        return 'нет категории'"
   ]
  },
  {
   "cell_type": "code",
   "execution_count": 21,
   "id": "bf36e69b",
   "metadata": {
    "deletable": false,
    "id": "bf36e69b"
   },
   "outputs": [],
   "source": [
    "data['purpose_category'] = data['purpose'].apply(categorize_purpose)"
   ]
  },
  {
   "cell_type": "markdown",
   "id": "09b242bf",
   "metadata": {
    "deletable": false,
    "editable": false,
    "id": "09b242bf"
   },
   "source": [
    "## Исследуйте данные и ответьте на вопросы"
   ]
  },
  {
   "cell_type": "markdown",
   "id": "c5d66278",
   "metadata": {
    "deletable": false,
    "editable": false,
    "id": "c5d66278"
   },
   "source": [
    "**Задание 19. Есть ли зависимость между количеством детей и возвратом кредита в срок?**"
   ]
  },
  {
   "cell_type": "code",
   "execution_count": 22,
   "id": "2cacfc4a",
   "metadata": {
    "id": "2cacfc4a"
   },
   "outputs": [
    {
     "data": {
      "text/html": [
       "<div>\n",
       "<style scoped>\n",
       "    .dataframe tbody tr th:only-of-type {\n",
       "        vertical-align: middle;\n",
       "    }\n",
       "\n",
       "    .dataframe tbody tr th {\n",
       "        vertical-align: top;\n",
       "    }\n",
       "\n",
       "    .dataframe thead th {\n",
       "        text-align: right;\n",
       "    }\n",
       "</style>\n",
       "<table border=\"1\" class=\"dataframe\">\n",
       "  <thead>\n",
       "    <tr style=\"text-align: right;\">\n",
       "      <th></th>\n",
       "      <th>people_in_category</th>\n",
       "      <th>debtors</th>\n",
       "      <th>debtors_percent</th>\n",
       "    </tr>\n",
       "  </thead>\n",
       "  <tbody>\n",
       "    <tr>\n",
       "      <th>4</th>\n",
       "      <td>41</td>\n",
       "      <td>4.0</td>\n",
       "      <td>9.756098</td>\n",
       "    </tr>\n",
       "    <tr>\n",
       "      <th>2</th>\n",
       "      <td>2052</td>\n",
       "      <td>194.0</td>\n",
       "      <td>9.454191</td>\n",
       "    </tr>\n",
       "    <tr>\n",
       "      <th>1</th>\n",
       "      <td>4809</td>\n",
       "      <td>444.0</td>\n",
       "      <td>9.232689</td>\n",
       "    </tr>\n",
       "    <tr>\n",
       "      <th>3</th>\n",
       "      <td>330</td>\n",
       "      <td>27.0</td>\n",
       "      <td>8.181818</td>\n",
       "    </tr>\n",
       "    <tr>\n",
       "      <th>0</th>\n",
       "      <td>14107</td>\n",
       "      <td>1063.0</td>\n",
       "      <td>7.535266</td>\n",
       "    </tr>\n",
       "    <tr>\n",
       "      <th>5</th>\n",
       "      <td>9</td>\n",
       "      <td>NaN</td>\n",
       "      <td>NaN</td>\n",
       "    </tr>\n",
       "  </tbody>\n",
       "</table>\n",
       "</div>"
      ],
      "text/plain": [
       "   people_in_category  debtors  debtors_percent\n",
       "4                  41      4.0         9.756098\n",
       "2                2052    194.0         9.454191\n",
       "1                4809    444.0         9.232689\n",
       "3                 330     27.0         8.181818\n",
       "0               14107   1063.0         7.535266\n",
       "5                   9      NaN              NaN"
      ]
     },
     "metadata": {},
     "output_type": "display_data"
    }
   ],
   "source": [
    "debt_by_children = pd.DataFrame() #создали таблицу для сохранения нужных данных\n",
    "\n",
    "debt_by_children['people_in_category'] = data['children'].value_counts()\n",
    "#посчитали, у скольких людей из таблицы заданное количество детей\n",
    "debt_by_children['debtors'] = data['children'][data['debt']==1].value_counts()\n",
    "#посчитали, у скольких людей в каждой группе есть задолженность по кредиту\n",
    "debt_by_children['debtors_percent'] = debt_by_children['debtors']/debt_by_children['people_in_category']*100\n",
    "#вычислили, какой процент людей в каждой группе имеет задолженность по кредиту\n",
    "\n",
    "display(debt_by_children.sort_values(['debtors_percent'], ascending=False)) \n",
    "#вывели таблицу на экран, отсортировав ее по убыванию доли должников в группе\n"
   ]
  },
  {
   "cell_type": "code",
   "execution_count": 23,
   "id": "e92cfe30",
   "metadata": {},
   "outputs": [
    {
     "name": "stdout",
     "output_type": "stream",
     "text": [
      "0\n"
     ]
    }
   ],
   "source": [
    "#выясним, почему в ячейках ['debtors'] и ['debtors_percent'] значения NaN. \n",
    "\n",
    "print(data.loc[data['children']==5][data['debt']==1].count().sum()) \n",
    "#проверим, есть ли вообще должники среди людей с пятью детьми\n"
   ]
  },
  {
   "cell_type": "code",
   "execution_count": 24,
   "id": "3ea0c00d",
   "metadata": {},
   "outputs": [
    {
     "data": {
      "text/html": [
       "<div>\n",
       "<style scoped>\n",
       "    .dataframe tbody tr th:only-of-type {\n",
       "        vertical-align: middle;\n",
       "    }\n",
       "\n",
       "    .dataframe tbody tr th {\n",
       "        vertical-align: top;\n",
       "    }\n",
       "\n",
       "    .dataframe thead th {\n",
       "        text-align: right;\n",
       "    }\n",
       "</style>\n",
       "<table border=\"1\" class=\"dataframe\">\n",
       "  <thead>\n",
       "    <tr style=\"text-align: right;\">\n",
       "      <th></th>\n",
       "      <th>people_in_category</th>\n",
       "      <th>debtors</th>\n",
       "      <th>debtors_percent</th>\n",
       "    </tr>\n",
       "  </thead>\n",
       "  <tbody>\n",
       "    <tr>\n",
       "      <th>4</th>\n",
       "      <td>41</td>\n",
       "      <td>4.0</td>\n",
       "      <td>9.756098</td>\n",
       "    </tr>\n",
       "    <tr>\n",
       "      <th>2</th>\n",
       "      <td>2052</td>\n",
       "      <td>194.0</td>\n",
       "      <td>9.454191</td>\n",
       "    </tr>\n",
       "    <tr>\n",
       "      <th>1</th>\n",
       "      <td>4809</td>\n",
       "      <td>444.0</td>\n",
       "      <td>9.232689</td>\n",
       "    </tr>\n",
       "    <tr>\n",
       "      <th>3</th>\n",
       "      <td>330</td>\n",
       "      <td>27.0</td>\n",
       "      <td>8.181818</td>\n",
       "    </tr>\n",
       "    <tr>\n",
       "      <th>0</th>\n",
       "      <td>14107</td>\n",
       "      <td>1063.0</td>\n",
       "      <td>7.535266</td>\n",
       "    </tr>\n",
       "    <tr>\n",
       "      <th>5</th>\n",
       "      <td>9</td>\n",
       "      <td>0.0</td>\n",
       "      <td>0.000000</td>\n",
       "    </tr>\n",
       "  </tbody>\n",
       "</table>\n",
       "</div>"
      ],
      "text/plain": [
       "   people_in_category  debtors  debtors_percent\n",
       "4                  41      4.0         9.756098\n",
       "2                2052    194.0         9.454191\n",
       "1                4809    444.0         9.232689\n",
       "3                 330     27.0         8.181818\n",
       "0               14107   1063.0         7.535266\n",
       "5                   9      0.0         0.000000"
      ]
     },
     "metadata": {},
     "output_type": "display_data"
    }
   ],
   "source": [
    "# должников в этой группе нет, тогда заменим значения NaN на 0\n",
    "debt_by_children = debt_by_children.fillna(0)\n",
    "display(debt_by_children.sort_values(['debtors_percent'], ascending=False)) "
   ]
  },
  {
   "cell_type": "markdown",
   "id": "3a6b99ec",
   "metadata": {
    "deletable": false,
    "id": "3a6b99ec"
   },
   "source": [
    "**Вывод:** \n",
    "\n",
    "   Как видно из таблицы, наибольшая доля должников по кредитам в группе людей с четырьмя (9,76%), двумя детьми (9,45%) и одним ребенком (9,23%). В группу людей с четырьмя детьми входит всего 41 человек, я считаю, это слишком маленькая выборка, чтобы основывать на ней свои выводы. При этом выборка по двум другим группам достаточно большая. Чаще всего не выплачивают кредит вовремя люди с двумя детьми.\n",
    "   \n",
    "   Ни у одного человека с пятью детьми, согласно таблице, нет долгов по кредиту, однако эта группа так мала (в нее входит всего 9 человек), что я не стала бы делать на ее основе каких-либо выводов.\n",
    "   \n",
    "   Согласно полученным данным, наиболее надежные заемщики - бездетные. В этой группе 7,5% людей имеют задолженность по кредиту. При этом эта категория самая многочисленная, в ней почти в три раза больше человек, чем в следующей по величине категории. Следовательно, можно сказать, что выборка достаточно большая, чтобы считать результаты репрезентативными.\n",
    "   \n",
    "   \n"
   ]
  },
  {
   "cell_type": "markdown",
   "id": "97be82ca",
   "metadata": {
    "deletable": false,
    "editable": false,
    "id": "97be82ca"
   },
   "source": [
    "**Задание 20. Есть ли зависимость между семейным положением и возвратом кредита в срок?**"
   ]
  },
  {
   "cell_type": "code",
   "execution_count": 25,
   "id": "dc3f7ee8",
   "metadata": {
    "id": "dc3f7ee8"
   },
   "outputs": [
    {
     "data": {
      "text/html": [
       "<div>\n",
       "<style scoped>\n",
       "    .dataframe tbody tr th:only-of-type {\n",
       "        vertical-align: middle;\n",
       "    }\n",
       "\n",
       "    .dataframe tbody tr th {\n",
       "        vertical-align: top;\n",
       "    }\n",
       "\n",
       "    .dataframe thead th {\n",
       "        text-align: right;\n",
       "    }\n",
       "</style>\n",
       "<table border=\"1\" class=\"dataframe\">\n",
       "  <thead>\n",
       "    <tr style=\"text-align: right;\">\n",
       "      <th></th>\n",
       "      <th>people_in_category</th>\n",
       "      <th>debtors</th>\n",
       "      <th>debtors_percent</th>\n",
       "    </tr>\n",
       "  </thead>\n",
       "  <tbody>\n",
       "    <tr>\n",
       "      <th>Не женат / не замужем</th>\n",
       "      <td>2796</td>\n",
       "      <td>273</td>\n",
       "      <td>9.763948</td>\n",
       "    </tr>\n",
       "    <tr>\n",
       "      <th>гражданский брак</th>\n",
       "      <td>4146</td>\n",
       "      <td>385</td>\n",
       "      <td>9.286059</td>\n",
       "    </tr>\n",
       "    <tr>\n",
       "      <th>женат / замужем</th>\n",
       "      <td>12266</td>\n",
       "      <td>927</td>\n",
       "      <td>7.557476</td>\n",
       "    </tr>\n",
       "    <tr>\n",
       "      <th>в разводе</th>\n",
       "      <td>1189</td>\n",
       "      <td>84</td>\n",
       "      <td>7.064760</td>\n",
       "    </tr>\n",
       "    <tr>\n",
       "      <th>вдовец / вдова</th>\n",
       "      <td>951</td>\n",
       "      <td>63</td>\n",
       "      <td>6.624606</td>\n",
       "    </tr>\n",
       "  </tbody>\n",
       "</table>\n",
       "</div>"
      ],
      "text/plain": [
       "                       people_in_category  debtors  debtors_percent\n",
       "Не женат / не замужем                2796      273         9.763948\n",
       "гражданский брак                     4146      385         9.286059\n",
       "женат / замужем                     12266      927         7.557476\n",
       "в разводе                            1189       84         7.064760\n",
       "вдовец / вдова                        951       63         6.624606"
      ]
     },
     "metadata": {},
     "output_type": "display_data"
    }
   ],
   "source": [
    "debt_by_family = pd.DataFrame() #построили таблицу по той же логике, что и в задании 19\n",
    "\n",
    "debt_by_family['people_in_category'] = data['family_status'].value_counts()\n",
    "debt_by_family['debtors'] = data['family_status'][data['debt']==1].value_counts()\n",
    "debt_by_family['debtors_percent'] = debt_by_family['debtors']/debt_by_family['people_in_category']*100\n",
    "\n",
    "display(debt_by_family.sort_values(['debtors_percent'], ascending=False))\n"
   ]
  },
  {
   "cell_type": "markdown",
   "id": "1cef7837",
   "metadata": {
    "deletable": false,
    "id": "1cef7837"
   },
   "source": [
    "**Вывод:** \n",
    "\n",
    "Согласно таблице, чаще всего задолженность по кредиту есть у не женатых/не замужних людей (в 9,76% случаев). На втором месте с отставанием в полпроцента - люди, состоящие в гражданском браке.\n",
    "\n",
    "Наиболее надежными заемщиками по данным таблицы являются вдовцы и вдовы, в этой группе долги есть у 6,62% людей.\n",
    "\n",
    "В целом таблица показала закономерность: люди, не бывшие в официальном браке, допускают задолженность по кредиту чаще, чем люди, состоящие в браке или бывшие в браке в прошлом."
   ]
  },
  {
   "cell_type": "markdown",
   "id": "1e8b2fca",
   "metadata": {
    "deletable": false,
    "editable": false,
    "id": "1e8b2fca"
   },
   "source": [
    "**Задание 21. Есть ли зависимость между уровнем дохода и возвратом кредита в срок?**"
   ]
  },
  {
   "cell_type": "code",
   "execution_count": 26,
   "id": "cd7e3720",
   "metadata": {
    "id": "cd7e3720"
   },
   "outputs": [
    {
     "data": {
      "text/html": [
       "<div>\n",
       "<style scoped>\n",
       "    .dataframe tbody tr th:only-of-type {\n",
       "        vertical-align: middle;\n",
       "    }\n",
       "\n",
       "    .dataframe tbody tr th {\n",
       "        vertical-align: top;\n",
       "    }\n",
       "\n",
       "    .dataframe thead th {\n",
       "        text-align: right;\n",
       "    }\n",
       "</style>\n",
       "<table border=\"1\" class=\"dataframe\">\n",
       "  <thead>\n",
       "    <tr style=\"text-align: right;\">\n",
       "      <th></th>\n",
       "      <th>people_in_category</th>\n",
       "      <th>debtors</th>\n",
       "      <th>debtors_percent</th>\n",
       "    </tr>\n",
       "  </thead>\n",
       "  <tbody>\n",
       "    <tr>\n",
       "      <th>E</th>\n",
       "      <td>22</td>\n",
       "      <td>2</td>\n",
       "      <td>9.090909</td>\n",
       "    </tr>\n",
       "    <tr>\n",
       "      <th>C</th>\n",
       "      <td>15938</td>\n",
       "      <td>1353</td>\n",
       "      <td>8.489145</td>\n",
       "    </tr>\n",
       "    <tr>\n",
       "      <th>A</th>\n",
       "      <td>25</td>\n",
       "      <td>2</td>\n",
       "      <td>8.000000</td>\n",
       "    </tr>\n",
       "    <tr>\n",
       "      <th>B</th>\n",
       "      <td>5014</td>\n",
       "      <td>354</td>\n",
       "      <td>7.060231</td>\n",
       "    </tr>\n",
       "    <tr>\n",
       "      <th>D</th>\n",
       "      <td>349</td>\n",
       "      <td>21</td>\n",
       "      <td>6.017192</td>\n",
       "    </tr>\n",
       "  </tbody>\n",
       "</table>\n",
       "</div>"
      ],
      "text/plain": [
       "   people_in_category  debtors  debtors_percent\n",
       "E                  22        2         9.090909\n",
       "C               15938     1353         8.489145\n",
       "A                  25        2         8.000000\n",
       "B                5014      354         7.060231\n",
       "D                 349       21         6.017192"
      ]
     },
     "metadata": {},
     "output_type": "display_data"
    },
    {
     "data": {
      "text/html": [
       "<div>\n",
       "<style scoped>\n",
       "    .dataframe tbody tr th:only-of-type {\n",
       "        vertical-align: middle;\n",
       "    }\n",
       "\n",
       "    .dataframe tbody tr th {\n",
       "        vertical-align: top;\n",
       "    }\n",
       "\n",
       "    .dataframe thead th {\n",
       "        text-align: right;\n",
       "    }\n",
       "</style>\n",
       "<table border=\"1\" class=\"dataframe\">\n",
       "  <thead>\n",
       "    <tr style=\"text-align: right;\">\n",
       "      <th></th>\n",
       "      <th>category</th>\n",
       "      <th>income</th>\n",
       "    </tr>\n",
       "  </thead>\n",
       "  <tbody>\n",
       "    <tr>\n",
       "      <th>0</th>\n",
       "      <td>E</td>\n",
       "      <td>0–30000</td>\n",
       "    </tr>\n",
       "    <tr>\n",
       "      <th>1</th>\n",
       "      <td>D</td>\n",
       "      <td>30001–50000</td>\n",
       "    </tr>\n",
       "    <tr>\n",
       "      <th>2</th>\n",
       "      <td>C</td>\n",
       "      <td>50001–200000</td>\n",
       "    </tr>\n",
       "    <tr>\n",
       "      <th>3</th>\n",
       "      <td>B</td>\n",
       "      <td>200001–1000000</td>\n",
       "    </tr>\n",
       "    <tr>\n",
       "      <th>4</th>\n",
       "      <td>A</td>\n",
       "      <td>1000001 и выше</td>\n",
       "    </tr>\n",
       "  </tbody>\n",
       "</table>\n",
       "</div>"
      ],
      "text/plain": [
       "  category          income\n",
       "0        E         0–30000\n",
       "1        D     30001–50000\n",
       "2        C    50001–200000\n",
       "3        B  200001–1000000\n",
       "4        A  1000001 и выше"
      ]
     },
     "metadata": {},
     "output_type": "display_data"
    }
   ],
   "source": [
    "debt_by_income = pd.DataFrame() #построили таблицу по той же логике, что и в задании 19 и 20\n",
    "\n",
    "debt_by_income['people_in_category'] = data['total_income_category'].value_counts()\n",
    "debt_by_income['debtors'] = data['total_income_category'][data['debt']==1].value_counts()\n",
    "debt_by_income['debtors_percent'] = debt_by_income['debtors']/debt_by_income['people_in_category']*100\n",
    "\n",
    "display(debt_by_income.sort_values(['debtors_percent'], ascending=False))\n",
    "\n",
    "reference_table = pd.DataFrame() #вывели таблицу с расшифровкой категорий доходов для удобства сравнения\n",
    "columns = ['E', 'D', 'C', 'B', 'A']\n",
    "incomes = ['0–30000', '30001–50000', '50001–200000', '200001–1000000', '1000001 и выше']\n",
    "reference_table['category'] = columns\n",
    "reference_table['income'] = incomes\n",
    "display(reference_table)"
   ]
  },
  {
   "cell_type": "markdown",
   "id": "e8593def",
   "metadata": {
    "deletable": false,
    "id": "e8593def"
   },
   "source": [
    "**Вывод:** \n",
    "\n",
    "Категории Е и А слишком малочисленны, чтобы основывать на них свои выводы.\n",
    "\n",
    "Среди остальных категорий больше всего должников в группе с доходами от 50001 до 200000 рублей ( почти 8,5%). \n",
    "\n",
    "Меньше всего должников (6%) в группе с доходами от 30001 до 50000 рублей.\n",
    "\n",
    "Интересно, что с люди с относительно высоким доходами обращаются за кредитом гораздо чаще, чем с низкими (из 21525 обращений 20952 приходятся на группы В и С - то есть на людей с доходами от 50000 до 1000000).\n"
   ]
  },
  {
   "cell_type": "markdown",
   "id": "99ecbd1f",
   "metadata": {
    "deletable": false,
    "editable": false,
    "id": "99ecbd1f"
   },
   "source": [
    "**Задание 22. Как разные цели кредита влияют на его возврат в срок?**"
   ]
  },
  {
   "cell_type": "code",
   "execution_count": 27,
   "id": "2b687290",
   "metadata": {
    "id": "2b687290"
   },
   "outputs": [
    {
     "data": {
      "text/html": [
       "<div>\n",
       "<style scoped>\n",
       "    .dataframe tbody tr th:only-of-type {\n",
       "        vertical-align: middle;\n",
       "    }\n",
       "\n",
       "    .dataframe tbody tr th {\n",
       "        vertical-align: top;\n",
       "    }\n",
       "\n",
       "    .dataframe thead th {\n",
       "        text-align: right;\n",
       "    }\n",
       "</style>\n",
       "<table border=\"1\" class=\"dataframe\">\n",
       "  <thead>\n",
       "    <tr style=\"text-align: right;\">\n",
       "      <th></th>\n",
       "      <th>people_in_category</th>\n",
       "      <th>debtors</th>\n",
       "      <th>debtors_percent</th>\n",
       "    </tr>\n",
       "  </thead>\n",
       "  <tbody>\n",
       "    <tr>\n",
       "      <th>операции с автомобилем</th>\n",
       "      <td>4281</td>\n",
       "      <td>400</td>\n",
       "      <td>9.343611</td>\n",
       "    </tr>\n",
       "    <tr>\n",
       "      <th>получение образования</th>\n",
       "      <td>3989</td>\n",
       "      <td>369</td>\n",
       "      <td>9.250439</td>\n",
       "    </tr>\n",
       "    <tr>\n",
       "      <th>проведение свадьбы</th>\n",
       "      <td>2324</td>\n",
       "      <td>183</td>\n",
       "      <td>7.874355</td>\n",
       "    </tr>\n",
       "    <tr>\n",
       "      <th>операции с недвижимостью</th>\n",
       "      <td>10754</td>\n",
       "      <td>780</td>\n",
       "      <td>7.253115</td>\n",
       "    </tr>\n",
       "  </tbody>\n",
       "</table>\n",
       "</div>"
      ],
      "text/plain": [
       "                          people_in_category  debtors  debtors_percent\n",
       "операции с автомобилем                  4281      400         9.343611\n",
       "получение образования                   3989      369         9.250439\n",
       "проведение свадьбы                      2324      183         7.874355\n",
       "операции с недвижимостью               10754      780         7.253115"
      ]
     },
     "metadata": {},
     "output_type": "display_data"
    }
   ],
   "source": [
    "debt_by_purpose = pd.DataFrame()\n",
    "\n",
    "debt_by_purpose['people_in_category'] = data['purpose_category'].value_counts()\n",
    "debt_by_purpose['debtors'] = data['purpose_category'][data['debt']==1].value_counts()\n",
    "debt_by_purpose['debtors_percent'] = debt_by_purpose['debtors']/debt_by_purpose['people_in_category']*100\n",
    "\n",
    "display(debt_by_purpose.sort_values(['debtors_percent'], ascending=False))"
   ]
  },
  {
   "cell_type": "markdown",
   "id": "b4bb2ce6",
   "metadata": {
    "deletable": false,
    "id": "b4bb2ce6"
   },
   "source": [
    "**Вывод:** \n",
    "\n",
    "Как показывает таблица, доли должников среди тех, кто обращается за кредитом на операции с авто и образование почти одинаковы (9,34% и 9,25% соответственно), что примерно на 1,5% больше, чем среди тех, кто обращается за кредитом на свадьбу и примерно на 2% больше, чем среди тех, кому нужен кредит на операции с недвижимостью.\n",
    "\n",
    "Следовательно, можно предположить, что вероятность того, что кредит на операции с недвижимостью будет выплачен в срок, наиболее высока, а на операции с автомобилем - наименее высока."
   ]
  },
  {
   "cell_type": "markdown",
   "id": "09c3ac4c",
   "metadata": {
    "deletable": false,
    "editable": false,
    "id": "09c3ac4c"
   },
   "source": [
    "**Задание 23. Приведите возможные причины появления пропусков в исходных данных.**"
   ]
  },
  {
   "cell_type": "markdown",
   "id": "9da2ceda",
   "metadata": {
    "deletable": false,
    "id": "9da2ceda"
   },
   "source": [
    "*Ответ:* \n",
    "\n",
    "В исходной таблице обнаружены пропуски в столбцах 'days_employed' и 'total_income' в 2174 строках. \n",
    "\n",
    "Возможно, данные не записались при составлении таблицы из-за технической ошибки.\n",
    "\n",
    "Также возможно, что потенциальные заемщики сознательно не предоставили информацию о своем стаже и ежемесячном доходе. Например, таким образом они хотели повысить свои шансы на получение кредита (если у них маленький стаж и/или низкий доход)."
   ]
  },
  {
   "cell_type": "markdown",
   "id": "7b0487d6",
   "metadata": {
    "deletable": false,
    "editable": false,
    "id": "7b0487d6"
   },
   "source": [
    "**Задание 24. Объясните, почему заполнить пропуски медианным значением — лучшее решение для количественных переменных.**"
   ]
  },
  {
   "cell_type": "markdown",
   "id": "7ecf2b8e",
   "metadata": {
    "deletable": false,
    "id": "7ecf2b8e"
   },
   "source": [
    "*Ответ:* \n",
    "\n",
    "Иногда ячейки или строки с пропусками можно удалить и не учитывать при расчетах. Однако в нашем случае пропуски имеются в 2174 строках - примерно 10% процентах датасета - это слишком много, не хотелось бы терять так много данных, ведь остальные ячейки этих строк содержат информацию.\n",
    "\n",
    "Поэтому, чтобы не терять эти строки, отсутствующие количественные переменные можно заполнить либо средним арифметическим, либо медианным значением. Медиана предпочтительнее, так как она устойчива к аномальным значениям и выбросам. Так, если в группе есть один человек с крайне высоким или низким доходом, то средний доход по группе будет искажен в большую или меньшую сторону соответственно, и заполнение ячейки таким показателем исказит расчеты. С медианой же такого не произойдет.\n"
   ]
  },
  {
   "cell_type": "markdown",
   "id": "6db5255a",
   "metadata": {
    "deletable": false,
    "editable": false,
    "id": "6db5255a"
   },
   "source": [
    "## Общий вывод."
   ]
  },
  {
   "cell_type": "markdown",
   "id": "bad65432",
   "metadata": {
    "id": "bad65432"
   },
   "source": [
    "Анализ информации о платежеспособности заемщиков выявил следующие результаты.\n",
    "\n",
    "1. Самая многочисленная и одновременно самая ответственная группа заемщиков по количеству детей - бездетные (если не считать группу из 9 человек с пятью детьми).\n",
    "\n",
    "2. Люди, не состоящие в официальном браке, чаще допускают просрочку по кредиту, чем женатые. Наименьшая доля должников при группировке по семейному положению - вдовцы.\n",
    "\n",
    "3. Люди с меньшим доходом реже берут кредит и реже допускают просрочку платежей, чем люди с высоким доходом.\n",
    "\n",
    "4. Наименьший процент должников - среди людей, обращающихся за кредитом на недвижимость, следовательно, вероятность, что такой кредит будет выплачен вовремя, высока.\n",
    "\n",
    "При этом отдельно хочу заметить, что доли должников при любых группировках чаще всего различаются примерно на 1-1,5%, то есть нет какой-то группы, которая кардинально выделялась бы в лучшую или худшую сторону (не считая группы с пятью детьми, о чем я уже упоминала). Следовательно, я считаю, что модель кредитного скоринга, построенная на этих результатах, не всегда будет выдавать верное решение.\n",
    "\n",
    "Если посмотреть на результаты каждого расчета и по ним составить портрет идеального заемщика, то это будет бездетный (или, наоборот, очень многодетный) вдовец с доходом 30000-50000 рублей, который хочет взять ипотеку. Что-то здесь не так."
   ]
  }
 ],
 "metadata": {
  "ExecuteTimeLog": [
   {
    "duration": 460,
    "start_time": "2022-07-14T18:34:01.443Z"
   },
   {
    "duration": 20,
    "start_time": "2022-07-14T18:34:01.904Z"
   },
   {
    "duration": 12,
    "start_time": "2022-07-14T18:34:01.926Z"
   },
   {
    "duration": 11,
    "start_time": "2022-07-14T18:34:01.952Z"
   },
   {
    "duration": 49,
    "start_time": "2022-07-14T18:34:01.965Z"
   },
   {
    "duration": 3,
    "start_time": "2022-07-14T18:34:02.016Z"
   },
   {
    "duration": 13,
    "start_time": "2022-07-14T18:34:02.020Z"
   },
   {
    "duration": 9,
    "start_time": "2022-07-14T18:34:02.035Z"
   },
   {
    "duration": 43,
    "start_time": "2022-07-14T18:34:02.045Z"
   },
   {
    "duration": 13,
    "start_time": "2022-07-14T18:34:02.090Z"
   },
   {
    "duration": 39,
    "start_time": "2022-07-14T18:34:02.104Z"
   },
   {
    "duration": 15,
    "start_time": "2022-07-14T18:34:02.144Z"
   },
   {
    "duration": 24,
    "start_time": "2022-07-14T18:34:02.164Z"
   },
   {
    "duration": 26,
    "start_time": "2022-07-14T18:34:02.190Z"
   },
   {
    "duration": 20,
    "start_time": "2022-07-14T18:34:02.218Z"
   },
   {
    "duration": 12,
    "start_time": "2022-07-14T18:34:02.239Z"
   },
   {
    "duration": 3,
    "start_time": "2022-07-14T18:34:02.256Z"
   },
   {
    "duration": 36,
    "start_time": "2022-07-14T18:34:02.261Z"
   },
   {
    "duration": 21,
    "start_time": "2022-07-14T18:34:02.299Z"
   },
   {
    "duration": 4,
    "start_time": "2022-07-14T18:34:02.322Z"
   },
   {
    "duration": 12,
    "start_time": "2022-07-14T18:34:02.328Z"
   },
   {
    "duration": 11,
    "start_time": "2022-07-14T18:34:02.342Z"
   },
   {
    "duration": 21,
    "start_time": "2022-07-14T18:34:02.365Z"
   },
   {
    "duration": 11,
    "start_time": "2022-07-14T18:34:02.388Z"
   },
   {
    "duration": 6,
    "start_time": "2022-07-14T18:34:02.400Z"
   },
   {
    "duration": 739,
    "start_time": "2022-07-15T09:44:07.993Z"
   },
   {
    "duration": 22,
    "start_time": "2022-07-15T09:44:08.734Z"
   },
   {
    "duration": 15,
    "start_time": "2022-07-15T09:44:08.757Z"
   },
   {
    "duration": 10,
    "start_time": "2022-07-15T09:44:08.774Z"
   },
   {
    "duration": 36,
    "start_time": "2022-07-15T09:44:08.787Z"
   },
   {
    "duration": 4,
    "start_time": "2022-07-15T09:44:08.824Z"
   },
   {
    "duration": 11,
    "start_time": "2022-07-15T09:44:08.829Z"
   },
   {
    "duration": 24,
    "start_time": "2022-07-15T09:44:08.841Z"
   },
   {
    "duration": 9,
    "start_time": "2022-07-15T09:44:08.867Z"
   },
   {
    "duration": 6,
    "start_time": "2022-07-15T09:44:08.878Z"
   },
   {
    "duration": 39,
    "start_time": "2022-07-15T09:44:08.885Z"
   },
   {
    "duration": 14,
    "start_time": "2022-07-15T09:44:08.926Z"
   },
   {
    "duration": 26,
    "start_time": "2022-07-15T09:44:08.946Z"
   },
   {
    "duration": 22,
    "start_time": "2022-07-15T09:44:08.975Z"
   },
   {
    "duration": 19,
    "start_time": "2022-07-15T09:44:08.999Z"
   },
   {
    "duration": 12,
    "start_time": "2022-07-15T09:44:09.020Z"
   },
   {
    "duration": 6,
    "start_time": "2022-07-15T09:44:09.034Z"
   },
   {
    "duration": 31,
    "start_time": "2022-07-15T09:44:09.041Z"
   },
   {
    "duration": 8,
    "start_time": "2022-07-15T09:44:09.074Z"
   },
   {
    "duration": 4,
    "start_time": "2022-07-15T09:44:09.083Z"
   },
   {
    "duration": 15,
    "start_time": "2022-07-15T09:44:09.088Z"
   },
   {
    "duration": 2,
    "start_time": "2022-07-15T09:44:09.105Z"
   },
   {
    "duration": 7,
    "start_time": "2022-07-15T09:44:09.108Z"
   },
   {
    "duration": 5,
    "start_time": "2022-07-15T09:44:09.116Z"
   },
   {
    "duration": 6,
    "start_time": "2022-07-15T09:44:09.122Z"
   },
   {
    "duration": 4,
    "start_time": "2022-07-15T09:52:07.328Z"
   },
   {
    "duration": 8,
    "start_time": "2022-07-15T09:54:51.986Z"
   },
   {
    "duration": 9,
    "start_time": "2022-07-15T09:55:00.722Z"
   },
   {
    "duration": 6,
    "start_time": "2022-07-15T09:55:11.655Z"
   },
   {
    "duration": 76,
    "start_time": "2022-07-15T09:55:35.260Z"
   },
   {
    "duration": 11,
    "start_time": "2022-07-15T09:56:08.851Z"
   },
   {
    "duration": 11,
    "start_time": "2022-07-15T09:56:20.194Z"
   },
   {
    "duration": 3,
    "start_time": "2022-07-15T09:58:33.126Z"
   },
   {
    "duration": 53,
    "start_time": "2022-07-15T10:12:16.346Z"
   },
   {
    "duration": 4,
    "start_time": "2022-07-15T10:12:26.923Z"
   },
   {
    "duration": 14,
    "start_time": "2022-07-15T10:13:38.084Z"
   },
   {
    "duration": 628,
    "start_time": "2022-07-15T10:14:04.281Z"
   },
   {
    "duration": 72,
    "start_time": "2022-07-15T10:15:04.538Z"
   },
   {
    "duration": 12,
    "start_time": "2022-07-15T10:15:12.129Z"
   },
   {
    "duration": 52,
    "start_time": "2022-07-15T10:15:46.395Z"
   },
   {
    "duration": 15,
    "start_time": "2022-07-15T10:15:52.658Z"
   },
   {
    "duration": 12,
    "start_time": "2022-07-15T10:16:19.119Z"
   },
   {
    "duration": 11,
    "start_time": "2022-07-15T10:16:38.624Z"
   },
   {
    "duration": 59,
    "start_time": "2022-07-15T10:18:11.267Z"
   },
   {
    "duration": 12,
    "start_time": "2022-07-15T10:18:21.980Z"
   },
   {
    "duration": 713,
    "start_time": "2022-07-15T10:18:31.062Z"
   },
   {
    "duration": 665,
    "start_time": "2022-07-15T10:18:44.481Z"
   },
   {
    "duration": 22,
    "start_time": "2022-07-15T10:19:13.202Z"
   },
   {
    "duration": 10,
    "start_time": "2022-07-15T10:19:26.418Z"
   },
   {
    "duration": 17,
    "start_time": "2022-07-15T10:19:48.359Z"
   },
   {
    "duration": 558,
    "start_time": "2022-07-15T10:20:11.571Z"
   },
   {
    "duration": 649,
    "start_time": "2022-07-15T10:20:58.687Z"
   },
   {
    "duration": 16,
    "start_time": "2022-07-15T10:21:05.947Z"
   },
   {
    "duration": 10,
    "start_time": "2022-07-15T10:21:26.994Z"
   },
   {
    "duration": 23,
    "start_time": "2022-07-15T10:22:16.378Z"
   },
   {
    "duration": 17,
    "start_time": "2022-07-15T10:22:28.814Z"
   },
   {
    "duration": 3,
    "start_time": "2022-07-15T10:29:29.026Z"
   },
   {
    "duration": 5,
    "start_time": "2022-07-15T10:29:34.217Z"
   },
   {
    "duration": 12,
    "start_time": "2022-07-15T10:29:49.018Z"
   },
   {
    "duration": 15,
    "start_time": "2022-07-15T10:41:12.235Z"
   },
   {
    "duration": 10,
    "start_time": "2022-07-15T10:41:30.323Z"
   },
   {
    "duration": 3,
    "start_time": "2022-07-15T10:42:31.628Z"
   },
   {
    "duration": 27,
    "start_time": "2022-07-15T10:42:59.348Z"
   },
   {
    "duration": 22,
    "start_time": "2022-07-15T10:50:37.392Z"
   },
   {
    "duration": 7,
    "start_time": "2022-07-15T11:50:32.348Z"
   },
   {
    "duration": 7,
    "start_time": "2022-07-15T11:51:13.092Z"
   },
   {
    "duration": 7,
    "start_time": "2022-07-15T11:52:28.342Z"
   },
   {
    "duration": 29,
    "start_time": "2022-07-15T11:53:20.654Z"
   },
   {
    "duration": 4,
    "start_time": "2022-07-15T11:53:58.455Z"
   },
   {
    "duration": 11,
    "start_time": "2022-07-15T11:54:14.790Z"
   },
   {
    "duration": 30,
    "start_time": "2022-07-15T12:05:23.702Z"
   },
   {
    "duration": 12,
    "start_time": "2022-07-15T12:07:08.444Z"
   },
   {
    "duration": 13,
    "start_time": "2022-07-15T12:08:44.177Z"
   },
   {
    "duration": 13,
    "start_time": "2022-07-15T12:08:57.577Z"
   },
   {
    "duration": 23,
    "start_time": "2022-07-15T12:09:26.963Z"
   },
   {
    "duration": 708,
    "start_time": "2022-07-16T09:46:22.474Z"
   },
   {
    "duration": 22,
    "start_time": "2022-07-16T09:46:23.186Z"
   },
   {
    "duration": 17,
    "start_time": "2022-07-16T09:46:23.209Z"
   },
   {
    "duration": 9,
    "start_time": "2022-07-16T09:46:23.228Z"
   },
   {
    "duration": 42,
    "start_time": "2022-07-16T09:46:23.238Z"
   },
   {
    "duration": 3,
    "start_time": "2022-07-16T09:46:23.282Z"
   },
   {
    "duration": 12,
    "start_time": "2022-07-16T09:46:23.286Z"
   },
   {
    "duration": 4,
    "start_time": "2022-07-16T09:46:23.300Z"
   },
   {
    "duration": 8,
    "start_time": "2022-07-16T09:46:23.306Z"
   },
   {
    "duration": 3,
    "start_time": "2022-07-16T09:46:23.317Z"
   },
   {
    "duration": 66,
    "start_time": "2022-07-16T09:46:23.322Z"
   },
   {
    "duration": 10,
    "start_time": "2022-07-16T09:46:23.390Z"
   },
   {
    "duration": 7,
    "start_time": "2022-07-16T09:46:23.402Z"
   },
   {
    "duration": 22,
    "start_time": "2022-07-16T09:46:23.411Z"
   },
   {
    "duration": 39,
    "start_time": "2022-07-16T09:46:23.435Z"
   },
   {
    "duration": 14,
    "start_time": "2022-07-16T09:46:23.476Z"
   },
   {
    "duration": 11,
    "start_time": "2022-07-16T09:46:23.491Z"
   },
   {
    "duration": 18,
    "start_time": "2022-07-16T09:46:23.505Z"
   },
   {
    "duration": 7,
    "start_time": "2022-07-16T09:46:23.525Z"
   },
   {
    "duration": 4,
    "start_time": "2022-07-16T09:46:23.533Z"
   },
   {
    "duration": 29,
    "start_time": "2022-07-16T09:46:23.538Z"
   },
   {
    "duration": 24,
    "start_time": "2022-07-16T09:46:23.569Z"
   },
   {
    "duration": 2,
    "start_time": "2022-07-16T09:46:23.594Z"
   },
   {
    "duration": 5,
    "start_time": "2022-07-16T09:46:23.598Z"
   },
   {
    "duration": 7,
    "start_time": "2022-07-16T09:46:23.604Z"
   },
   {
    "duration": 14,
    "start_time": "2022-07-16T09:50:30.622Z"
   },
   {
    "duration": 12,
    "start_time": "2022-07-16T09:52:45.484Z"
   },
   {
    "duration": 12,
    "start_time": "2022-07-16T09:54:52.675Z"
   },
   {
    "duration": 13,
    "start_time": "2022-07-16T09:59:30.813Z"
   },
   {
    "duration": 14,
    "start_time": "2022-07-16T10:02:19.650Z"
   },
   {
    "duration": 11,
    "start_time": "2022-07-16T11:52:52.765Z"
   },
   {
    "duration": 12,
    "start_time": "2022-07-16T11:54:04.050Z"
   },
   {
    "duration": 13,
    "start_time": "2022-07-16T11:54:43.416Z"
   },
   {
    "duration": 67,
    "start_time": "2022-07-16T12:00:09.109Z"
   },
   {
    "duration": 12,
    "start_time": "2022-07-16T12:00:28.557Z"
   },
   {
    "duration": 12,
    "start_time": "2022-07-16T12:00:49.684Z"
   },
   {
    "duration": 13,
    "start_time": "2022-07-16T12:01:33.955Z"
   },
   {
    "duration": 14,
    "start_time": "2022-07-16T12:01:48.023Z"
   },
   {
    "duration": 13,
    "start_time": "2022-07-16T12:02:15.359Z"
   },
   {
    "duration": 13,
    "start_time": "2022-07-16T12:38:25.021Z"
   },
   {
    "duration": 16,
    "start_time": "2022-07-16T12:41:46.349Z"
   },
   {
    "duration": 14,
    "start_time": "2022-07-16T12:44:01.894Z"
   },
   {
    "duration": 14,
    "start_time": "2022-07-16T12:45:10.748Z"
   },
   {
    "duration": 17,
    "start_time": "2022-07-16T12:45:19.509Z"
   },
   {
    "duration": 19,
    "start_time": "2022-07-16T12:45:44.490Z"
   },
   {
    "duration": 18,
    "start_time": "2022-07-16T12:49:21.082Z"
   },
   {
    "duration": 13,
    "start_time": "2022-07-16T12:49:38.154Z"
   },
   {
    "duration": 14,
    "start_time": "2022-07-16T12:50:42.251Z"
   },
   {
    "duration": 13,
    "start_time": "2022-07-16T12:51:00.950Z"
   },
   {
    "duration": 16,
    "start_time": "2022-07-16T12:54:48.595Z"
   },
   {
    "duration": 6,
    "start_time": "2022-07-16T14:02:34.412Z"
   },
   {
    "duration": 9,
    "start_time": "2022-07-16T14:04:14.064Z"
   },
   {
    "duration": 15,
    "start_time": "2022-07-16T14:13:13.041Z"
   },
   {
    "duration": 13,
    "start_time": "2022-07-16T15:16:25.646Z"
   },
   {
    "duration": 15,
    "start_time": "2022-07-16T15:16:30.284Z"
   },
   {
    "duration": 27,
    "start_time": "2022-07-16T15:25:54.680Z"
   },
   {
    "duration": 19,
    "start_time": "2022-07-16T15:26:09.150Z"
   },
   {
    "duration": 23,
    "start_time": "2022-07-16T15:27:17.823Z"
   },
   {
    "duration": 22,
    "start_time": "2022-07-16T15:40:56.826Z"
   },
   {
    "duration": 21,
    "start_time": "2022-07-16T16:20:44.020Z"
   },
   {
    "duration": 19,
    "start_time": "2022-07-16T16:20:50.055Z"
   },
   {
    "duration": 23,
    "start_time": "2022-07-16T16:21:11.582Z"
   },
   {
    "duration": 19,
    "start_time": "2022-07-16T16:21:17.813Z"
   },
   {
    "duration": 21,
    "start_time": "2022-07-16T16:22:10.465Z"
   },
   {
    "duration": 19,
    "start_time": "2022-07-16T16:22:37.687Z"
   },
   {
    "duration": 9,
    "start_time": "2022-07-16T16:29:52.687Z"
   },
   {
    "duration": 11,
    "start_time": "2022-07-16T16:30:01.689Z"
   },
   {
    "duration": 6,
    "start_time": "2022-07-16T16:30:17.069Z"
   },
   {
    "duration": 5,
    "start_time": "2022-07-16T16:30:27.109Z"
   },
   {
    "duration": 18,
    "start_time": "2022-07-16T16:31:25.682Z"
   },
   {
    "duration": 534,
    "start_time": "2022-07-16T16:58:50.850Z"
   },
   {
    "duration": 34,
    "start_time": "2022-07-16T16:58:51.387Z"
   },
   {
    "duration": 19,
    "start_time": "2022-07-16T16:58:51.423Z"
   },
   {
    "duration": 37,
    "start_time": "2022-07-16T16:58:51.444Z"
   },
   {
    "duration": 40,
    "start_time": "2022-07-16T16:58:51.484Z"
   },
   {
    "duration": 4,
    "start_time": "2022-07-16T16:58:51.526Z"
   },
   {
    "duration": 13,
    "start_time": "2022-07-16T16:58:51.532Z"
   },
   {
    "duration": 31,
    "start_time": "2022-07-16T16:58:51.547Z"
   },
   {
    "duration": 10,
    "start_time": "2022-07-16T16:58:51.584Z"
   },
   {
    "duration": 7,
    "start_time": "2022-07-16T16:58:51.596Z"
   },
   {
    "duration": 36,
    "start_time": "2022-07-16T16:58:51.604Z"
   },
   {
    "duration": 11,
    "start_time": "2022-07-16T16:58:51.641Z"
   },
   {
    "duration": 9,
    "start_time": "2022-07-16T16:58:51.654Z"
   },
   {
    "duration": 44,
    "start_time": "2022-07-16T16:58:51.666Z"
   },
   {
    "duration": 16,
    "start_time": "2022-07-16T16:58:51.712Z"
   },
   {
    "duration": 11,
    "start_time": "2022-07-16T16:58:51.730Z"
   },
   {
    "duration": 23,
    "start_time": "2022-07-16T16:58:51.743Z"
   },
   {
    "duration": 27,
    "start_time": "2022-07-16T16:58:51.769Z"
   },
   {
    "duration": 13,
    "start_time": "2022-07-16T16:58:51.798Z"
   },
   {
    "duration": 4,
    "start_time": "2022-07-16T16:58:51.813Z"
   },
   {
    "duration": 13,
    "start_time": "2022-07-16T16:58:51.819Z"
   },
   {
    "duration": 19,
    "start_time": "2022-07-16T16:58:51.833Z"
   },
   {
    "duration": 18,
    "start_time": "2022-07-16T16:58:51.855Z"
   },
   {
    "duration": 20,
    "start_time": "2022-07-16T16:58:51.879Z"
   },
   {
    "duration": 35,
    "start_time": "2022-07-16T16:58:51.901Z"
   },
   {
    "duration": 33,
    "start_time": "2022-07-16T16:58:51.938Z"
   },
   {
    "duration": 19,
    "start_time": "2022-07-16T16:58:51.974Z"
   },
   {
    "duration": 501,
    "start_time": "2022-07-16T17:03:42.057Z"
   },
   {
    "duration": 32,
    "start_time": "2022-07-16T17:03:42.560Z"
   },
   {
    "duration": 27,
    "start_time": "2022-07-16T17:03:42.594Z"
   },
   {
    "duration": 13,
    "start_time": "2022-07-16T17:03:42.625Z"
   },
   {
    "duration": 64,
    "start_time": "2022-07-16T17:03:42.640Z"
   },
   {
    "duration": 20,
    "start_time": "2022-07-16T17:03:42.706Z"
   },
   {
    "duration": 71,
    "start_time": "2022-07-16T17:03:42.728Z"
   },
   {
    "duration": 38,
    "start_time": "2022-07-16T17:03:42.804Z"
   },
   {
    "duration": 49,
    "start_time": "2022-07-16T17:03:42.845Z"
   },
   {
    "duration": 5,
    "start_time": "2022-07-16T17:03:42.898Z"
   },
   {
    "duration": 52,
    "start_time": "2022-07-16T17:03:42.905Z"
   },
   {
    "duration": 14,
    "start_time": "2022-07-16T17:03:42.959Z"
   },
   {
    "duration": 25,
    "start_time": "2022-07-16T17:03:42.976Z"
   },
   {
    "duration": 46,
    "start_time": "2022-07-16T17:03:43.004Z"
   },
   {
    "duration": 29,
    "start_time": "2022-07-16T17:03:43.052Z"
   },
   {
    "duration": 31,
    "start_time": "2022-07-16T17:03:43.083Z"
   },
   {
    "duration": 16,
    "start_time": "2022-07-16T17:03:43.116Z"
   },
   {
    "duration": 14,
    "start_time": "2022-07-16T17:03:43.134Z"
   },
   {
    "duration": 12,
    "start_time": "2022-07-16T17:03:43.149Z"
   },
   {
    "duration": 30,
    "start_time": "2022-07-16T17:03:43.163Z"
   },
   {
    "duration": 18,
    "start_time": "2022-07-16T17:03:43.195Z"
   },
   {
    "duration": 24,
    "start_time": "2022-07-16T17:03:43.216Z"
   },
   {
    "duration": 10,
    "start_time": "2022-07-16T17:03:43.241Z"
   },
   {
    "duration": 19,
    "start_time": "2022-07-16T17:03:43.253Z"
   },
   {
    "duration": 37,
    "start_time": "2022-07-16T17:03:43.276Z"
   },
   {
    "duration": 28,
    "start_time": "2022-07-16T17:03:43.316Z"
   },
   {
    "duration": 25,
    "start_time": "2022-07-16T17:03:43.347Z"
   },
   {
    "duration": 26,
    "start_time": "2022-07-16T17:07:53.945Z"
   },
   {
    "duration": 20,
    "start_time": "2022-07-16T17:10:04.997Z"
   },
   {
    "duration": 488,
    "start_time": "2022-07-16T17:50:41.459Z"
   },
   {
    "duration": 28,
    "start_time": "2022-07-16T17:50:41.949Z"
   },
   {
    "duration": 36,
    "start_time": "2022-07-16T17:50:41.979Z"
   },
   {
    "duration": 23,
    "start_time": "2022-07-16T17:50:42.017Z"
   },
   {
    "duration": 63,
    "start_time": "2022-07-16T17:50:42.041Z"
   },
   {
    "duration": 4,
    "start_time": "2022-07-16T17:50:42.105Z"
   },
   {
    "duration": 27,
    "start_time": "2022-07-16T17:50:42.110Z"
   },
   {
    "duration": 19,
    "start_time": "2022-07-16T17:50:42.138Z"
   },
   {
    "duration": 33,
    "start_time": "2022-07-16T17:50:42.159Z"
   },
   {
    "duration": 15,
    "start_time": "2022-07-16T17:50:42.196Z"
   },
   {
    "duration": 42,
    "start_time": "2022-07-16T17:50:42.213Z"
   },
   {
    "duration": 27,
    "start_time": "2022-07-16T17:50:42.257Z"
   },
   {
    "duration": 26,
    "start_time": "2022-07-16T17:50:42.286Z"
   },
   {
    "duration": 27,
    "start_time": "2022-07-16T17:50:42.314Z"
   },
   {
    "duration": 16,
    "start_time": "2022-07-16T17:50:42.343Z"
   },
   {
    "duration": 18,
    "start_time": "2022-07-16T17:50:42.364Z"
   },
   {
    "duration": 7,
    "start_time": "2022-07-16T17:50:42.383Z"
   },
   {
    "duration": 12,
    "start_time": "2022-07-16T17:50:42.391Z"
   },
   {
    "duration": 5,
    "start_time": "2022-07-16T17:50:42.404Z"
   },
   {
    "duration": 3,
    "start_time": "2022-07-16T17:50:42.411Z"
   },
   {
    "duration": 11,
    "start_time": "2022-07-16T17:50:42.415Z"
   },
   {
    "duration": 52,
    "start_time": "2022-07-16T17:50:42.427Z"
   },
   {
    "duration": 9,
    "start_time": "2022-07-16T17:50:42.481Z"
   },
   {
    "duration": 9,
    "start_time": "2022-07-16T17:50:42.492Z"
   },
   {
    "duration": 14,
    "start_time": "2022-07-16T17:50:42.503Z"
   },
   {
    "duration": 49,
    "start_time": "2022-07-16T17:50:42.518Z"
   },
   {
    "duration": 20,
    "start_time": "2022-07-16T17:50:42.572Z"
   },
   {
    "duration": 585,
    "start_time": "2022-07-16T18:10:12.919Z"
   },
   {
    "duration": 61,
    "start_time": "2022-07-16T18:10:13.507Z"
   },
   {
    "duration": 26,
    "start_time": "2022-07-16T18:10:13.570Z"
   },
   {
    "duration": 23,
    "start_time": "2022-07-16T18:10:13.599Z"
   },
   {
    "duration": 75,
    "start_time": "2022-07-16T18:10:13.625Z"
   },
   {
    "duration": 5,
    "start_time": "2022-07-16T18:10:13.702Z"
   },
   {
    "duration": 17,
    "start_time": "2022-07-16T18:10:13.709Z"
   },
   {
    "duration": 5,
    "start_time": "2022-07-16T18:10:13.728Z"
   },
   {
    "duration": 30,
    "start_time": "2022-07-16T18:10:13.735Z"
   },
   {
    "duration": 16,
    "start_time": "2022-07-16T18:10:13.767Z"
   },
   {
    "duration": 68,
    "start_time": "2022-07-16T18:10:13.785Z"
   },
   {
    "duration": 16,
    "start_time": "2022-07-16T18:10:13.855Z"
   },
   {
    "duration": 26,
    "start_time": "2022-07-16T18:10:13.874Z"
   },
   {
    "duration": 34,
    "start_time": "2022-07-16T18:10:13.904Z"
   },
   {
    "duration": 30,
    "start_time": "2022-07-16T18:10:13.940Z"
   },
   {
    "duration": 18,
    "start_time": "2022-07-16T18:10:13.973Z"
   },
   {
    "duration": 8,
    "start_time": "2022-07-16T18:10:13.994Z"
   },
   {
    "duration": 21,
    "start_time": "2022-07-16T18:10:14.006Z"
   },
   {
    "duration": 20,
    "start_time": "2022-07-16T18:10:14.030Z"
   },
   {
    "duration": 5,
    "start_time": "2022-07-16T18:10:14.062Z"
   },
   {
    "duration": 19,
    "start_time": "2022-07-16T18:10:14.069Z"
   },
   {
    "duration": 22,
    "start_time": "2022-07-16T18:10:14.091Z"
   },
   {
    "duration": 21,
    "start_time": "2022-07-16T18:10:14.115Z"
   },
   {
    "duration": 34,
    "start_time": "2022-07-16T18:10:14.138Z"
   },
   {
    "duration": 23,
    "start_time": "2022-07-16T18:10:14.174Z"
   },
   {
    "duration": 29,
    "start_time": "2022-07-16T18:10:14.199Z"
   },
   {
    "duration": 50,
    "start_time": "2022-07-16T18:10:14.230Z"
   }
  ],
  "colab": {
   "name": "dpp_template_part2.ipynb",
   "provenance": []
  },
  "kernelspec": {
   "display_name": "Python 3 (ipykernel)",
   "language": "python",
   "name": "python3"
  },
  "language_info": {
   "codemirror_mode": {
    "name": "ipython",
    "version": 3
   },
   "file_extension": ".py",
   "mimetype": "text/x-python",
   "name": "python",
   "nbconvert_exporter": "python",
   "pygments_lexer": "ipython3",
   "version": "3.11.0"
  },
  "toc": {
   "base_numbering": 1,
   "nav_menu": {},
   "number_sections": true,
   "sideBar": true,
   "skip_h1_title": true,
   "title_cell": "Table of Contents",
   "title_sidebar": "Contents",
   "toc_cell": false,
   "toc_position": {},
   "toc_section_display": true,
   "toc_window_display": false
  }
 },
 "nbformat": 4,
 "nbformat_minor": 5
}
