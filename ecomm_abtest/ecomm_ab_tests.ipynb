{
 "cells": [
  {
   "cell_type": "markdown",
   "metadata": {},
   "source": [
    "# Приоритизация гипотез и А/В тестирование для интернет-магазина"
   ]
  },
  {
   "cell_type": "markdown",
   "metadata": {},
   "source": [
    "##  Введение"
   ]
  },
  {
   "cell_type": "markdown",
   "metadata": {},
   "source": [
    "### Описание данных"
   ]
  },
  {
   "cell_type": "markdown",
   "metadata": {},
   "source": [
    "Мы получили для анализа три таблицы. \n",
    "\n",
    "1) Файл с гипотезами по увеличению выручки интернет-магазина.\n",
    "- Hypothesis — краткое описание гипотезы;\n",
    "- Reach — охват пользователей по 10-балльной шкале;\n",
    "- Impact — влияние на пользователей по 10-балльной шкале;\n",
    "- Confidence — уверенность в гипотезе по 10-балльной шкале;\n",
    "- Efforts — затраты ресурсов на проверку гипотезы по 10-балльной шкале. Чем больше значение Efforts, тем дороже проверка гипотезы.\n",
    "\n",
    "2) Файл с данными о заказах.\n",
    "- transactionId — идентификатор заказа;\n",
    "- visitorId — идентификатор пользователя, совершившего заказ;\n",
    "- date — дата, когда был совершён заказ;\n",
    "- revenue — выручка заказа;\n",
    "- group — группа A/B-теста, в которую попал заказ.\n",
    "\n",
    "3) Файл с данными о посещениях сайта в конкретную дату.\n",
    "- date — дата;\n",
    "- group — группа A/B-теста;\n",
    "- visitors — количество пользователей в указанную дату в указанной группе A/B-теста."
   ]
  },
  {
   "cell_type": "markdown",
   "metadata": {},
   "source": [
    "### Задача исследования"
   ]
  },
  {
   "cell_type": "markdown",
   "metadata": {},
   "source": [
    "Приоритизировать гипотезы по увеличению выручки интернет-магазина, запустить A/B-тест и проанализировать его результаты. По итогам анализа принять решение: \n",
    "1. Остановить тест, зафиксировать победу одной из групп. \n",
    "2. Остановить тест, зафиксировать отсутствие различий между группами. \n",
    "3. Продолжить тест."
   ]
  },
  {
   "cell_type": "markdown",
   "metadata": {},
   "source": [
    "###  Шаги исследования"
   ]
  },
  {
   "cell_type": "markdown",
   "metadata": {},
   "source": [
    "1. Применить фреймворки ICE и RICE для приоритизации гипотез, отсортировать их по убыванию приоритета. Указать, как изменилась приоритизация гипотез при применении RICE вместо ICE и объяснить, почему так произошло.\n",
    "\n",
    "2. Проанализировать результаты А/В теста.\n",
    "    1) Построить графики:\n",
    "        - кумулятивной выручки по группам\n",
    "        - кумулятивного среднего чека по группам\n",
    "        - относительного изменения кумулятивного среднего чека группы B к группе A\n",
    "        - кумулятивного среднего количества заказов по группам\n",
    "        - относительного изменения кумулятивного среднего количества заказов группы B к группе A\n",
    "        - точечный график количества заказов по пользователям\n",
    "        - точечный график стоимостей заказов\n",
    "       Сделать выводы и предположения по каждому из них\n",
    "       \n",
    "    2) Посчитать 95-й и 99-й перцентили количества заказов на пользователя и стоимости заказов. Выбрать границу для определения аномальных пользователей и заказов.\n",
    "\n",
    "    3) Посчитать статистическую значимость различий:\n",
    "        - в среднем количестве заказов между группами по «сырым» данным\n",
    "        - в среднем чеке заказа между группами по «сырым» данным\n",
    "        - в среднем количестве заказов между группами по «очищенным» данным\n",
    "        - в среднем чеке заказа между группами по «очищенным» данным\n",
    "       Сделать выводы и предположения по каждому пункту\n",
    "\n",
    "    3) Принять решение по результатам теста и объяснить его."
   ]
  },
  {
   "cell_type": "markdown",
   "metadata": {},
   "source": [
    "## Подготовка данных"
   ]
  },
  {
   "cell_type": "code",
   "execution_count": 1,
   "metadata": {},
   "outputs": [],
   "source": [
    "# импортируем нужные библиотеки\n",
    "\n",
    "import pandas as pd\n",
    "import scipy.stats as stats\n",
    "import datetime as dt\n",
    "import numpy as np\n",
    "import matplotlib.pyplot as plt"
   ]
  },
  {
   "cell_type": "code",
   "execution_count": 2,
   "metadata": {},
   "outputs": [],
   "source": [
    "# загрузим данные\n",
    "\n",
    "hypos = pd.read_csv(r\"C:\\Users\\bonny\\Desktop\\мои_проекты_практикум\\проект_7_а_в_тесты\\hypothesis.csv\")\n",
    "orders = pd.read_csv(r\"C:\\Users\\bonny\\Desktop\\мои_проекты_практикум\\проект_7_а_в_тесты\\orders.csv\") \n",
    "visitors = pd.read_csv(r\"C:\\Users\\bonny\\Desktop\\мои_проекты_практикум\\проект_7_а_в_тесты\\visitors.csv\")"
   ]
  },
  {
   "cell_type": "code",
   "execution_count": 3,
   "metadata": {},
   "outputs": [
    {
     "data": {
      "text/html": [
       "<div>\n",
       "<style scoped>\n",
       "    .dataframe tbody tr th:only-of-type {\n",
       "        vertical-align: middle;\n",
       "    }\n",
       "\n",
       "    .dataframe tbody tr th {\n",
       "        vertical-align: top;\n",
       "    }\n",
       "\n",
       "    .dataframe thead th {\n",
       "        text-align: right;\n",
       "    }\n",
       "</style>\n",
       "<table border=\"1\" class=\"dataframe\">\n",
       "  <thead>\n",
       "    <tr style=\"text-align: right;\">\n",
       "      <th></th>\n",
       "      <th>Hypothesis</th>\n",
       "      <th>Reach</th>\n",
       "      <th>Impact</th>\n",
       "      <th>Confidence</th>\n",
       "      <th>Efforts</th>\n",
       "    </tr>\n",
       "  </thead>\n",
       "  <tbody>\n",
       "    <tr>\n",
       "      <th>0</th>\n",
       "      <td>Добавить два новых канала привлечения трафика,...</td>\n",
       "      <td>3</td>\n",
       "      <td>10</td>\n",
       "      <td>8</td>\n",
       "      <td>6</td>\n",
       "    </tr>\n",
       "    <tr>\n",
       "      <th>1</th>\n",
       "      <td>Запустить собственную службу доставки, что сок...</td>\n",
       "      <td>2</td>\n",
       "      <td>5</td>\n",
       "      <td>4</td>\n",
       "      <td>10</td>\n",
       "    </tr>\n",
       "    <tr>\n",
       "      <th>2</th>\n",
       "      <td>Добавить блоки рекомендаций товаров на сайт ин...</td>\n",
       "      <td>8</td>\n",
       "      <td>3</td>\n",
       "      <td>7</td>\n",
       "      <td>3</td>\n",
       "    </tr>\n",
       "    <tr>\n",
       "      <th>3</th>\n",
       "      <td>Изменить структура категорий, что увеличит кон...</td>\n",
       "      <td>8</td>\n",
       "      <td>3</td>\n",
       "      <td>3</td>\n",
       "      <td>8</td>\n",
       "    </tr>\n",
       "    <tr>\n",
       "      <th>4</th>\n",
       "      <td>Изменить цвет фона главной страницы, чтобы уве...</td>\n",
       "      <td>3</td>\n",
       "      <td>1</td>\n",
       "      <td>1</td>\n",
       "      <td>1</td>\n",
       "    </tr>\n",
       "    <tr>\n",
       "      <th>5</th>\n",
       "      <td>Добавить страницу отзывов клиентов о магазине,...</td>\n",
       "      <td>3</td>\n",
       "      <td>2</td>\n",
       "      <td>2</td>\n",
       "      <td>3</td>\n",
       "    </tr>\n",
       "    <tr>\n",
       "      <th>6</th>\n",
       "      <td>Показать на главной странице баннеры с актуаль...</td>\n",
       "      <td>5</td>\n",
       "      <td>3</td>\n",
       "      <td>8</td>\n",
       "      <td>3</td>\n",
       "    </tr>\n",
       "    <tr>\n",
       "      <th>7</th>\n",
       "      <td>Добавить форму подписки на все основные страни...</td>\n",
       "      <td>10</td>\n",
       "      <td>7</td>\n",
       "      <td>8</td>\n",
       "      <td>5</td>\n",
       "    </tr>\n",
       "    <tr>\n",
       "      <th>8</th>\n",
       "      <td>Запустить акцию, дающую скидку на товар в день...</td>\n",
       "      <td>1</td>\n",
       "      <td>9</td>\n",
       "      <td>9</td>\n",
       "      <td>5</td>\n",
       "    </tr>\n",
       "  </tbody>\n",
       "</table>\n",
       "</div>"
      ],
      "text/plain": [
       "                                          Hypothesis  Reach  Impact  \\\n",
       "0  Добавить два новых канала привлечения трафика,...      3      10   \n",
       "1  Запустить собственную службу доставки, что сок...      2       5   \n",
       "2  Добавить блоки рекомендаций товаров на сайт ин...      8       3   \n",
       "3  Изменить структура категорий, что увеличит кон...      8       3   \n",
       "4  Изменить цвет фона главной страницы, чтобы уве...      3       1   \n",
       "5  Добавить страницу отзывов клиентов о магазине,...      3       2   \n",
       "6  Показать на главной странице баннеры с актуаль...      5       3   \n",
       "7  Добавить форму подписки на все основные страни...     10       7   \n",
       "8  Запустить акцию, дающую скидку на товар в день...      1       9   \n",
       "\n",
       "   Confidence  Efforts  \n",
       "0           8        6  \n",
       "1           4       10  \n",
       "2           7        3  \n",
       "3           3        8  \n",
       "4           1        1  \n",
       "5           2        3  \n",
       "6           8        3  \n",
       "7           8        5  \n",
       "8           9        5  "
      ]
     },
     "execution_count": 3,
     "metadata": {},
     "output_type": "execute_result"
    }
   ],
   "source": [
    "hypos.head(10) # изучим таблицу с гипотезами"
   ]
  },
  {
   "cell_type": "code",
   "execution_count": 4,
   "metadata": {},
   "outputs": [],
   "source": [
    "hypos.columns = hypos.columns.str.lower() # приведем названия столбцов к нижнему регистру"
   ]
  },
  {
   "cell_type": "code",
   "execution_count": 5,
   "metadata": {},
   "outputs": [
    {
     "name": "stdout",
     "output_type": "stream",
     "text": [
      "<class 'pandas.core.frame.DataFrame'>\n",
      "RangeIndex: 1197 entries, 0 to 1196\n",
      "Data columns (total 5 columns):\n",
      " #   Column         Non-Null Count  Dtype \n",
      "---  ------         --------------  ----- \n",
      " 0   transactionId  1197 non-null   int64 \n",
      " 1   visitorId      1197 non-null   int64 \n",
      " 2   date           1197 non-null   object\n",
      " 3   revenue        1197 non-null   int64 \n",
      " 4   group          1197 non-null   object\n",
      "dtypes: int64(3), object(2)\n",
      "memory usage: 46.9+ KB\n"
     ]
    },
    {
     "data": {
      "text/html": [
       "<div>\n",
       "<style scoped>\n",
       "    .dataframe tbody tr th:only-of-type {\n",
       "        vertical-align: middle;\n",
       "    }\n",
       "\n",
       "    .dataframe tbody tr th {\n",
       "        vertical-align: top;\n",
       "    }\n",
       "\n",
       "    .dataframe thead th {\n",
       "        text-align: right;\n",
       "    }\n",
       "</style>\n",
       "<table border=\"1\" class=\"dataframe\">\n",
       "  <thead>\n",
       "    <tr style=\"text-align: right;\">\n",
       "      <th></th>\n",
       "      <th>transactionId</th>\n",
       "      <th>visitorId</th>\n",
       "      <th>date</th>\n",
       "      <th>revenue</th>\n",
       "      <th>group</th>\n",
       "    </tr>\n",
       "  </thead>\n",
       "  <tbody>\n",
       "    <tr>\n",
       "      <th>0</th>\n",
       "      <td>3667963787</td>\n",
       "      <td>3312258926</td>\n",
       "      <td>2019-08-15</td>\n",
       "      <td>1650</td>\n",
       "      <td>B</td>\n",
       "    </tr>\n",
       "    <tr>\n",
       "      <th>1</th>\n",
       "      <td>2804400009</td>\n",
       "      <td>3642806036</td>\n",
       "      <td>2019-08-15</td>\n",
       "      <td>730</td>\n",
       "      <td>B</td>\n",
       "    </tr>\n",
       "    <tr>\n",
       "      <th>2</th>\n",
       "      <td>2961555356</td>\n",
       "      <td>4069496402</td>\n",
       "      <td>2019-08-15</td>\n",
       "      <td>400</td>\n",
       "      <td>A</td>\n",
       "    </tr>\n",
       "    <tr>\n",
       "      <th>3</th>\n",
       "      <td>3797467345</td>\n",
       "      <td>1196621759</td>\n",
       "      <td>2019-08-15</td>\n",
       "      <td>9759</td>\n",
       "      <td>B</td>\n",
       "    </tr>\n",
       "    <tr>\n",
       "      <th>4</th>\n",
       "      <td>2282983706</td>\n",
       "      <td>2322279887</td>\n",
       "      <td>2019-08-15</td>\n",
       "      <td>2308</td>\n",
       "      <td>B</td>\n",
       "    </tr>\n",
       "  </tbody>\n",
       "</table>\n",
       "</div>"
      ],
      "text/plain": [
       "   transactionId   visitorId        date  revenue group\n",
       "0     3667963787  3312258926  2019-08-15     1650     B\n",
       "1     2804400009  3642806036  2019-08-15      730     B\n",
       "2     2961555356  4069496402  2019-08-15      400     A\n",
       "3     3797467345  1196621759  2019-08-15     9759     B\n",
       "4     2282983706  2322279887  2019-08-15     2308     B"
      ]
     },
     "execution_count": 5,
     "metadata": {},
     "output_type": "execute_result"
    }
   ],
   "source": [
    "orders.info() # изучим инфо о таблице с заказами и посмотрим на первые 5 ее строк\n",
    "orders.head()"
   ]
  },
  {
   "cell_type": "code",
   "execution_count": 6,
   "metadata": {},
   "outputs": [],
   "source": [
    "orders.columns = ['transaction_id', 'visitor_id', 'date', 'revenue', 'group'] \n",
    "# переименуем столбцы в соответствии с принятым стилем"
   ]
  },
  {
   "cell_type": "code",
   "execution_count": 7,
   "metadata": {},
   "outputs": [],
   "source": [
    "orders['date'] = orders['date'].map(lambda x: dt.datetime.strptime(x, '%Y-%m-%d')) \n",
    "# приведем дату в нужный формат"
   ]
  },
  {
   "cell_type": "code",
   "execution_count": 8,
   "metadata": {},
   "outputs": [
    {
     "data": {
      "text/plain": [
       "0"
      ]
     },
     "execution_count": 8,
     "metadata": {},
     "output_type": "execute_result"
    }
   ],
   "source": [
    "orders.duplicated().sum() # проверим, нет ли в таблице дубликатов"
   ]
  },
  {
   "cell_type": "code",
   "execution_count": 9,
   "metadata": {},
   "outputs": [
    {
     "name": "stdout",
     "output_type": "stream",
     "text": [
      "<class 'pandas.core.frame.DataFrame'>\n",
      "RangeIndex: 62 entries, 0 to 61\n",
      "Data columns (total 3 columns):\n",
      " #   Column    Non-Null Count  Dtype \n",
      "---  ------    --------------  ----- \n",
      " 0   date      62 non-null     object\n",
      " 1   group     62 non-null     object\n",
      " 2   visitors  62 non-null     int64 \n",
      "dtypes: int64(1), object(2)\n",
      "memory usage: 1.6+ KB\n"
     ]
    },
    {
     "data": {
      "text/html": [
       "<div>\n",
       "<style scoped>\n",
       "    .dataframe tbody tr th:only-of-type {\n",
       "        vertical-align: middle;\n",
       "    }\n",
       "\n",
       "    .dataframe tbody tr th {\n",
       "        vertical-align: top;\n",
       "    }\n",
       "\n",
       "    .dataframe thead th {\n",
       "        text-align: right;\n",
       "    }\n",
       "</style>\n",
       "<table border=\"1\" class=\"dataframe\">\n",
       "  <thead>\n",
       "    <tr style=\"text-align: right;\">\n",
       "      <th></th>\n",
       "      <th>date</th>\n",
       "      <th>group</th>\n",
       "      <th>visitors</th>\n",
       "    </tr>\n",
       "  </thead>\n",
       "  <tbody>\n",
       "    <tr>\n",
       "      <th>0</th>\n",
       "      <td>2019-08-01</td>\n",
       "      <td>A</td>\n",
       "      <td>719</td>\n",
       "    </tr>\n",
       "    <tr>\n",
       "      <th>1</th>\n",
       "      <td>2019-08-02</td>\n",
       "      <td>A</td>\n",
       "      <td>619</td>\n",
       "    </tr>\n",
       "    <tr>\n",
       "      <th>2</th>\n",
       "      <td>2019-08-03</td>\n",
       "      <td>A</td>\n",
       "      <td>507</td>\n",
       "    </tr>\n",
       "    <tr>\n",
       "      <th>3</th>\n",
       "      <td>2019-08-04</td>\n",
       "      <td>A</td>\n",
       "      <td>717</td>\n",
       "    </tr>\n",
       "    <tr>\n",
       "      <th>4</th>\n",
       "      <td>2019-08-05</td>\n",
       "      <td>A</td>\n",
       "      <td>756</td>\n",
       "    </tr>\n",
       "  </tbody>\n",
       "</table>\n",
       "</div>"
      ],
      "text/plain": [
       "         date group  visitors\n",
       "0  2019-08-01     A       719\n",
       "1  2019-08-02     A       619\n",
       "2  2019-08-03     A       507\n",
       "3  2019-08-04     A       717\n",
       "4  2019-08-05     A       756"
      ]
     },
     "execution_count": 9,
     "metadata": {},
     "output_type": "execute_result"
    }
   ],
   "source": [
    "visitors.info() #изучим инфо о таблице с клиентами и посмотрим на первые 5 ее строк\n",
    "visitors.head()"
   ]
  },
  {
   "cell_type": "code",
   "execution_count": 10,
   "metadata": {},
   "outputs": [],
   "source": [
    "visitors['date'] = visitors['date'].map(lambda x: dt.datetime.strptime(x, '%Y-%m-%d')) \n",
    "# приведем дату в нужный формат"
   ]
  },
  {
   "cell_type": "code",
   "execution_count": 11,
   "metadata": {},
   "outputs": [
    {
     "data": {
      "text/plain": [
       "0"
      ]
     },
     "execution_count": 11,
     "metadata": {},
     "output_type": "execute_result"
    }
   ],
   "source": [
    "visitors.duplicated().sum() # проверим, нет ли в таблице дубликатов"
   ]
  },
  {
   "cell_type": "markdown",
   "metadata": {},
   "source": [
    "В таблицах нет пропусков и дубликатов, данные в нужном формате, а названия столбцов соответствуют принятому стилю. Данные готовы к анализу."
   ]
  },
  {
   "cell_type": "markdown",
   "metadata": {},
   "source": [
    "## Приоритизация гипотез"
   ]
  },
  {
   "cell_type": "markdown",
   "metadata": {},
   "source": [
    "### Фреймворк ICE"
   ]
  },
  {
   "cell_type": "code",
   "execution_count": 12,
   "metadata": {},
   "outputs": [
    {
     "data": {
      "text/html": [
       "<div>\n",
       "<style scoped>\n",
       "    .dataframe tbody tr th:only-of-type {\n",
       "        vertical-align: middle;\n",
       "    }\n",
       "\n",
       "    .dataframe tbody tr th {\n",
       "        vertical-align: top;\n",
       "    }\n",
       "\n",
       "    .dataframe thead th {\n",
       "        text-align: right;\n",
       "    }\n",
       "</style>\n",
       "<table border=\"1\" class=\"dataframe\">\n",
       "  <thead>\n",
       "    <tr style=\"text-align: right;\">\n",
       "      <th></th>\n",
       "      <th>hypothesis</th>\n",
       "      <th>ICE</th>\n",
       "    </tr>\n",
       "  </thead>\n",
       "  <tbody>\n",
       "    <tr>\n",
       "      <th>8</th>\n",
       "      <td>Запустить акцию, дающую скидку на товар в день рождения</td>\n",
       "      <td>16.200000</td>\n",
       "    </tr>\n",
       "    <tr>\n",
       "      <th>0</th>\n",
       "      <td>Добавить два новых канала привлечения трафика, что позволит привлекать на 30% больше пользователей</td>\n",
       "      <td>13.333333</td>\n",
       "    </tr>\n",
       "    <tr>\n",
       "      <th>7</th>\n",
       "      <td>Добавить форму подписки на все основные страницы, чтобы собрать базу клиентов для email-рассылок</td>\n",
       "      <td>11.200000</td>\n",
       "    </tr>\n",
       "    <tr>\n",
       "      <th>6</th>\n",
       "      <td>Показать на главной странице баннеры с актуальными акциями и распродажами, чтобы увеличить конверсию</td>\n",
       "      <td>8.000000</td>\n",
       "    </tr>\n",
       "    <tr>\n",
       "      <th>2</th>\n",
       "      <td>Добавить блоки рекомендаций товаров на сайт интернет магазина, чтобы повысить конверсию и средний чек заказа</td>\n",
       "      <td>7.000000</td>\n",
       "    </tr>\n",
       "    <tr>\n",
       "      <th>1</th>\n",
       "      <td>Запустить собственную службу доставки, что сократит срок доставки заказов</td>\n",
       "      <td>2.000000</td>\n",
       "    </tr>\n",
       "    <tr>\n",
       "      <th>5</th>\n",
       "      <td>Добавить страницу отзывов клиентов о магазине, что позволит увеличить количество заказов</td>\n",
       "      <td>1.333333</td>\n",
       "    </tr>\n",
       "    <tr>\n",
       "      <th>3</th>\n",
       "      <td>Изменить структура категорий, что увеличит конверсию, т.к. пользователи быстрее найдут нужный товар</td>\n",
       "      <td>1.125000</td>\n",
       "    </tr>\n",
       "    <tr>\n",
       "      <th>4</th>\n",
       "      <td>Изменить цвет фона главной страницы, чтобы увеличить вовлеченность пользователей</td>\n",
       "      <td>1.000000</td>\n",
       "    </tr>\n",
       "  </tbody>\n",
       "</table>\n",
       "</div>"
      ],
      "text/plain": [
       "                                                                                                     hypothesis  \\\n",
       "8                                                       Запустить акцию, дающую скидку на товар в день рождения   \n",
       "0            Добавить два новых канала привлечения трафика, что позволит привлекать на 30% больше пользователей   \n",
       "7              Добавить форму подписки на все основные страницы, чтобы собрать базу клиентов для email-рассылок   \n",
       "6          Показать на главной странице баннеры с актуальными акциями и распродажами, чтобы увеличить конверсию   \n",
       "2  Добавить блоки рекомендаций товаров на сайт интернет магазина, чтобы повысить конверсию и средний чек заказа   \n",
       "1                                     Запустить собственную службу доставки, что сократит срок доставки заказов   \n",
       "5                      Добавить страницу отзывов клиентов о магазине, что позволит увеличить количество заказов   \n",
       "3           Изменить структура категорий, что увеличит конверсию, т.к. пользователи быстрее найдут нужный товар   \n",
       "4                              Изменить цвет фона главной страницы, чтобы увеличить вовлеченность пользователей   \n",
       "\n",
       "         ICE  \n",
       "8  16.200000  \n",
       "0  13.333333  \n",
       "7  11.200000  \n",
       "6   8.000000  \n",
       "2   7.000000  \n",
       "1   2.000000  \n",
       "5   1.333333  \n",
       "3   1.125000  \n",
       "4   1.000000  "
      ]
     },
     "metadata": {},
     "output_type": "display_data"
    }
   ],
   "source": [
    "hypos['ICE'] = (hypos['impact']*hypos['confidence'])/hypos['efforts']\n",
    "\n",
    "pd.options.display.max_colwidth = 400\n",
    "display(hypos.iloc[:,[0, -1]].sort_values(by='ICE', ascending=False))"
   ]
  },
  {
   "cell_type": "markdown",
   "metadata": {},
   "source": [
    "### Фреймворк RICE"
   ]
  },
  {
   "cell_type": "code",
   "execution_count": 13,
   "metadata": {},
   "outputs": [
    {
     "data": {
      "text/html": [
       "<div>\n",
       "<style scoped>\n",
       "    .dataframe tbody tr th:only-of-type {\n",
       "        vertical-align: middle;\n",
       "    }\n",
       "\n",
       "    .dataframe tbody tr th {\n",
       "        vertical-align: top;\n",
       "    }\n",
       "\n",
       "    .dataframe thead th {\n",
       "        text-align: right;\n",
       "    }\n",
       "</style>\n",
       "<table border=\"1\" class=\"dataframe\">\n",
       "  <thead>\n",
       "    <tr style=\"text-align: right;\">\n",
       "      <th></th>\n",
       "      <th>hypothesis</th>\n",
       "      <th>RICE</th>\n",
       "    </tr>\n",
       "  </thead>\n",
       "  <tbody>\n",
       "    <tr>\n",
       "      <th>7</th>\n",
       "      <td>Добавить форму подписки на все основные страницы, чтобы собрать базу клиентов для email-рассылок</td>\n",
       "      <td>112.0</td>\n",
       "    </tr>\n",
       "    <tr>\n",
       "      <th>2</th>\n",
       "      <td>Добавить блоки рекомендаций товаров на сайт интернет магазина, чтобы повысить конверсию и средний чек заказа</td>\n",
       "      <td>56.0</td>\n",
       "    </tr>\n",
       "    <tr>\n",
       "      <th>0</th>\n",
       "      <td>Добавить два новых канала привлечения трафика, что позволит привлекать на 30% больше пользователей</td>\n",
       "      <td>40.0</td>\n",
       "    </tr>\n",
       "    <tr>\n",
       "      <th>6</th>\n",
       "      <td>Показать на главной странице баннеры с актуальными акциями и распродажами, чтобы увеличить конверсию</td>\n",
       "      <td>40.0</td>\n",
       "    </tr>\n",
       "    <tr>\n",
       "      <th>8</th>\n",
       "      <td>Запустить акцию, дающую скидку на товар в день рождения</td>\n",
       "      <td>16.2</td>\n",
       "    </tr>\n",
       "    <tr>\n",
       "      <th>3</th>\n",
       "      <td>Изменить структура категорий, что увеличит конверсию, т.к. пользователи быстрее найдут нужный товар</td>\n",
       "      <td>9.0</td>\n",
       "    </tr>\n",
       "    <tr>\n",
       "      <th>1</th>\n",
       "      <td>Запустить собственную службу доставки, что сократит срок доставки заказов</td>\n",
       "      <td>4.0</td>\n",
       "    </tr>\n",
       "    <tr>\n",
       "      <th>5</th>\n",
       "      <td>Добавить страницу отзывов клиентов о магазине, что позволит увеличить количество заказов</td>\n",
       "      <td>4.0</td>\n",
       "    </tr>\n",
       "    <tr>\n",
       "      <th>4</th>\n",
       "      <td>Изменить цвет фона главной страницы, чтобы увеличить вовлеченность пользователей</td>\n",
       "      <td>3.0</td>\n",
       "    </tr>\n",
       "  </tbody>\n",
       "</table>\n",
       "</div>"
      ],
      "text/plain": [
       "                                                                                                     hypothesis  \\\n",
       "7              Добавить форму подписки на все основные страницы, чтобы собрать базу клиентов для email-рассылок   \n",
       "2  Добавить блоки рекомендаций товаров на сайт интернет магазина, чтобы повысить конверсию и средний чек заказа   \n",
       "0            Добавить два новых канала привлечения трафика, что позволит привлекать на 30% больше пользователей   \n",
       "6          Показать на главной странице баннеры с актуальными акциями и распродажами, чтобы увеличить конверсию   \n",
       "8                                                       Запустить акцию, дающую скидку на товар в день рождения   \n",
       "3           Изменить структура категорий, что увеличит конверсию, т.к. пользователи быстрее найдут нужный товар   \n",
       "1                                     Запустить собственную службу доставки, что сократит срок доставки заказов   \n",
       "5                      Добавить страницу отзывов клиентов о магазине, что позволит увеличить количество заказов   \n",
       "4                              Изменить цвет фона главной страницы, чтобы увеличить вовлеченность пользователей   \n",
       "\n",
       "    RICE  \n",
       "7  112.0  \n",
       "2   56.0  \n",
       "0   40.0  \n",
       "6   40.0  \n",
       "8   16.2  \n",
       "3    9.0  \n",
       "1    4.0  \n",
       "5    4.0  \n",
       "4    3.0  "
      ]
     },
     "metadata": {},
     "output_type": "display_data"
    }
   ],
   "source": [
    "hypos['RICE'] = (hypos['reach']*hypos['impact']*hypos['confidence'])/hypos['efforts']\n",
    "\n",
    "display(hypos.iloc[:,[0, -1]].sort_values(by='RICE', ascending=False))"
   ]
  },
  {
   "cell_type": "markdown",
   "metadata": {},
   "source": [
    "### Вывод"
   ]
  },
  {
   "cell_type": "markdown",
   "metadata": {},
   "source": [
    "При применении фреймворка ICE лидируют гипотезы 8, 0 и 7 (по убыванию приоритета), а при фреймворке RICE - 7, 2 и 0. Как мы видим, две гипотезы из тройки лидеров в обоих случаях одинаковы, но меняется их порядок. \n",
    "\n",
    "Отличие фреймворков ICE и RICE в том, что последний учитывает не только Impact (насколько сильно изменение повлияет на пользователей), Confidence (насколько вы уверены, что это изменение повлияет на\n",
    "пользователей именно так) и Efforts (сколько стоит протестировать эту гипотезу), но и Reach (скольких пользователей затронет изменение, которое вы хотите внести). Если для нашего интернет-магазина Reach - важный параметр, то следует приоритизировать гипотезу 7 - «Добавить форму подписки на все основные страницы, чтобы собрать базу клиентов для email-рассылок», а если нет, то гипотезу 8 - «Запустить акцию, дающую скидку на товар в день рождения»."
   ]
  },
  {
   "cell_type": "markdown",
   "metadata": {},
   "source": [
    "## Анализ A/B-теста"
   ]
  },
  {
   "cell_type": "code",
   "execution_count": 14,
   "metadata": {},
   "outputs": [
    {
     "name": "stdout",
     "output_type": "stream",
     "text": [
      "58\n"
     ]
    }
   ],
   "source": [
    "# проверим, нет ли у нас пользователей, попавших в обе группы\n",
    "\n",
    "group_a = orders[orders['group']=='A']['visitor_id']\n",
    "group_b = orders[orders['group']=='B']['visitor_id']\n",
    "\n",
    "doubles = []\n",
    "\n",
    "for i in group_a:\n",
    "    if i in doubles:\n",
    "        continue\n",
    "    for j in group_b:\n",
    "        if i == j:\n",
    "            doubles.append(i)\n",
    "            break\n",
    " \n",
    "print(len(doubles))"
   ]
  },
  {
   "cell_type": "code",
   "execution_count": 15,
   "metadata": {},
   "outputs": [
    {
     "name": "stdout",
     "output_type": "stream",
     "text": [
      "5.625606207565471\n"
     ]
    }
   ],
   "source": [
    "# 58 человек попали в обе группы. посчитаем, какая это доля пользователей\n",
    "\n",
    "print(len(doubles)/orders['visitor_id'].nunique()*100)"
   ]
  },
  {
   "cell_type": "code",
   "execution_count": 16,
   "metadata": {},
   "outputs": [],
   "source": [
    "# это меньше 6%. удалим эти id из таблицы orders, чтобы они не искажали нам выводы\n",
    "\n",
    "orders = orders.query('visitor_id not in @doubles')"
   ]
  },
  {
   "cell_type": "markdown",
   "metadata": {},
   "source": [
    "Прежде чем приступать к построению графиков, расчетам и выводам, создадим таблицу с кумулятивными данными о заказах, которой будем пользоваться в дальнейшем."
   ]
  },
  {
   "cell_type": "code",
   "execution_count": 17,
   "metadata": {},
   "outputs": [
    {
     "data": {
      "text/html": [
       "<div>\n",
       "<style scoped>\n",
       "    .dataframe tbody tr th:only-of-type {\n",
       "        vertical-align: middle;\n",
       "    }\n",
       "\n",
       "    .dataframe tbody tr th {\n",
       "        vertical-align: top;\n",
       "    }\n",
       "\n",
       "    .dataframe thead th {\n",
       "        text-align: right;\n",
       "    }\n",
       "</style>\n",
       "<table border=\"1\" class=\"dataframe\">\n",
       "  <thead>\n",
       "    <tr style=\"text-align: right;\">\n",
       "      <th></th>\n",
       "      <th>date</th>\n",
       "      <th>group</th>\n",
       "      <th>orders</th>\n",
       "      <th>buyers</th>\n",
       "      <th>revenue</th>\n",
       "      <th>visitors</th>\n",
       "    </tr>\n",
       "  </thead>\n",
       "  <tbody>\n",
       "    <tr>\n",
       "      <th>0</th>\n",
       "      <td>2019-08-01</td>\n",
       "      <td>A</td>\n",
       "      <td>23</td>\n",
       "      <td>19</td>\n",
       "      <td>142779</td>\n",
       "      <td>719</td>\n",
       "    </tr>\n",
       "    <tr>\n",
       "      <th>1</th>\n",
       "      <td>2019-08-01</td>\n",
       "      <td>B</td>\n",
       "      <td>17</td>\n",
       "      <td>17</td>\n",
       "      <td>59758</td>\n",
       "      <td>713</td>\n",
       "    </tr>\n",
       "    <tr>\n",
       "      <th>2</th>\n",
       "      <td>2019-08-02</td>\n",
       "      <td>A</td>\n",
       "      <td>42</td>\n",
       "      <td>36</td>\n",
       "      <td>234381</td>\n",
       "      <td>1338</td>\n",
       "    </tr>\n",
       "    <tr>\n",
       "      <th>3</th>\n",
       "      <td>2019-08-02</td>\n",
       "      <td>B</td>\n",
       "      <td>40</td>\n",
       "      <td>39</td>\n",
       "      <td>221801</td>\n",
       "      <td>1294</td>\n",
       "    </tr>\n",
       "    <tr>\n",
       "      <th>4</th>\n",
       "      <td>2019-08-03</td>\n",
       "      <td>A</td>\n",
       "      <td>66</td>\n",
       "      <td>60</td>\n",
       "      <td>346854</td>\n",
       "      <td>1845</td>\n",
       "    </tr>\n",
       "  </tbody>\n",
       "</table>\n",
       "</div>"
      ],
      "text/plain": [
       "        date group  orders  buyers  revenue  visitors\n",
       "0 2019-08-01     A      23      19   142779       719\n",
       "1 2019-08-01     B      17      17    59758       713\n",
       "2 2019-08-02     A      42      36   234381      1338\n",
       "3 2019-08-02     B      40      39   221801      1294\n",
       "4 2019-08-03     A      66      60   346854      1845"
      ]
     },
     "metadata": {},
     "output_type": "display_data"
    }
   ],
   "source": [
    "# создадим массив уникальных пар значений дат и групп теста\n",
    "dates_groups = orders[['date','group']].drop_duplicates()\n",
    "\n",
    "# получим агрегированные кумулятивные по дням данные о заказах \n",
    "orders_aggregated = dates_groups.apply(lambda x: orders[np.logical_and(orders['date'] <= x['date'], orders['group'] == x['group'])].agg({'date' : 'max', 'group' : 'max', 'transaction_id' : 'nunique', 'visitor_id' : 'nunique', 'revenue' : 'sum'}), axis=1).sort_values(by=['date','group'])\n",
    "\n",
    "# получим агрегированные кумулятивные по дням данные о посетителях интернет-магазина \n",
    "visitors_aggregated = dates_groups.apply(lambda x: visitors[np.logical_and(visitors['date'] <= x['date'], visitors['group'] == x['group'])].agg({'date' : 'max', 'group' : 'max', 'visitors' : 'sum'}), axis=1).sort_values(by=['date','group'])\n",
    "\n",
    "# объединим кумулятивные данные в одной таблице и присвоим ее столбцам понятные названия\n",
    "cumulative_data = orders_aggregated.merge(visitors_aggregated, left_on=['date', 'group'], right_on=['date', 'group'])\n",
    "cumulative_data.columns = ['date', 'group', 'orders', 'buyers', 'revenue', 'visitors']\n",
    "\n",
    "display(cumulative_data.head())"
   ]
  },
  {
   "cell_type": "markdown",
   "metadata": {},
   "source": [
    "### Кумулятивная выручка по группам"
   ]
  },
  {
   "cell_type": "code",
   "execution_count": 18,
   "metadata": {
    "scrolled": true
   },
   "outputs": [
    {
     "data": {
      "image/png": "[encoded data removed]",
      "text/plain": [
       "<Figure size 640x480 with 1 Axes>"
      ]
     },
     "metadata": {},
     "output_type": "display_data"
    }
   ],
   "source": [
    "# датафрейм с кумулятивным количеством заказов и кумулятивной выручкой по дням в группе А\n",
    "cumulative_revenue_a = cumulative_data[cumulative_data['group']=='A'][['date','revenue', 'orders']]\n",
    "\n",
    "# датафрейм с кумулятивным количеством заказов и кумулятивной выручкой по дням в группе B\n",
    "cumulative_revenue_b = cumulative_data[cumulative_data['group']=='B'][['date','revenue', 'orders']]\n",
    "\n",
    "# Строим график выручки группы А\n",
    "plt.plot(cumulative_revenue_a['date'], cumulative_revenue_a['revenue'], label='A')\n",
    "\n",
    "# Строим график выручки группы B\n",
    "plt.plot(cumulative_revenue_b['date'], cumulative_revenue_b['revenue'], label='B')\n",
    "\n",
    "plt.legend()\n",
    "plt.title(\"Кумулятивная выручка по группам\")\n",
    "plt.xticks(rotation=45)\n",
    "plt.show()"
   ]
  },
  {
   "cell_type": "markdown",
   "metadata": {},
   "source": [
    "Выручка увеличивается в течение всего теста в обеих группах. При этом мы видим небольшие скачки на обоих графиках и один очень резкий скачок в группе В. Возможная причина этого - появление очень дорогого заказа в выборке, но чтобы ответить точно, нам нужно больше данных. Мы рассмотрим это ниже."
   ]
  },
  {
   "cell_type": "markdown",
   "metadata": {},
   "source": [
    "### Кумулятивный средний чек по группам"
   ]
  },
  {
   "cell_type": "code",
   "execution_count": 19,
   "metadata": {},
   "outputs": [
    {
     "data": {
      "image/png": "[encoded data removed]",
      "text/plain": [
       "<Figure size 640x480 with 1 Axes>"
      ]
     },
     "metadata": {},
     "output_type": "display_data"
    }
   ],
   "source": [
    "plt.plot(cumulative_revenue_a['date'], cumulative_revenue_a['revenue']/cumulative_revenue_a['orders'], label='A')\n",
    "plt.plot(cumulative_revenue_b['date'], cumulative_revenue_b['revenue']/cumulative_revenue_b['orders'], label='B')\n",
    "plt.legend()\n",
    "plt.title(\"Кумулятивный средний чек по группам\")\n",
    "plt.xticks(rotation=45)\n",
    "plt.show()"
   ]
  },
  {
   "cell_type": "markdown",
   "metadata": {},
   "source": [
    "Мы видим большие колебания в размере среднего чека в обеих группах. Резкий скачок на графике группы В, который мы наблюдали на предыдущем графике, есть и здесь. Значит, наше предположение было верным, в этот день был аномально крупный заказ. \n",
    "\n",
    "Примерно в последней трети теста колебания становятся значительно меньше, и мы видим, что средний чек группы А выровнялся, а группы В постепенно уменьшался."
   ]
  },
  {
   "cell_type": "markdown",
   "metadata": {},
   "source": [
    "### Относительное изменение кумулятивного среднего чека группы B к группе A"
   ]
  },
  {
   "cell_type": "code",
   "execution_count": 20,
   "metadata": {},
   "outputs": [
    {
     "data": {
      "image/png": "[encoded data removed]",
      "text/plain": [
       "<Figure size 640x480 with 1 Axes>"
      ]
     },
     "metadata": {},
     "output_type": "display_data"
    }
   ],
   "source": [
    "# собираем данные в одном датафрейме\n",
    "merged_cumulative_revenue = cumulative_revenue_a.merge(cumulative_revenue_b, left_on='date', right_on='date', how='left', suffixes=['_a', '_b'])\n",
    "\n",
    "# cтроим отношение средних чеков\n",
    "plt.plot(merged_cumulative_revenue['date'], (merged_cumulative_revenue['revenue_b']/merged_cumulative_revenue['orders_b'])/(merged_cumulative_revenue['revenue_a']/merged_cumulative_revenue['orders_a'])-1)\n",
    "\n",
    "# добавляем ось X\n",
    "plt.axhline(y=0, color='black', linestyle='--')\n",
    "\n",
    "plt.title(\"Относительное изменение кумулятивного среднего чека группы B к группе A\")\n",
    "plt.xticks(rotation=45)\n",
    "plt.show()"
   ]
  },
  {
   "cell_type": "markdown",
   "metadata": {},
   "source": [
    "Как мы видим, средний чек в группе В почти всегда выше, чем в группе А. На графике также есть несколько резких скачков - в выборке наверняка есть аномально дорогие заказы. "
   ]
  },
  {
   "cell_type": "markdown",
   "metadata": {},
   "source": [
    "### Кумулятивное среднее количество заказов по группам"
   ]
  },
  {
   "cell_type": "code",
   "execution_count": 21,
   "metadata": {},
   "outputs": [
    {
     "data": {
      "image/png": "[encoded data removed]",
      "text/plain": [
       "<Figure size 640x480 with 1 Axes>"
      ]
     },
     "metadata": {},
     "output_type": "display_data"
    }
   ],
   "source": [
    "# считаем кумулятивное среднее к-во заказов\n",
    "cumulative_data['cum_avg_orders'] = cumulative_data['orders']/cumulative_data['visitors']\n",
    "\n",
    "# отделяем данные по группе A\n",
    "cumulative_avg_orders_a = cumulative_data[cumulative_data['group']=='A'][['date', 'cum_avg_orders']]\n",
    "\n",
    "# отделяем данные по группе B\n",
    "cumulative_avg_orders_b = cumulative_data[cumulative_data['group']=='B'][['date', 'cum_avg_orders']]\n",
    "\n",
    "# строим графики\n",
    "plt.plot(cumulative_avg_orders_a['date'], cumulative_avg_orders_a['cum_avg_orders'], label='A')\n",
    "plt.plot(cumulative_avg_orders_b['date'], cumulative_avg_orders_b['cum_avg_orders'], label='B')\n",
    "plt.legend()\n",
    "plt.title(\"Кумулятивное среднее количество заказов по группам\")\n",
    "plt.xticks(rotation=45)\n",
    "plt.show()"
   ]
  },
  {
   "cell_type": "markdown",
   "metadata": {},
   "source": [
    "Как мы видим, графики обеих групп нестабильны на протяжении всего теста, скачки есть в обеих группах. Но в любом случае, примерно с 07.08. количество заказов в группе В значительно больше, чем в группе А."
   ]
  },
  {
   "cell_type": "markdown",
   "metadata": {},
   "source": [
    "### Относительное изменение кумулятивного среднего количества заказов группы B к группе A"
   ]
  },
  {
   "cell_type": "code",
   "execution_count": 22,
   "metadata": {},
   "outputs": [
    {
     "data": {
      "image/png": "[encoded data removed]",
      "text/plain": [
       "<Figure size 640x480 with 1 Axes>"
      ]
     },
     "metadata": {},
     "output_type": "display_data"
    }
   ],
   "source": [
    "merged_cum_avg_orders = cumulative_avg_orders_a[['date','cum_avg_orders']].merge(cumulative_avg_orders_b[['date','cum_avg_orders']], left_on='date', right_on='date', how='left', suffixes=['_a', '_b'])\n",
    "\n",
    "plt.plot(merged_cum_avg_orders['date'], merged_cum_avg_orders['cum_avg_orders_b']/merged_cum_avg_orders['cum_avg_orders_a']-1)\n",
    "\n",
    "\n",
    "plt.axhline(y=0, color='black', linestyle='--')\n",
    "plt.axhline(y=-0.1, color='grey', linestyle='--')\n",
    "plt.title(\"Относительное изменение кумулятивного среднего количества заказов группы B к группе A\")\n",
    "plt.xticks(rotation=45)\n",
    "plt.show()"
   ]
  },
  {
   "cell_type": "markdown",
   "metadata": {},
   "source": [
    "Мы видим, что кумулятивное среднее количество заказов в группе В стабильно превышает этот показатель в группе А."
   ]
  },
  {
   "cell_type": "markdown",
   "metadata": {},
   "source": [
    "### Количество заказов по пользователям"
   ]
  },
  {
   "cell_type": "code",
   "execution_count": 23,
   "metadata": {},
   "outputs": [
    {
     "data": {
      "text/html": [
       "<div>\n",
       "<style scoped>\n",
       "    .dataframe tbody tr th:only-of-type {\n",
       "        vertical-align: middle;\n",
       "    }\n",
       "\n",
       "    .dataframe tbody tr th {\n",
       "        vertical-align: top;\n",
       "    }\n",
       "\n",
       "    .dataframe thead th {\n",
       "        text-align: right;\n",
       "    }\n",
       "</style>\n",
       "<table border=\"1\" class=\"dataframe\">\n",
       "  <thead>\n",
       "    <tr style=\"text-align: right;\">\n",
       "      <th></th>\n",
       "      <th>visitor_id</th>\n",
       "      <th>orders</th>\n",
       "    </tr>\n",
       "  </thead>\n",
       "  <tbody>\n",
       "    <tr>\n",
       "      <th>908</th>\n",
       "      <td>3967698036</td>\n",
       "      <td>3</td>\n",
       "    </tr>\n",
       "    <tr>\n",
       "      <th>55</th>\n",
       "      <td>249864742</td>\n",
       "      <td>3</td>\n",
       "    </tr>\n",
       "    <tr>\n",
       "      <th>478</th>\n",
       "      <td>2108163459</td>\n",
       "      <td>3</td>\n",
       "    </tr>\n",
       "    <tr>\n",
       "      <th>687</th>\n",
       "      <td>2988190573</td>\n",
       "      <td>3</td>\n",
       "    </tr>\n",
       "    <tr>\n",
       "      <th>890</th>\n",
       "      <td>3908431265</td>\n",
       "      <td>3</td>\n",
       "    </tr>\n",
       "    <tr>\n",
       "      <th>138</th>\n",
       "      <td>611059232</td>\n",
       "      <td>3</td>\n",
       "    </tr>\n",
       "    <tr>\n",
       "      <th>632</th>\n",
       "      <td>2742574263</td>\n",
       "      <td>3</td>\n",
       "    </tr>\n",
       "    <tr>\n",
       "      <th>157</th>\n",
       "      <td>678354126</td>\n",
       "      <td>2</td>\n",
       "    </tr>\n",
       "    <tr>\n",
       "      <th>323</th>\n",
       "      <td>1404560065</td>\n",
       "      <td>2</td>\n",
       "    </tr>\n",
       "    <tr>\n",
       "      <th>452</th>\n",
       "      <td>1985475298</td>\n",
       "      <td>2</td>\n",
       "    </tr>\n",
       "  </tbody>\n",
       "</table>\n",
       "</div>"
      ],
      "text/plain": [
       "     visitor_id  orders\n",
       "908  3967698036       3\n",
       "55    249864742       3\n",
       "478  2108163459       3\n",
       "687  2988190573       3\n",
       "890  3908431265       3\n",
       "138   611059232       3\n",
       "632  2742574263       3\n",
       "157   678354126       2\n",
       "323  1404560065       2\n",
       "452  1985475298       2"
      ]
     },
     "metadata": {},
     "output_type": "display_data"
    }
   ],
   "source": [
    "# создадим таблицу с к-вом заказов по пользователям\n",
    "\n",
    "orders_by_users = (\n",
    "    orders.groupby('visitor_id', as_index=False)\n",
    "    .agg({'transaction_id': 'nunique'})\n",
    ")\n",
    "\n",
    "orders_by_users.columns = ['visitor_id', 'orders']\n",
    "\n",
    "display(orders_by_users.sort_values(by='orders', ascending=False).head(10))"
   ]
  },
  {
   "cell_type": "code",
   "execution_count": 24,
   "metadata": {},
   "outputs": [
    {
     "data": {
      "image/png": "[encoded data removed]",
      "text/plain": [
       "<Figure size 640x480 with 1 Axes>"
      ]
     },
     "metadata": {},
     "output_type": "display_data"
    }
   ],
   "source": [
    "# построим точечный график количества заказов по пользователям\n",
    "\n",
    "x_values = pd.Series(range(0,len(orders_by_users)))\n",
    "\n",
    "plt.scatter(x_values, orders_by_users['orders'])\n",
    "plt.title(\"Количество заказов на пользователя\")\n",
    "plt.show()"
   ]
  },
  {
   "cell_type": "code",
   "execution_count": 25,
   "metadata": {},
   "outputs": [
    {
     "name": "stdout",
     "output_type": "stream",
     "text": [
      "[1. 2.]\n"
     ]
    }
   ],
   "source": [
    "# посчитаем 95-й и 99-й перцентили количества заказов на одного пользователя:\n",
    "\n",
    "print(np.percentile(orders_by_users['orders'], [95, 99])) "
   ]
  },
  {
   "cell_type": "markdown",
   "metadata": {},
   "source": [
    "Менее 1% пользователей сделали больше 2х заказов. Раз абсолютное большинство делали один заказ, считаем оправданным задать 1 заказ как верхнюю границу и отсеять аномальных пользователей по ней, чтобы выбросы не искажали результаты эксперимента."
   ]
  },
  {
   "cell_type": "markdown",
   "metadata": {},
   "source": [
    "### Стоимость заказов"
   ]
  },
  {
   "cell_type": "code",
   "execution_count": 26,
   "metadata": {},
   "outputs": [
    {
     "data": {
      "image/png": "[encoded data removed]",
      "text/plain": [
       "<Figure size 640x480 with 1 Axes>"
      ]
     },
     "metadata": {},
     "output_type": "display_data"
    }
   ],
   "source": [
    "# построим точечный график стоимости заказов\n",
    "\n",
    "x_values = pd.Series(range(0,len(orders['revenue'])))\n",
    "plt.scatter(x_values, orders['revenue']) \n",
    "plt.title(\"Стоимость заказов\")\n",
    "plt.show()"
   ]
  },
  {
   "cell_type": "code",
   "execution_count": 27,
   "metadata": {},
   "outputs": [
    {
     "name": "stdout",
     "output_type": "stream",
     "text": [
      "[26785. 53904.]\n"
     ]
    }
   ],
   "source": [
    "# посчитаем 95-й и 99-й перцентили стоимости заказов\n",
    "\n",
    "print(np.percentile(orders['revenue'], [95, 99])) "
   ]
  },
  {
   "cell_type": "markdown",
   "metadata": {},
   "source": [
    "Только 5% покупателей оформили заказ дороже 26785 рублей, и только 1% - дороже 53904. Отсеем покупки дороже 27000, чтобы не искажать результаты аномалиями."
   ]
  },
  {
   "cell_type": "markdown",
   "metadata": {},
   "source": [
    "### Статистическая значимость различий в среднем количестве заказов между группами по «сырым» данным"
   ]
  },
  {
   "cell_type": "markdown",
   "metadata": {},
   "source": [
    "Сформулируем гипотезы. \n",
    "\n",
    "Н0: различий в среднем количестве заказов между группами нет. \n",
    "\n",
    "Н1: различия в среднем между группами есть."
   ]
  },
  {
   "cell_type": "code",
   "execution_count": 28,
   "metadata": {},
   "outputs": [],
   "source": [
    "# создадим таблицу с посетителями сайта в каждый день из группы А\n",
    "visitors_a_daily = visitors[visitors['group'] == 'A'][['date', 'visitors']]\n",
    "visitors_a_daily.columns = ['date', 'visitors_per_date_a']\n",
    "\n",
    "# создадим таблицу с кумулятивным к-вом посетителей сайта для группы А\n",
    "visitors_a_cummulative = visitors_a_daily.apply(\n",
    "    lambda x: visitors_a_daily[visitors_a_daily['date'] <= x['date']].agg(\n",
    "        {'date': 'max', 'visitors_per_date_a': 'sum'}\n",
    "    ),\n",
    "    axis=1,\n",
    ")\n",
    "visitors_a_cummulative.columns = ['date', 'visitors_cummulative_a']\n",
    "\n",
    "# создадим таблицу с посетителями сайта в каждый день из группы В\n",
    "visitors_b_daily = visitors[visitors['group'] == 'B'][['date', 'visitors']]\n",
    "visitors_b_daily.columns = ['date', 'visitors_per_date_b']\n",
    "\n",
    "# создадим таблицу с кумулятивным к-вом посетителей сайта для группы В\n",
    "visitors_b_cummulative = visitors_b_daily.apply(\n",
    "    lambda x: visitors_b_daily[visitors_b_daily['date'] <= x['date']].agg(\n",
    "        {'date': 'max', 'visitors_per_date_b': 'sum'}\n",
    "    ),\n",
    "    axis=1,\n",
    ")\n",
    "visitors_b_cummulative.columns = ['date', 'visitors_cummulative_b']\n",
    "\n",
    "# создадим таблицу с заказами по дням для группы А\n",
    "orders_a_daily = (\n",
    "    orders[orders['group'] == 'A'][['date', 'transaction_id', 'visitor_id', 'revenue']]\n",
    "    .groupby('date', as_index=False)\n",
    "    .agg({'transaction_id': pd.Series.nunique, 'revenue': 'sum'})\n",
    ")\n",
    "orders_a_daily.columns = ['date', 'orders_per_date_a', 'revenue_per_date_a']\n",
    "\n",
    "# создадим таблицу с кумулятивными заказами по дням для группы А\n",
    "orders_a_cummulative = orders_a_daily.apply(\n",
    "    lambda x: orders_a_daily[orders_a_daily['date'] <= x['date']].agg(\n",
    "        {'date': 'max', 'orders_per_date_a': 'sum', 'revenue_per_date_a': 'sum'}\n",
    "    ),\n",
    "    axis=1,\n",
    ").sort_values(by=['date'])\n",
    "orders_a_cummulative.columns = [\n",
    "    'date',\n",
    "    'orders_cummulative_a',\n",
    "    'revenue_cummulative_a',\n",
    "]\n",
    "\n",
    "# создадим таблицу с заказами по дням для группы В\n",
    "orders_b_daily = (\n",
    "    orders[orders['group'] == 'B'][['date', 'transaction_id', 'visitor_id', 'revenue']]\n",
    "    .groupby('date', as_index=False)\n",
    "    .agg({'transaction_id': pd.Series.nunique, 'revenue': 'sum'})\n",
    ")\n",
    "orders_b_daily.columns = ['date', 'orders_per_date_b', 'revenue_per_date_b']\n",
    "\n",
    "# создадим таблицу с кумулятивными заказами по дням для группы В\n",
    "orders_b_cummulative = orders_b_daily.apply(\n",
    "    lambda x: orders_b_daily[orders_b_daily['date'] <= x['date']].agg(\n",
    "        {'date': 'max', 'orders_per_date_b': 'sum', 'revenue_per_date_b': 'sum'}\n",
    "    ),\n",
    "    axis=1,\n",
    ").sort_values(by=['date'])\n",
    "orders_b_cummulative.columns = [\n",
    "    'date',\n",
    "    'orders_cummulative_b',\n",
    "    'revenue_cummulative_b',\n",
    "]\n",
    "\n",
    "# объединим созданные таблицы в один датафрейм\n",
    "data = (\n",
    "    orders_a_daily.merge(\n",
    "        orders_b_daily, left_on='date', right_on='date', how='left'\n",
    "    )\n",
    "    .merge(orders_a_cummulative, left_on='date', right_on='date', how='left')\n",
    "    .merge(orders_b_cummulative, left_on='date', right_on='date', how='left')\n",
    "    .merge(visitors_a_daily, left_on='date', right_on='date', how='left')\n",
    "    .merge(visitors_b_daily, left_on='date', right_on='date', how='left')\n",
    "    .merge(visitors_a_cummulative, left_on='date', right_on='date', how='left')\n",
    "    .merge(visitors_b_cummulative, left_on='date', right_on='date', how='left')\n",
    ")\n",
    "\n",
    "# создадим таблицу с заказами группы А\n",
    "orders_by_users_a = (\n",
    "    orders[orders['group'] == 'A']\n",
    "    .groupby('visitor_id', as_index=False)\n",
    "    .agg({'transaction_id': pd.Series.nunique})\n",
    ")\n",
    "orders_by_users_a.columns = ['visitor_id', 'orders']\n",
    "\n",
    "# создадим таблицу с заказами группы В\n",
    "orders_by_users_b = (\n",
    "    orders[orders['group'] == 'B']\n",
    "    .groupby('visitor_id', as_index=False)\n",
    "    .agg({'transaction_id': pd.Series.nunique})\n",
    ")\n",
    "orders_by_users_b.columns = ['visitor_id', 'orders']\n",
    "\n",
    "\n",
    "# создадим выборки \n",
    "sample_a = pd.concat([orders_by_users_a['orders'],pd.Series(0, index=np.arange(data['visitors_per_date_a'].sum() - len(orders_by_users_a['orders'])), name='orders')],axis=0)\n",
    "\n",
    "sample_b = pd.concat([orders_by_users_b['orders'],pd.Series(0, index=np.arange(data['visitors_per_date_b'].sum() - len(orders_by_users_b['orders'])), name='orders')],axis=0)\n"
   ]
  },
  {
   "cell_type": "code",
   "execution_count": 29,
   "metadata": {},
   "outputs": [
    {
     "name": "stdout",
     "output_type": "stream",
     "text": [
      "p-value: 0.011\n",
      "Относительный прирост среднего числа заказов группы B: 0.160\n"
     ]
    }
   ],
   "source": [
    "print('p-value:',\"{0:.3f}\".format(stats.mannwhitneyu(sample_a, sample_b)[1]))\n",
    "\n",
    "print('Относительный прирост среднего числа заказов группы B:', \"{0:.3f}\".format(sample_b.mean() / sample_a.mean() - 1))"
   ]
  },
  {
   "cell_type": "markdown",
   "metadata": {},
   "source": [
    "По «сырым» данным различия в среднем числе заказов групп A и B есть. Значение p-value меньше 0,05. Значит, мы отвергаем нулевую гипотезу о том, что статистически значимых различий в среднем числе заказов между группами нет. Прирост среднего числа заказов группы B относительно группы А составил 16%."
   ]
  },
  {
   "cell_type": "markdown",
   "metadata": {},
   "source": [
    "### Статистическая значимость различий в среднем чеке заказа между группами по «сырым» данным"
   ]
  },
  {
   "cell_type": "markdown",
   "metadata": {},
   "source": [
    "Н0: различий в среднем чеке между группами нет. \n",
    "\n",
    "Н1: различия в среднем чеке между группами есть."
   ]
  },
  {
   "cell_type": "code",
   "execution_count": 30,
   "metadata": {},
   "outputs": [
    {
     "name": "stdout",
     "output_type": "stream",
     "text": [
      "p-value: 0.829\n",
      "Относительный рост среднего чека группы B: 0.287\n"
     ]
    }
   ],
   "source": [
    "print('p-value:','{0:.3f}'.format(stats.mannwhitneyu(orders[orders['group']=='A']['revenue'], orders[orders['group']=='B']['revenue'])[1]))\n",
    "print('Относительный рост среднего чека группы B:','{0:.3f}'.format(orders[orders['group']=='B']['revenue'].mean()/orders[orders['group']=='A']['revenue'].mean()-1))"
   ]
  },
  {
   "cell_type": "markdown",
   "metadata": {},
   "source": [
    "P-value значительно больше 0.05. Значит, причин отвергать нулевую гипотезу и считать, что в среднем чеке есть различия, нет. Наблюдаемое различие в почти 29% в относительном росте среднего чека группы В по отношению  к группе А не является статистически значимым и, вероятно, скорректируется на очищенных данных."
   ]
  },
  {
   "cell_type": "markdown",
   "metadata": {},
   "source": [
    "###  Статистическая значимость различий в среднем количестве заказов между группами по «очищенным» данным"
   ]
  },
  {
   "cell_type": "markdown",
   "metadata": {},
   "source": [
    "Выше мы посчитали, что 95-й и 99-й перцентили средних чеков равны 26785 и 53904 рублям. А 95-й и 99-й перцентили количества заказов на одного пользователя равны 1 и 2 заказа.\n",
    "\n",
    "Примем за аномальных пользователей тех, кто совершил больше 1 заказа или совершил заказ дороже 27 000 рублей. Так мы уберём 1% пользователей с наибольшим числом заказов и от 1% до 5% пользователей с дорогими заказами."
   ]
  },
  {
   "cell_type": "code",
   "execution_count": 31,
   "metadata": {},
   "outputs": [],
   "source": [
    "# сделаем срезы пользователей с числом заказов больше 1\n",
    "users_with_many_orders = pd.concat(\n",
    "    [\n",
    "        orders_by_users_a[orders_by_users_a['orders'] > 1]['visitor_id'],\n",
    "        orders_by_users_b[orders_by_users_b['orders'] > 1]['visitor_id'],\n",
    "    ],\n",
    "    axis=0,\n",
    ")\n",
    "\n",
    "# сделаем срезы пользователей, совершивших заказы дороже 27 000 рублей\n",
    "users_with_expensive_orders = orders[orders['revenue'] > 27000]['visitor_id']\n",
    "\n",
    "\n",
    "# объединим всех аномальных пользователей\n",
    "abnormal_users = (\n",
    "    pd.concat([users_with_many_orders, users_with_expensive_orders], axis=0)\n",
    "    .drop_duplicates()\n",
    "    .sort_values()\n",
    ")"
   ]
  },
  {
   "cell_type": "markdown",
   "metadata": {},
   "source": [
    "Узнаем, как их действия повлияли на результаты теста. Посчитаем статистическую значимость различий в среднем количестве заказов между группами теста по очищенным данным. Сначала подготовим выборки количества заказов по пользователям по группам теста:"
   ]
  },
  {
   "cell_type": "code",
   "execution_count": 32,
   "metadata": {},
   "outputs": [],
   "source": [
    "# выборка А без аномальных пользователей\n",
    "sample_a_filtered = pd.concat(\n",
    "    [\n",
    "        orders_by_users_a[\n",
    "            np.logical_not(orders_by_users_a['visitor_id'].isin(abnormal_users))\n",
    "        ]['orders'],\n",
    "        pd.Series(\n",
    "            0,\n",
    "            index=np.arange(\n",
    "                data['visitors_per_date_a'].sum() - len(orders_by_users_a['orders'])\n",
    "            ),\n",
    "            name='orders',\n",
    "        ),\n",
    "    ],\n",
    "    axis=0,\n",
    ")\n",
    "\n",
    "# выборка В без аномальных пользователей\n",
    "sample_b_filtered = pd.concat(\n",
    "    [\n",
    "        orders_by_users_b[\n",
    "            np.logical_not(orders_by_users_b['visitor_id'].isin(abnormal_users))\n",
    "        ]['orders'],\n",
    "        pd.Series(\n",
    "            0,\n",
    "            index=np.arange(\n",
    "                data['visitors_per_date_b'].sum() - len(orders_by_users_b['orders'])\n",
    "            ),\n",
    "            name='orders',\n",
    "        ),\n",
    "    ],\n",
    "    axis=0,\n",
    ")"
   ]
  },
  {
   "cell_type": "code",
   "execution_count": 33,
   "metadata": {},
   "outputs": [
    {
     "name": "stdout",
     "output_type": "stream",
     "text": [
      "p-value: 0.016\n",
      "Относительный прирост среднего числа заказов группы B: 0.174\n"
     ]
    }
   ],
   "source": [
    "# применим статистический критерий Манна-Уитни к полученным выборкам\n",
    "\n",
    "print('p-value:',\"{0:.3f}\".format(stats.mannwhitneyu(sample_a_filtered, sample_b_filtered)[1]))\n",
    "\n",
    "print('Относительный прирост среднего числа заказов группы B:', \"{0:.3f}\".format(sample_b_filtered.mean() / sample_a_filtered.mean() - 1))"
   ]
  },
  {
   "cell_type": "markdown",
   "metadata": {},
   "source": [
    "Результаты почти не изменились: по-прежнему есть основания отвергнуть нулевую гипотезу, различия между группами есть. На «очищенных» данных количество заказов в группе В по сравнению с группой А еще увеличилось, до 17%."
   ]
  },
  {
   "cell_type": "markdown",
   "metadata": {},
   "source": [
    "### Статистическая значимость различий в среднем чеке заказа между группами по «очищенным» данным"
   ]
  },
  {
   "cell_type": "code",
   "execution_count": 34,
   "metadata": {},
   "outputs": [
    {
     "name": "stdout",
     "output_type": "stream",
     "text": [
      "p-value: 0.727\n",
      "Относительный рост среднего чека группы B: -0.034\n"
     ]
    }
   ],
   "source": [
    "print(\n",
    "    'p-value:',\n",
    "    '{0:.3f}'.format(\n",
    "        stats.mannwhitneyu(\n",
    "            orders[\n",
    "                np.logical_and(\n",
    "                    orders['group'] == 'A',\n",
    "                    np.logical_not(orders['visitor_id'].isin(abnormal_users)),\n",
    "                )\n",
    "            ]['revenue'],\n",
    "            orders[\n",
    "                np.logical_and(\n",
    "                    orders['group'] == 'B',\n",
    "                    np.logical_not(orders['visitor_id'].isin(abnormal_users)),\n",
    "                )\n",
    "            ]['revenue'],\n",
    "        )[1]\n",
    "    )\n",
    ")\n",
    "\n",
    "print(\n",
    "    'Относительный рост среднего чека группы B:',\n",
    "    \"{0:.3f}\".format(\n",
    "        orders[\n",
    "            np.logical_and(\n",
    "                orders['group'] == 'B',\n",
    "                np.logical_not(orders['visitor_id'].isin(abnormal_users)),\n",
    "            )\n",
    "        ]['revenue'].mean()\n",
    "        / orders[\n",
    "            np.logical_and(\n",
    "                orders['group'] == 'A',\n",
    "                np.logical_not(orders['visitor_id'].isin(abnormal_users)),\n",
    "            )\n",
    "        ]['revenue'].mean()\n",
    "        - 1\n",
    "    )\n",
    ")"
   ]
  },
  {
   "cell_type": "markdown",
   "metadata": {},
   "source": [
    "Р-value практически не изменился, мы по-прежнему не имеем оснований отвергнуть нулевую гипотезу. Разница между размерами средних чеков групп А и В на очищенных данных практически нивелировалась и не является статистически значимой."
   ]
  },
  {
   "cell_type": "markdown",
   "metadata": {},
   "source": [
    "### Заключение"
   ]
  },
  {
   "cell_type": "markdown",
   "metadata": {},
   "source": [
    "Результаты А/В теста показали, что между группами нет значимой разницы в размере стреднего чека, но есть разница в количестве заказов.\n",
    "\n",
    "Количество заказов в группе В по сравнению с группой А увеличилось на 17%.\n",
    "\n",
    "При выросшей конверсии с сохранившимся средним чеком выручка будет расти. Следовательно, группа В показала себя лучше группы А.\n",
    "\n",
    "Проанализировав данные, считаем, что тест нужно остановить. Победила группа В."
   ]
  }
 ],
 "metadata": {
  "ExecuteTimeLog": [
   {
    "duration": 1312,
    "start_time": "2022-10-20T15:33:44.800Z"
   },
   {
    "duration": 101,
    "start_time": "2022-10-20T15:35:39.802Z"
   },
   {
    "duration": 432,
    "start_time": "2022-10-20T15:35:50.392Z"
   },
   {
    "duration": 131,
    "start_time": "2022-10-20T15:36:26.684Z"
   },
   {
    "duration": 20,
    "start_time": "2022-10-20T15:36:43.834Z"
   },
   {
    "duration": 12,
    "start_time": "2022-10-20T15:37:01.657Z"
   },
   {
    "duration": 9,
    "start_time": "2022-10-20T15:37:10.812Z"
   },
   {
    "duration": 12,
    "start_time": "2022-10-20T15:38:02.904Z"
   },
   {
    "duration": 11,
    "start_time": "2022-10-20T15:38:39.451Z"
   },
   {
    "duration": 5,
    "start_time": "2022-10-20T15:41:43.040Z"
   },
   {
    "duration": 10,
    "start_time": "2022-10-20T15:41:48.169Z"
   },
   {
    "duration": 16,
    "start_time": "2022-10-20T15:42:59.121Z"
   },
   {
    "duration": 13,
    "start_time": "2022-10-20T15:44:00.316Z"
   },
   {
    "duration": 23,
    "start_time": "2022-10-20T15:44:12.843Z"
   },
   {
    "duration": 22,
    "start_time": "2022-10-20T15:44:16.864Z"
   },
   {
    "duration": 311,
    "start_time": "2022-10-20T15:46:39.658Z"
   },
   {
    "duration": 3,
    "start_time": "2022-10-20T15:47:07.159Z"
   },
   {
    "duration": 3,
    "start_time": "2022-10-20T15:47:32.177Z"
   },
   {
    "duration": 340,
    "start_time": "2022-10-20T15:50:16.324Z"
   },
   {
    "duration": 19,
    "start_time": "2022-10-20T15:50:50.846Z"
   },
   {
    "duration": 10,
    "start_time": "2022-10-20T15:50:54.144Z"
   },
   {
    "duration": 4,
    "start_time": "2022-10-20T15:51:47.259Z"
   },
   {
    "duration": 6,
    "start_time": "2022-10-20T15:51:57.358Z"
   },
   {
    "duration": 9,
    "start_time": "2022-10-20T15:52:24.770Z"
   },
   {
    "duration": 11,
    "start_time": "2022-10-20T15:53:15.211Z"
   },
   {
    "duration": 11,
    "start_time": "2022-10-20T15:55:47.486Z"
   },
   {
    "duration": 4,
    "start_time": "2022-10-20T15:55:57.205Z"
   },
   {
    "duration": 1162,
    "start_time": "2022-10-20T16:00:03.109Z"
   },
   {
    "duration": 128,
    "start_time": "2022-10-20T16:00:04.273Z"
   },
   {
    "duration": 12,
    "start_time": "2022-10-20T16:00:04.403Z"
   },
   {
    "duration": 9,
    "start_time": "2022-10-20T16:00:04.416Z"
   },
   {
    "duration": 39,
    "start_time": "2022-10-20T16:00:04.427Z"
   },
   {
    "duration": 3,
    "start_time": "2022-10-20T16:00:04.468Z"
   },
   {
    "duration": 17,
    "start_time": "2022-10-20T16:00:04.473Z"
   },
   {
    "duration": 10,
    "start_time": "2022-10-20T16:00:04.492Z"
   },
   {
    "duration": 15,
    "start_time": "2022-10-20T16:00:04.503Z"
   },
   {
    "duration": 14,
    "start_time": "2022-10-20T16:00:04.528Z"
   },
   {
    "duration": 9,
    "start_time": "2022-10-20T16:00:04.543Z"
   },
   {
    "duration": 10,
    "start_time": "2022-10-20T16:07:40.065Z"
   },
   {
    "duration": 10,
    "start_time": "2022-10-20T16:08:10.796Z"
   },
   {
    "duration": 10,
    "start_time": "2022-10-20T16:09:29.561Z"
   },
   {
    "duration": 111,
    "start_time": "2022-10-20T16:09:49.952Z"
   },
   {
    "duration": 12,
    "start_time": "2022-10-20T16:10:00.799Z"
   },
   {
    "duration": 1156,
    "start_time": "2022-10-20T16:10:12.381Z"
   },
   {
    "duration": 160,
    "start_time": "2022-10-20T16:10:13.541Z"
   },
   {
    "duration": 12,
    "start_time": "2022-10-20T16:10:13.703Z"
   },
   {
    "duration": 3,
    "start_time": "2022-10-20T16:10:13.717Z"
   },
   {
    "duration": 31,
    "start_time": "2022-10-20T16:10:13.728Z"
   },
   {
    "duration": 3,
    "start_time": "2022-10-20T16:10:13.760Z"
   },
   {
    "duration": 13,
    "start_time": "2022-10-20T16:10:13.765Z"
   },
   {
    "duration": 10,
    "start_time": "2022-10-20T16:10:13.779Z"
   },
   {
    "duration": 19,
    "start_time": "2022-10-20T16:10:13.791Z"
   },
   {
    "duration": 34,
    "start_time": "2022-10-20T16:10:13.812Z"
   },
   {
    "duration": 8,
    "start_time": "2022-10-20T16:10:13.849Z"
   },
   {
    "duration": 13,
    "start_time": "2022-10-20T16:10:13.858Z"
   },
   {
    "duration": 11,
    "start_time": "2022-10-20T16:10:13.872Z"
   },
   {
    "duration": 63,
    "start_time": "2022-10-21T14:09:32.024Z"
   },
   {
    "duration": 1386,
    "start_time": "2022-10-21T14:09:38.557Z"
   },
   {
    "duration": 315,
    "start_time": "2022-10-21T14:09:39.946Z"
   },
   {
    "duration": 16,
    "start_time": "2022-10-21T14:09:40.263Z"
   },
   {
    "duration": 3,
    "start_time": "2022-10-21T14:09:40.281Z"
   },
   {
    "duration": 21,
    "start_time": "2022-10-21T14:09:40.287Z"
   },
   {
    "duration": 4,
    "start_time": "2022-10-21T14:09:40.310Z"
   },
   {
    "duration": 18,
    "start_time": "2022-10-21T14:09:40.315Z"
   },
   {
    "duration": 8,
    "start_time": "2022-10-21T14:09:40.335Z"
   },
   {
    "duration": 18,
    "start_time": "2022-10-21T14:09:40.345Z"
   },
   {
    "duration": 8,
    "start_time": "2022-10-21T14:09:40.364Z"
   },
   {
    "duration": 7,
    "start_time": "2022-10-21T14:09:40.373Z"
   },
   {
    "duration": 14,
    "start_time": "2022-10-21T14:09:40.382Z"
   },
   {
    "duration": 1225,
    "start_time": "2022-10-21T14:09:40.424Z"
   },
   {
    "duration": 0,
    "start_time": "2022-10-21T14:09:41.652Z"
   },
   {
    "duration": 5,
    "start_time": "2022-10-21T14:10:17.889Z"
   },
   {
    "duration": 5,
    "start_time": "2022-10-21T14:10:51.032Z"
   },
   {
    "duration": 14,
    "start_time": "2022-10-21T14:11:19.063Z"
   },
   {
    "duration": 5,
    "start_time": "2022-10-21T14:23:34.458Z"
   },
   {
    "duration": 4,
    "start_time": "2022-10-21T14:23:44.736Z"
   },
   {
    "duration": 3,
    "start_time": "2022-10-21T14:23:51.294Z"
   },
   {
    "duration": 42,
    "start_time": "2022-10-21T14:34:36.014Z"
   },
   {
    "duration": 323,
    "start_time": "2022-10-21T14:35:50.932Z"
   },
   {
    "duration": 329,
    "start_time": "2022-10-21T14:36:08.039Z"
   },
   {
    "duration": 313,
    "start_time": "2022-10-21T14:37:13.348Z"
   },
   {
    "duration": 328,
    "start_time": "2022-10-21T14:38:14.571Z"
   },
   {
    "duration": 17,
    "start_time": "2022-10-21T14:40:35.383Z"
   },
   {
    "duration": 402,
    "start_time": "2022-10-21T14:40:43.632Z"
   },
   {
    "duration": 209,
    "start_time": "2022-10-21T14:47:55.368Z"
   },
   {
    "duration": 1272,
    "start_time": "2022-10-21T14:58:50.940Z"
   },
   {
    "duration": 1655,
    "start_time": "2022-10-21T14:59:50.416Z"
   },
   {
    "duration": 352,
    "start_time": "2022-10-21T15:00:03.918Z"
   },
   {
    "duration": 10,
    "start_time": "2022-10-21T15:14:13.241Z"
   },
   {
    "duration": 12,
    "start_time": "2022-10-21T15:15:17.569Z"
   },
   {
    "duration": 11,
    "start_time": "2022-10-21T15:16:17.955Z"
   },
   {
    "duration": 12,
    "start_time": "2022-10-21T15:16:38.105Z"
   },
   {
    "duration": 11,
    "start_time": "2022-10-21T15:17:20.685Z"
   },
   {
    "duration": 12,
    "start_time": "2022-10-21T15:21:39.840Z"
   },
   {
    "duration": 21,
    "start_time": "2022-10-21T15:22:38.680Z"
   },
   {
    "duration": 9,
    "start_time": "2022-10-21T15:23:04.604Z"
   },
   {
    "duration": 21,
    "start_time": "2022-10-21T15:23:38.937Z"
   },
   {
    "duration": 1161,
    "start_time": "2022-10-21T15:23:46.356Z"
   },
   {
    "duration": 159,
    "start_time": "2022-10-21T15:23:47.520Z"
   },
   {
    "duration": 15,
    "start_time": "2022-10-21T15:23:47.681Z"
   },
   {
    "duration": 5,
    "start_time": "2022-10-21T15:23:47.699Z"
   },
   {
    "duration": 25,
    "start_time": "2022-10-21T15:23:47.705Z"
   },
   {
    "duration": 4,
    "start_time": "2022-10-21T15:23:47.735Z"
   },
   {
    "duration": 14,
    "start_time": "2022-10-21T15:23:47.741Z"
   },
   {
    "duration": 14,
    "start_time": "2022-10-21T15:23:47.757Z"
   },
   {
    "duration": 17,
    "start_time": "2022-10-21T15:23:47.773Z"
   },
   {
    "duration": 5,
    "start_time": "2022-10-21T15:23:47.792Z"
   },
   {
    "duration": 28,
    "start_time": "2022-10-21T15:23:47.799Z"
   },
   {
    "duration": 16,
    "start_time": "2022-10-21T15:23:47.828Z"
   },
   {
    "duration": 13,
    "start_time": "2022-10-21T15:23:47.845Z"
   },
   {
    "duration": 356,
    "start_time": "2022-10-21T15:23:47.859Z"
   },
   {
    "duration": 321,
    "start_time": "2022-10-21T15:23:48.217Z"
   },
   {
    "duration": 208,
    "start_time": "2022-10-21T15:23:48.540Z"
   },
   {
    "duration": 309,
    "start_time": "2022-10-21T15:23:48.749Z"
   },
   {
    "duration": 127,
    "start_time": "2022-10-21T15:23:49.060Z"
   },
   {
    "duration": 203,
    "start_time": "2022-10-21T15:24:00.485Z"
   },
   {
    "duration": 169,
    "start_time": "2022-10-21T15:24:14.937Z"
   },
   {
    "duration": 11,
    "start_time": "2022-10-21T15:24:44.463Z"
   },
   {
    "duration": 8,
    "start_time": "2022-10-21T15:26:52.418Z"
   },
   {
    "duration": 26,
    "start_time": "2022-10-21T15:27:38.724Z"
   },
   {
    "duration": 184,
    "start_time": "2022-10-21T15:27:49.485Z"
   },
   {
    "duration": 178,
    "start_time": "2022-10-21T15:28:11.063Z"
   },
   {
    "duration": 217,
    "start_time": "2022-10-21T15:41:12.791Z"
   },
   {
    "duration": 199,
    "start_time": "2022-10-21T15:41:21.456Z"
   },
   {
    "duration": 12,
    "start_time": "2022-10-21T15:41:52.504Z"
   },
   {
    "duration": 11,
    "start_time": "2022-10-21T15:49:39.640Z"
   },
   {
    "duration": 303,
    "start_time": "2022-10-21T15:50:40.749Z"
   },
   {
    "duration": 10,
    "start_time": "2022-10-21T15:50:46.203Z"
   },
   {
    "duration": 116,
    "start_time": "2022-10-21T18:01:47.339Z"
   },
   {
    "duration": 1150,
    "start_time": "2022-10-21T18:02:07.288Z"
   },
   {
    "duration": 154,
    "start_time": "2022-10-21T18:02:08.446Z"
   },
   {
    "duration": 12,
    "start_time": "2022-10-21T18:02:08.602Z"
   },
   {
    "duration": 3,
    "start_time": "2022-10-21T18:02:08.616Z"
   },
   {
    "duration": 33,
    "start_time": "2022-10-21T18:02:08.621Z"
   },
   {
    "duration": 3,
    "start_time": "2022-10-21T18:02:08.655Z"
   },
   {
    "duration": 14,
    "start_time": "2022-10-21T18:02:08.660Z"
   },
   {
    "duration": 8,
    "start_time": "2022-10-21T18:02:08.676Z"
   },
   {
    "duration": 16,
    "start_time": "2022-10-21T18:02:08.685Z"
   },
   {
    "duration": 33,
    "start_time": "2022-10-21T18:02:08.703Z"
   },
   {
    "duration": 9,
    "start_time": "2022-10-21T18:02:08.741Z"
   },
   {
    "duration": 14,
    "start_time": "2022-10-21T18:02:08.752Z"
   },
   {
    "duration": 11,
    "start_time": "2022-10-21T18:02:08.767Z"
   },
   {
    "duration": 351,
    "start_time": "2022-10-21T18:02:08.780Z"
   },
   {
    "duration": 321,
    "start_time": "2022-10-21T18:02:09.139Z"
   },
   {
    "duration": 215,
    "start_time": "2022-10-21T18:02:09.462Z"
   },
   {
    "duration": 273,
    "start_time": "2022-10-21T18:02:09.678Z"
   },
   {
    "duration": 222,
    "start_time": "2022-10-21T18:02:09.954Z"
   },
   {
    "duration": 106,
    "start_time": "2022-10-21T18:02:10.179Z"
   },
   {
    "duration": 1190,
    "start_time": "2022-10-21T18:03:36.626Z"
   },
   {
    "duration": 166,
    "start_time": "2022-10-21T18:03:37.818Z"
   },
   {
    "duration": 13,
    "start_time": "2022-10-21T18:03:37.985Z"
   },
   {
    "duration": 4,
    "start_time": "2022-10-21T18:03:38.000Z"
   },
   {
    "duration": 36,
    "start_time": "2022-10-21T18:03:38.005Z"
   },
   {
    "duration": 4,
    "start_time": "2022-10-21T18:03:38.046Z"
   },
   {
    "duration": 14,
    "start_time": "2022-10-21T18:03:38.053Z"
   },
   {
    "duration": 9,
    "start_time": "2022-10-21T18:03:38.069Z"
   },
   {
    "duration": 15,
    "start_time": "2022-10-21T18:03:38.080Z"
   },
   {
    "duration": 5,
    "start_time": "2022-10-21T18:03:38.098Z"
   },
   {
    "duration": 32,
    "start_time": "2022-10-21T18:03:38.104Z"
   },
   {
    "duration": 17,
    "start_time": "2022-10-21T18:03:38.144Z"
   },
   {
    "duration": 13,
    "start_time": "2022-10-21T18:03:38.163Z"
   },
   {
    "duration": 327,
    "start_time": "2022-10-21T18:03:38.178Z"
   },
   {
    "duration": 303,
    "start_time": "2022-10-21T18:03:38.507Z"
   },
   {
    "duration": 207,
    "start_time": "2022-10-21T18:03:38.813Z"
   },
   {
    "duration": 307,
    "start_time": "2022-10-21T18:03:39.023Z"
   },
   {
    "duration": 236,
    "start_time": "2022-10-21T18:03:39.331Z"
   },
   {
    "duration": 98,
    "start_time": "2022-10-21T18:03:39.569Z"
   },
   {
    "duration": 71,
    "start_time": "2022-10-21T18:04:01.649Z"
   },
   {
    "duration": 85,
    "start_time": "2022-10-21T18:04:05.319Z"
   },
   {
    "duration": 92,
    "start_time": "2022-10-21T18:04:15.915Z"
   },
   {
    "duration": 136,
    "start_time": "2022-10-21T18:04:25.015Z"
   },
   {
    "duration": 121,
    "start_time": "2022-10-21T18:04:40.947Z"
   },
   {
    "duration": 81,
    "start_time": "2022-10-21T18:04:47.331Z"
   },
   {
    "duration": 13,
    "start_time": "2022-10-21T18:09:06.082Z"
   },
   {
    "duration": 125,
    "start_time": "2022-10-21T18:09:19.994Z"
   },
   {
    "duration": 12,
    "start_time": "2022-10-21T18:09:39.801Z"
   },
   {
    "duration": 138,
    "start_time": "2022-10-21T18:10:42.753Z"
   },
   {
    "duration": 5,
    "start_time": "2022-10-21T18:11:52.046Z"
   },
   {
    "duration": 10,
    "start_time": "2022-10-21T18:13:38.620Z"
   },
   {
    "duration": 134,
    "start_time": "2022-10-21T19:24:09.751Z"
   },
   {
    "duration": 139,
    "start_time": "2022-10-21T19:26:11.218Z"
   },
   {
    "duration": 7,
    "start_time": "2022-10-21T19:27:17.223Z"
   },
   {
    "duration": 138,
    "start_time": "2022-10-21T19:28:09.315Z"
   },
   {
    "duration": 5,
    "start_time": "2022-10-21T19:28:33.991Z"
   },
   {
    "duration": 97,
    "start_time": "2022-10-21T19:29:05.395Z"
   },
   {
    "duration": 6,
    "start_time": "2022-10-21T19:29:14.318Z"
   },
   {
    "duration": 58,
    "start_time": "2022-10-22T11:20:04.973Z"
   },
   {
    "duration": 1219,
    "start_time": "2022-10-22T11:20:37.126Z"
   },
   {
    "duration": 134,
    "start_time": "2022-10-22T11:20:38.348Z"
   },
   {
    "duration": 13,
    "start_time": "2022-10-22T11:20:38.483Z"
   },
   {
    "duration": 36,
    "start_time": "2022-10-22T11:20:38.499Z"
   },
   {
    "duration": 46,
    "start_time": "2022-10-22T11:20:38.537Z"
   },
   {
    "duration": 31,
    "start_time": "2022-10-22T11:20:38.584Z"
   },
   {
    "duration": 46,
    "start_time": "2022-10-22T11:20:38.616Z"
   },
   {
    "duration": 43,
    "start_time": "2022-10-22T11:20:38.663Z"
   },
   {
    "duration": 66,
    "start_time": "2022-10-22T11:20:38.708Z"
   },
   {
    "duration": 22,
    "start_time": "2022-10-22T11:20:38.777Z"
   },
   {
    "duration": 52,
    "start_time": "2022-10-22T11:20:38.801Z"
   },
   {
    "duration": 29,
    "start_time": "2022-10-22T11:20:38.854Z"
   },
   {
    "duration": 35,
    "start_time": "2022-10-22T11:20:38.885Z"
   },
   {
    "duration": 333,
    "start_time": "2022-10-22T11:20:38.922Z"
   },
   {
    "duration": 264,
    "start_time": "2022-10-22T11:20:39.256Z"
   },
   {
    "duration": 194,
    "start_time": "2022-10-22T11:20:39.521Z"
   },
   {
    "duration": 301,
    "start_time": "2022-10-22T11:20:39.717Z"
   },
   {
    "duration": 169,
    "start_time": "2022-10-22T11:20:40.020Z"
   },
   {
    "duration": 20,
    "start_time": "2022-10-22T11:20:40.191Z"
   },
   {
    "duration": 134,
    "start_time": "2022-10-22T11:20:40.213Z"
   },
   {
    "duration": 4,
    "start_time": "2022-10-22T11:20:40.349Z"
   },
   {
    "duration": 135,
    "start_time": "2022-10-22T11:20:40.355Z"
   },
   {
    "duration": 5,
    "start_time": "2022-10-22T11:20:40.492Z"
   },
   {
    "duration": 258,
    "start_time": "2022-10-22T11:20:40.510Z"
   },
   {
    "duration": 331,
    "start_time": "2022-10-22T11:22:28.947Z"
   },
   {
    "duration": 348,
    "start_time": "2022-10-22T11:24:03.549Z"
   },
   {
    "duration": 434,
    "start_time": "2022-10-22T11:25:22.667Z"
   },
   {
    "duration": 386,
    "start_time": "2022-10-22T11:25:44.086Z"
   },
   {
    "duration": 344,
    "start_time": "2022-10-22T11:26:39.927Z"
   },
   {
    "duration": 39,
    "start_time": "2022-10-22T11:26:45.729Z"
   },
   {
    "duration": 338,
    "start_time": "2022-10-22T11:29:46.331Z"
   },
   {
    "duration": 354,
    "start_time": "2022-10-22T11:30:07.607Z"
   },
   {
    "duration": 41,
    "start_time": "2022-10-22T11:33:41.284Z"
   },
   {
    "duration": 37,
    "start_time": "2022-10-22T11:34:06.360Z"
   },
   {
    "duration": 14,
    "start_time": "2022-10-22T11:37:53.641Z"
   },
   {
    "duration": 13,
    "start_time": "2022-10-22T11:40:10.617Z"
   },
   {
    "duration": 8,
    "start_time": "2022-10-22T11:48:58.934Z"
   },
   {
    "duration": 8,
    "start_time": "2022-10-22T11:51:24.992Z"
   },
   {
    "duration": 28,
    "start_time": "2022-10-22T11:52:36.844Z"
   },
   {
    "duration": 15,
    "start_time": "2022-10-22T11:57:29.306Z"
   },
   {
    "duration": 107,
    "start_time": "2022-10-22T12:33:00.464Z"
   },
   {
    "duration": 59,
    "start_time": "2022-10-22T12:33:18.847Z"
   },
   {
    "duration": 129,
    "start_time": "2022-10-22T12:33:26.818Z"
   },
   {
    "duration": 279,
    "start_time": "2022-10-22T12:33:35.772Z"
   },
   {
    "duration": 111,
    "start_time": "2022-10-22T12:33:49.460Z"
   },
   {
    "duration": 254,
    "start_time": "2022-10-22T12:39:08.097Z"
   },
   {
    "duration": 8,
    "start_time": "2022-10-22T12:39:42.046Z"
   },
   {
    "duration": 143,
    "start_time": "2022-10-22T12:39:53.501Z"
   },
   {
    "duration": 203,
    "start_time": "2022-10-22T12:40:12.552Z"
   },
   {
    "duration": 248,
    "start_time": "2022-10-22T12:40:50.398Z"
   },
   {
    "duration": 185,
    "start_time": "2022-10-22T12:41:01.454Z"
   },
   {
    "duration": 9,
    "start_time": "2022-10-22T12:41:22.300Z"
   },
   {
    "duration": 9,
    "start_time": "2022-10-22T12:49:31.971Z"
   },
   {
    "duration": 756,
    "start_time": "2022-10-22T12:53:32.225Z"
   },
   {
    "duration": 159,
    "start_time": "2022-10-22T12:54:15.562Z"
   },
   {
    "duration": 236,
    "start_time": "2022-10-22T12:55:46.743Z"
   },
   {
    "duration": 50,
    "start_time": "2022-10-22T17:23:16.714Z"
   },
   {
    "duration": 1198,
    "start_time": "2022-10-22T17:23:21.375Z"
   },
   {
    "duration": 156,
    "start_time": "2022-10-22T17:23:22.575Z"
   },
   {
    "duration": 12,
    "start_time": "2022-10-22T17:23:22.732Z"
   },
   {
    "duration": 11,
    "start_time": "2022-10-22T17:23:22.746Z"
   },
   {
    "duration": 27,
    "start_time": "2022-10-22T17:23:22.759Z"
   },
   {
    "duration": 8,
    "start_time": "2022-10-22T17:23:22.788Z"
   },
   {
    "duration": 27,
    "start_time": "2022-10-22T17:23:22.798Z"
   },
   {
    "duration": 9,
    "start_time": "2022-10-22T17:23:22.827Z"
   },
   {
    "duration": 32,
    "start_time": "2022-10-22T17:23:22.838Z"
   },
   {
    "duration": 16,
    "start_time": "2022-10-22T17:23:22.872Z"
   },
   {
    "duration": 10,
    "start_time": "2022-10-22T17:23:22.890Z"
   },
   {
    "duration": 14,
    "start_time": "2022-10-22T17:23:22.901Z"
   },
   {
    "duration": 15,
    "start_time": "2022-10-22T17:23:22.921Z"
   },
   {
    "duration": 291,
    "start_time": "2022-10-22T17:23:22.939Z"
   },
   {
    "duration": 323,
    "start_time": "2022-10-22T17:23:23.232Z"
   },
   {
    "duration": 0,
    "start_time": "2022-10-22T17:23:23.557Z"
   },
   {
    "duration": 0,
    "start_time": "2022-10-22T17:23:23.558Z"
   },
   {
    "duration": 0,
    "start_time": "2022-10-22T17:23:23.559Z"
   },
   {
    "duration": 0,
    "start_time": "2022-10-22T17:23:23.560Z"
   },
   {
    "duration": 0,
    "start_time": "2022-10-22T17:23:23.561Z"
   },
   {
    "duration": 0,
    "start_time": "2022-10-22T17:23:23.562Z"
   },
   {
    "duration": 0,
    "start_time": "2022-10-22T17:23:23.563Z"
   },
   {
    "duration": 0,
    "start_time": "2022-10-22T17:23:23.564Z"
   },
   {
    "duration": 0,
    "start_time": "2022-10-22T17:23:23.565Z"
   },
   {
    "duration": 0,
    "start_time": "2022-10-22T17:23:23.566Z"
   },
   {
    "duration": 0,
    "start_time": "2022-10-22T17:23:23.567Z"
   },
   {
    "duration": 0,
    "start_time": "2022-10-22T17:23:23.568Z"
   },
   {
    "duration": 0,
    "start_time": "2022-10-22T17:23:23.569Z"
   },
   {
    "duration": 0,
    "start_time": "2022-10-22T17:23:23.571Z"
   },
   {
    "duration": 0,
    "start_time": "2022-10-22T17:23:23.572Z"
   },
   {
    "duration": 0,
    "start_time": "2022-10-22T17:23:23.573Z"
   },
   {
    "duration": 197,
    "start_time": "2022-10-22T17:24:50.843Z"
   },
   {
    "duration": 1044,
    "start_time": "2022-10-22T17:25:36.397Z"
   },
   {
    "duration": 106,
    "start_time": "2022-10-22T17:25:37.444Z"
   },
   {
    "duration": 14,
    "start_time": "2022-10-22T17:25:37.553Z"
   },
   {
    "duration": 4,
    "start_time": "2022-10-22T17:25:37.569Z"
   },
   {
    "duration": 25,
    "start_time": "2022-10-22T17:25:37.576Z"
   },
   {
    "duration": 5,
    "start_time": "2022-10-22T17:25:37.602Z"
   },
   {
    "duration": 20,
    "start_time": "2022-10-22T17:25:37.609Z"
   },
   {
    "duration": 10,
    "start_time": "2022-10-22T17:25:37.631Z"
   },
   {
    "duration": 19,
    "start_time": "2022-10-22T17:25:37.643Z"
   },
   {
    "duration": 7,
    "start_time": "2022-10-22T17:25:37.664Z"
   },
   {
    "duration": 9,
    "start_time": "2022-10-22T17:25:37.672Z"
   },
   {
    "duration": 18,
    "start_time": "2022-10-22T17:25:37.683Z"
   },
   {
    "duration": 16,
    "start_time": "2022-10-22T17:25:37.721Z"
   },
   {
    "duration": 314,
    "start_time": "2022-10-22T17:25:37.741Z"
   },
   {
    "duration": 273,
    "start_time": "2022-10-22T17:25:38.056Z"
   },
   {
    "duration": 178,
    "start_time": "2022-10-22T17:25:38.330Z"
   },
   {
    "duration": 323,
    "start_time": "2022-10-22T17:25:38.510Z"
   },
   {
    "duration": 246,
    "start_time": "2022-10-22T17:25:38.835Z"
   },
   {
    "duration": 319,
    "start_time": "2022-10-22T17:25:39.083Z"
   },
   {
    "duration": 23,
    "start_time": "2022-10-22T17:25:39.405Z"
   },
   {
    "duration": 136,
    "start_time": "2022-10-22T17:25:39.430Z"
   },
   {
    "duration": 4,
    "start_time": "2022-10-22T17:25:39.568Z"
   },
   {
    "duration": 155,
    "start_time": "2022-10-22T17:25:39.574Z"
   },
   {
    "duration": 5,
    "start_time": "2022-10-22T17:25:39.731Z"
   },
   {
    "duration": 356,
    "start_time": "2022-10-22T17:25:39.738Z"
   },
   {
    "duration": 31,
    "start_time": "2022-10-22T17:25:40.096Z"
   },
   {
    "duration": 14,
    "start_time": "2022-10-22T17:25:40.129Z"
   },
   {
    "duration": 10,
    "start_time": "2022-10-22T17:25:40.145Z"
   },
   {
    "duration": 10,
    "start_time": "2022-10-22T17:25:40.157Z"
   },
   {
    "duration": 56,
    "start_time": "2022-10-22T17:25:40.169Z"
   },
   {
    "duration": 14,
    "start_time": "2022-10-22T17:25:40.227Z"
   },
   {
    "duration": 209,
    "start_time": "2022-10-22T17:26:33.021Z"
   },
   {
    "duration": 311,
    "start_time": "2022-10-22T17:26:57.257Z"
   },
   {
    "duration": 315,
    "start_time": "2022-10-22T17:27:14.397Z"
   },
   {
    "duration": 118,
    "start_time": "2022-10-22T17:27:49.407Z"
   },
   {
    "duration": 141,
    "start_time": "2022-10-22T17:28:23.061Z"
   },
   {
    "duration": 1217,
    "start_time": "2022-10-22T19:23:54.885Z"
   },
   {
    "duration": 122,
    "start_time": "2022-10-22T19:23:56.105Z"
   },
   {
    "duration": 17,
    "start_time": "2022-10-22T19:23:56.228Z"
   },
   {
    "duration": 10,
    "start_time": "2022-10-22T19:23:56.246Z"
   },
   {
    "duration": 20,
    "start_time": "2022-10-22T19:23:56.258Z"
   },
   {
    "duration": 16,
    "start_time": "2022-10-22T19:23:56.280Z"
   },
   {
    "duration": 21,
    "start_time": "2022-10-22T19:23:56.298Z"
   },
   {
    "duration": 38,
    "start_time": "2022-10-22T19:23:56.321Z"
   },
   {
    "duration": 23,
    "start_time": "2022-10-22T19:23:56.361Z"
   },
   {
    "duration": 8,
    "start_time": "2022-10-22T19:23:56.385Z"
   },
   {
    "duration": 10,
    "start_time": "2022-10-22T19:23:56.395Z"
   },
   {
    "duration": 28,
    "start_time": "2022-10-22T19:23:56.407Z"
   },
   {
    "duration": 25,
    "start_time": "2022-10-22T19:23:56.437Z"
   },
   {
    "duration": 291,
    "start_time": "2022-10-22T19:23:56.465Z"
   },
   {
    "duration": 283,
    "start_time": "2022-10-22T19:23:56.758Z"
   },
   {
    "duration": 216,
    "start_time": "2022-10-22T19:23:57.044Z"
   },
   {
    "duration": 297,
    "start_time": "2022-10-22T19:23:57.262Z"
   },
   {
    "duration": 265,
    "start_time": "2022-10-22T19:23:57.562Z"
   },
   {
    "duration": 310,
    "start_time": "2022-10-22T19:23:57.828Z"
   },
   {
    "duration": 18,
    "start_time": "2022-10-22T19:23:58.139Z"
   },
   {
    "duration": 186,
    "start_time": "2022-10-22T19:23:58.160Z"
   },
   {
    "duration": 5,
    "start_time": "2022-10-22T19:23:58.347Z"
   },
   {
    "duration": 192,
    "start_time": "2022-10-22T19:23:58.353Z"
   },
   {
    "duration": 5,
    "start_time": "2022-10-22T19:23:58.547Z"
   },
   {
    "duration": 376,
    "start_time": "2022-10-22T19:23:58.556Z"
   },
   {
    "duration": 39,
    "start_time": "2022-10-22T19:23:58.938Z"
   },
   {
    "duration": 39,
    "start_time": "2022-10-22T19:23:58.980Z"
   },
   {
    "duration": 40,
    "start_time": "2022-10-22T19:23:59.021Z"
   },
   {
    "duration": 24,
    "start_time": "2022-10-22T19:23:59.064Z"
   },
   {
    "duration": 30,
    "start_time": "2022-10-22T19:23:59.090Z"
   },
   {
    "duration": 40,
    "start_time": "2022-10-22T19:23:59.122Z"
   },
   {
    "duration": 930,
    "start_time": "2022-10-23T06:37:04.598Z"
   },
   {
    "duration": 81,
    "start_time": "2022-10-23T06:37:05.530Z"
   },
   {
    "duration": 12,
    "start_time": "2022-10-23T06:37:05.612Z"
   },
   {
    "duration": 2,
    "start_time": "2022-10-23T06:37:05.627Z"
   },
   {
    "duration": 17,
    "start_time": "2022-10-23T06:37:05.631Z"
   },
   {
    "duration": 2,
    "start_time": "2022-10-23T06:37:05.649Z"
   },
   {
    "duration": 16,
    "start_time": "2022-10-23T06:37:05.652Z"
   },
   {
    "duration": 8,
    "start_time": "2022-10-23T06:37:05.669Z"
   },
   {
    "duration": 15,
    "start_time": "2022-10-23T06:37:05.678Z"
   },
   {
    "duration": 3,
    "start_time": "2022-10-23T06:37:05.696Z"
   },
   {
    "duration": 6,
    "start_time": "2022-10-23T06:37:05.701Z"
   },
   {
    "duration": 34,
    "start_time": "2022-10-23T06:37:05.708Z"
   },
   {
    "duration": 10,
    "start_time": "2022-10-23T06:37:05.743Z"
   },
   {
    "duration": 291,
    "start_time": "2022-10-23T06:37:05.754Z"
   },
   {
    "duration": 301,
    "start_time": "2022-10-23T06:37:06.046Z"
   },
   {
    "duration": 205,
    "start_time": "2022-10-23T06:37:06.349Z"
   },
   {
    "duration": 279,
    "start_time": "2022-10-23T06:37:06.556Z"
   },
   {
    "duration": 183,
    "start_time": "2022-10-23T06:37:06.836Z"
   },
   {
    "duration": 286,
    "start_time": "2022-10-23T06:37:07.021Z"
   },
   {
    "duration": 12,
    "start_time": "2022-10-23T06:37:07.308Z"
   },
   {
    "duration": 121,
    "start_time": "2022-10-23T06:37:07.332Z"
   },
   {
    "duration": 5,
    "start_time": "2022-10-23T06:37:07.454Z"
   },
   {
    "duration": 140,
    "start_time": "2022-10-23T06:37:07.461Z"
   },
   {
    "duration": 4,
    "start_time": "2022-10-23T06:37:07.602Z"
   },
   {
    "duration": 329,
    "start_time": "2022-10-23T06:37:07.608Z"
   },
   {
    "duration": 25,
    "start_time": "2022-10-23T06:37:07.939Z"
   },
   {
    "duration": 11,
    "start_time": "2022-10-23T06:37:07.965Z"
   },
   {
    "duration": 7,
    "start_time": "2022-10-23T06:37:07.978Z"
   },
   {
    "duration": 11,
    "start_time": "2022-10-23T06:37:07.987Z"
   },
   {
    "duration": 47,
    "start_time": "2022-10-23T06:37:07.999Z"
   },
   {
    "duration": 14,
    "start_time": "2022-10-23T06:37:08.048Z"
   },
   {
    "duration": 1151,
    "start_time": "2022-10-24T08:34:09.697Z"
   },
   {
    "duration": 297,
    "start_time": "2022-10-24T08:34:10.850Z"
   },
   {
    "duration": 11,
    "start_time": "2022-10-24T08:34:11.149Z"
   },
   {
    "duration": 37,
    "start_time": "2022-10-24T08:34:11.162Z"
   },
   {
    "duration": 19,
    "start_time": "2022-10-24T08:34:11.200Z"
   },
   {
    "duration": 3,
    "start_time": "2022-10-24T08:34:11.221Z"
   },
   {
    "duration": 16,
    "start_time": "2022-10-24T08:34:11.226Z"
   },
   {
    "duration": 12,
    "start_time": "2022-10-24T08:34:11.244Z"
   },
   {
    "duration": 18,
    "start_time": "2022-10-24T08:34:11.257Z"
   },
   {
    "duration": 4,
    "start_time": "2022-10-24T08:34:11.278Z"
   },
   {
    "duration": 10,
    "start_time": "2022-10-24T08:34:11.283Z"
   },
   {
    "duration": 20,
    "start_time": "2022-10-24T08:34:11.294Z"
   },
   {
    "duration": 10,
    "start_time": "2022-10-24T08:34:11.322Z"
   },
   {
    "duration": 6,
    "start_time": "2022-10-24T08:34:11.334Z"
   },
   {
    "duration": 301,
    "start_time": "2022-10-24T08:34:11.342Z"
   },
   {
    "duration": 267,
    "start_time": "2022-10-24T08:34:11.645Z"
   },
   {
    "duration": 169,
    "start_time": "2022-10-24T08:34:11.915Z"
   },
   {
    "duration": 359,
    "start_time": "2022-10-24T08:34:12.086Z"
   },
   {
    "duration": 179,
    "start_time": "2022-10-24T08:34:12.447Z"
   },
   {
    "duration": 270,
    "start_time": "2022-10-24T08:34:12.628Z"
   },
   {
    "duration": 10,
    "start_time": "2022-10-24T08:34:12.899Z"
   },
   {
    "duration": 104,
    "start_time": "2022-10-24T08:34:12.922Z"
   },
   {
    "duration": 4,
    "start_time": "2022-10-24T08:34:13.027Z"
   },
   {
    "duration": 122,
    "start_time": "2022-10-24T08:34:13.033Z"
   },
   {
    "duration": 3,
    "start_time": "2022-10-24T08:34:13.156Z"
   },
   {
    "duration": 322,
    "start_time": "2022-10-24T08:34:13.161Z"
   },
   {
    "duration": 22,
    "start_time": "2022-10-24T08:34:13.484Z"
   },
   {
    "duration": 19,
    "start_time": "2022-10-24T08:34:13.509Z"
   },
   {
    "duration": 7,
    "start_time": "2022-10-24T08:34:13.530Z"
   },
   {
    "duration": 8,
    "start_time": "2022-10-24T08:34:13.538Z"
   },
   {
    "duration": 23,
    "start_time": "2022-10-24T08:34:13.548Z"
   },
   {
    "duration": 12,
    "start_time": "2022-10-24T08:34:13.573Z"
   },
   {
    "duration": 89,
    "start_time": "2022-10-24T08:36:52.749Z"
   },
   {
    "duration": 29,
    "start_time": "2022-10-24T08:37:04.524Z"
   },
   {
    "duration": 71,
    "start_time": "2022-10-24T08:39:42.902Z"
   },
   {
    "duration": 9,
    "start_time": "2022-10-24T08:39:51.796Z"
   },
   {
    "duration": 5,
    "start_time": "2022-10-24T08:41:20.835Z"
   },
   {
    "duration": 11,
    "start_time": "2022-10-24T08:44:10.342Z"
   },
   {
    "duration": 10,
    "start_time": "2022-10-24T08:44:34.288Z"
   },
   {
    "duration": 9,
    "start_time": "2022-10-24T08:44:48.983Z"
   },
   {
    "duration": 9,
    "start_time": "2022-10-24T08:45:39.127Z"
   },
   {
    "duration": 8,
    "start_time": "2022-10-24T08:45:44.732Z"
   },
   {
    "duration": 148,
    "start_time": "2022-10-24T08:47:57.475Z"
   },
   {
    "duration": 10,
    "start_time": "2022-10-24T08:48:17.722Z"
   },
   {
    "duration": 8,
    "start_time": "2022-10-24T08:48:52.734Z"
   },
   {
    "duration": 9,
    "start_time": "2022-10-24T08:49:01.400Z"
   },
   {
    "duration": 9,
    "start_time": "2022-10-24T08:49:26.150Z"
   },
   {
    "duration": 6,
    "start_time": "2022-10-24T08:49:38.389Z"
   },
   {
    "duration": 7,
    "start_time": "2022-10-24T08:53:01.107Z"
   },
   {
    "duration": 5,
    "start_time": "2022-10-24T08:53:53.659Z"
   },
   {
    "duration": 7,
    "start_time": "2022-10-24T08:55:03.438Z"
   },
   {
    "duration": 12,
    "start_time": "2022-10-24T08:55:23.959Z"
   },
   {
    "duration": 12,
    "start_time": "2022-10-24T08:55:32.197Z"
   },
   {
    "duration": 8,
    "start_time": "2022-10-24T08:55:42.918Z"
   },
   {
    "duration": 12,
    "start_time": "2022-10-24T08:56:01.125Z"
   },
   {
    "duration": 7,
    "start_time": "2022-10-24T08:56:23.913Z"
   },
   {
    "duration": 5,
    "start_time": "2022-10-24T09:01:25.334Z"
   },
   {
    "duration": 7,
    "start_time": "2022-10-24T09:01:32.477Z"
   },
   {
    "duration": 11,
    "start_time": "2022-10-24T09:04:35.438Z"
   },
   {
    "duration": 11,
    "start_time": "2022-10-24T09:07:50.787Z"
   },
   {
    "duration": 12,
    "start_time": "2022-10-24T09:08:02.533Z"
   },
   {
    "duration": 38,
    "start_time": "2022-10-24T09:08:09.923Z"
   },
   {
    "duration": 48,
    "start_time": "2022-10-24T09:08:40.993Z"
   },
   {
    "duration": 47,
    "start_time": "2022-10-24T09:09:14.590Z"
   },
   {
    "duration": 40,
    "start_time": "2022-10-24T09:09:23.222Z"
   },
   {
    "duration": 51,
    "start_time": "2022-10-24T09:09:31.590Z"
   },
   {
    "duration": 45,
    "start_time": "2022-10-24T09:09:45.188Z"
   },
   {
    "duration": 40,
    "start_time": "2022-10-24T09:11:01.932Z"
   },
   {
    "duration": 42,
    "start_time": "2022-10-24T09:11:55.575Z"
   },
   {
    "duration": 7,
    "start_time": "2022-10-24T09:12:56.306Z"
   },
   {
    "duration": 4,
    "start_time": "2022-10-24T09:13:04.908Z"
   },
   {
    "duration": 4,
    "start_time": "2022-10-24T09:13:37.483Z"
   },
   {
    "duration": 5,
    "start_time": "2022-10-24T09:17:54.557Z"
   },
   {
    "duration": 1004,
    "start_time": "2022-10-24T09:18:22.006Z"
   },
   {
    "duration": 123,
    "start_time": "2022-10-24T09:18:23.011Z"
   },
   {
    "duration": 11,
    "start_time": "2022-10-24T09:18:23.135Z"
   },
   {
    "duration": 2,
    "start_time": "2022-10-24T09:18:23.148Z"
   },
   {
    "duration": 20,
    "start_time": "2022-10-24T09:18:23.152Z"
   },
   {
    "duration": 3,
    "start_time": "2022-10-24T09:18:23.173Z"
   },
   {
    "duration": 16,
    "start_time": "2022-10-24T09:18:23.177Z"
   },
   {
    "duration": 10,
    "start_time": "2022-10-24T09:18:23.194Z"
   },
   {
    "duration": 20,
    "start_time": "2022-10-24T09:18:23.205Z"
   },
   {
    "duration": 6,
    "start_time": "2022-10-24T09:18:23.227Z"
   },
   {
    "duration": 7,
    "start_time": "2022-10-24T09:18:23.234Z"
   },
   {
    "duration": 15,
    "start_time": "2022-10-24T09:18:23.242Z"
   },
   {
    "duration": 10,
    "start_time": "2022-10-24T09:18:23.258Z"
   },
   {
    "duration": 57,
    "start_time": "2022-10-24T09:18:23.269Z"
   },
   {
    "duration": 4,
    "start_time": "2022-10-24T09:18:23.328Z"
   },
   {
    "duration": 9,
    "start_time": "2022-10-24T09:18:23.334Z"
   },
   {
    "duration": 276,
    "start_time": "2022-10-24T09:18:23.344Z"
   },
   {
    "duration": 232,
    "start_time": "2022-10-24T09:18:23.622Z"
   },
   {
    "duration": 177,
    "start_time": "2022-10-24T09:18:23.855Z"
   },
   {
    "duration": 265,
    "start_time": "2022-10-24T09:18:24.033Z"
   },
   {
    "duration": 168,
    "start_time": "2022-10-24T09:18:24.300Z"
   },
   {
    "duration": 241,
    "start_time": "2022-10-24T09:18:24.469Z"
   },
   {
    "duration": 12,
    "start_time": "2022-10-24T09:18:24.712Z"
   },
   {
    "duration": 124,
    "start_time": "2022-10-24T09:18:24.725Z"
   },
   {
    "duration": 3,
    "start_time": "2022-10-24T09:18:24.851Z"
   },
   {
    "duration": 125,
    "start_time": "2022-10-24T09:18:24.856Z"
   },
   {
    "duration": 4,
    "start_time": "2022-10-24T09:18:24.982Z"
   },
   {
    "duration": 323,
    "start_time": "2022-10-24T09:18:24.988Z"
   },
   {
    "duration": 21,
    "start_time": "2022-10-24T09:18:25.313Z"
   },
   {
    "duration": 10,
    "start_time": "2022-10-24T09:18:25.336Z"
   },
   {
    "duration": 7,
    "start_time": "2022-10-24T09:18:25.348Z"
   },
   {
    "duration": 8,
    "start_time": "2022-10-24T09:18:25.357Z"
   },
   {
    "duration": 25,
    "start_time": "2022-10-24T09:18:25.367Z"
   },
   {
    "duration": 37,
    "start_time": "2022-10-24T09:18:25.393Z"
   },
   {
    "duration": 1035,
    "start_time": "2022-10-24T11:04:06.916Z"
   },
   {
    "duration": 181,
    "start_time": "2022-10-24T11:04:07.953Z"
   },
   {
    "duration": 15,
    "start_time": "2022-10-24T11:04:08.136Z"
   },
   {
    "duration": 28,
    "start_time": "2022-10-24T11:04:08.153Z"
   },
   {
    "duration": 25,
    "start_time": "2022-10-24T11:04:08.184Z"
   },
   {
    "duration": 6,
    "start_time": "2022-10-24T11:04:08.210Z"
   },
   {
    "duration": 19,
    "start_time": "2022-10-24T11:04:08.218Z"
   },
   {
    "duration": 15,
    "start_time": "2022-10-24T11:04:08.238Z"
   },
   {
    "duration": 14,
    "start_time": "2022-10-24T11:04:08.255Z"
   },
   {
    "duration": 4,
    "start_time": "2022-10-24T11:04:08.273Z"
   },
   {
    "duration": 8,
    "start_time": "2022-10-24T11:04:08.279Z"
   },
   {
    "duration": 17,
    "start_time": "2022-10-24T11:04:08.289Z"
   },
   {
    "duration": 20,
    "start_time": "2022-10-24T11:04:08.308Z"
   },
   {
    "duration": 43,
    "start_time": "2022-10-24T11:04:08.330Z"
   },
   {
    "duration": 4,
    "start_time": "2022-10-24T11:04:08.374Z"
   },
   {
    "duration": 6,
    "start_time": "2022-10-24T11:04:08.380Z"
   },
   {
    "duration": 285,
    "start_time": "2022-10-24T11:04:08.387Z"
   },
   {
    "duration": 244,
    "start_time": "2022-10-24T11:04:08.674Z"
   },
   {
    "duration": 187,
    "start_time": "2022-10-24T11:04:08.921Z"
   },
   {
    "duration": 289,
    "start_time": "2022-10-24T11:04:09.110Z"
   },
   {
    "duration": 101,
    "start_time": "2022-10-24T11:04:09.401Z"
   },
   {
    "duration": 0,
    "start_time": "2022-10-24T11:04:09.504Z"
   },
   {
    "duration": 0,
    "start_time": "2022-10-24T11:04:09.504Z"
   },
   {
    "duration": 0,
    "start_time": "2022-10-24T11:04:09.505Z"
   },
   {
    "duration": 0,
    "start_time": "2022-10-24T11:04:09.507Z"
   },
   {
    "duration": 0,
    "start_time": "2022-10-24T11:04:09.507Z"
   },
   {
    "duration": 0,
    "start_time": "2022-10-24T11:04:09.508Z"
   },
   {
    "duration": 0,
    "start_time": "2022-10-24T11:04:09.509Z"
   },
   {
    "duration": 0,
    "start_time": "2022-10-24T11:04:09.523Z"
   },
   {
    "duration": 0,
    "start_time": "2022-10-24T11:04:09.523Z"
   },
   {
    "duration": 0,
    "start_time": "2022-10-24T11:04:09.524Z"
   },
   {
    "duration": 0,
    "start_time": "2022-10-24T11:04:09.525Z"
   },
   {
    "duration": 0,
    "start_time": "2022-10-24T11:04:09.525Z"
   },
   {
    "duration": 0,
    "start_time": "2022-10-24T11:04:09.526Z"
   },
   {
    "duration": 211,
    "start_time": "2022-10-24T11:15:40.993Z"
   },
   {
    "duration": 290,
    "start_time": "2022-10-24T11:15:57.746Z"
   },
   {
    "duration": 328,
    "start_time": "2022-10-24T11:19:41.616Z"
   },
   {
    "duration": 298,
    "start_time": "2022-10-24T11:22:23.747Z"
   },
   {
    "duration": 254,
    "start_time": "2022-10-24T11:23:23.861Z"
   },
   {
    "duration": 326,
    "start_time": "2022-10-24T11:23:44.027Z"
   },
   {
    "duration": 1009,
    "start_time": "2022-10-24T11:24:15.873Z"
   },
   {
    "duration": 135,
    "start_time": "2022-10-24T11:24:16.884Z"
   },
   {
    "duration": 38,
    "start_time": "2022-10-24T11:24:17.021Z"
   },
   {
    "duration": 3,
    "start_time": "2022-10-24T11:24:17.062Z"
   },
   {
    "duration": 19,
    "start_time": "2022-10-24T11:24:17.067Z"
   },
   {
    "duration": 6,
    "start_time": "2022-10-24T11:24:17.088Z"
   },
   {
    "duration": 13,
    "start_time": "2022-10-24T11:24:17.095Z"
   },
   {
    "duration": 8,
    "start_time": "2022-10-24T11:24:17.109Z"
   },
   {
    "duration": 39,
    "start_time": "2022-10-24T11:24:17.118Z"
   },
   {
    "duration": 10,
    "start_time": "2022-10-24T11:24:17.160Z"
   },
   {
    "duration": 15,
    "start_time": "2022-10-24T11:24:17.171Z"
   },
   {
    "duration": 14,
    "start_time": "2022-10-24T11:24:17.188Z"
   },
   {
    "duration": 14,
    "start_time": "2022-10-24T11:24:17.204Z"
   },
   {
    "duration": 56,
    "start_time": "2022-10-24T11:24:17.220Z"
   },
   {
    "duration": 4,
    "start_time": "2022-10-24T11:24:17.278Z"
   },
   {
    "duration": 14,
    "start_time": "2022-10-24T11:24:17.283Z"
   },
   {
    "duration": 302,
    "start_time": "2022-10-24T11:24:17.299Z"
   },
   {
    "duration": 301,
    "start_time": "2022-10-24T11:24:17.603Z"
   },
   {
    "duration": 181,
    "start_time": "2022-10-24T11:24:17.906Z"
   },
   {
    "duration": 271,
    "start_time": "2022-10-24T11:24:18.089Z"
   },
   {
    "duration": 198,
    "start_time": "2022-10-24T11:24:18.362Z"
   },
   {
    "duration": 250,
    "start_time": "2022-10-24T11:24:18.561Z"
   },
   {
    "duration": 23,
    "start_time": "2022-10-24T11:24:18.813Z"
   },
   {
    "duration": 139,
    "start_time": "2022-10-24T11:24:18.837Z"
   },
   {
    "duration": 5,
    "start_time": "2022-10-24T11:24:18.978Z"
   },
   {
    "duration": 154,
    "start_time": "2022-10-24T11:24:18.985Z"
   },
   {
    "duration": 4,
    "start_time": "2022-10-24T11:24:19.142Z"
   },
   {
    "duration": 383,
    "start_time": "2022-10-24T11:24:19.149Z"
   },
   {
    "duration": 20,
    "start_time": "2022-10-24T11:24:19.539Z"
   },
   {
    "duration": 9,
    "start_time": "2022-10-24T11:24:19.561Z"
   },
   {
    "duration": 8,
    "start_time": "2022-10-24T11:24:19.571Z"
   },
   {
    "duration": 9,
    "start_time": "2022-10-24T11:24:19.580Z"
   },
   {
    "duration": 51,
    "start_time": "2022-10-24T11:24:19.590Z"
   },
   {
    "duration": 19,
    "start_time": "2022-10-24T11:24:19.644Z"
   },
   {
    "duration": 78,
    "start_time": "2022-10-24T11:30:31.197Z"
   },
   {
    "duration": 8,
    "start_time": "2022-10-24T11:43:11.742Z"
   },
   {
    "duration": 7,
    "start_time": "2022-10-24T11:43:23.960Z"
   },
   {
    "duration": 23,
    "start_time": "2022-10-24T11:43:26.406Z"
   },
   {
    "duration": 17,
    "start_time": "2022-10-24T11:44:44.103Z"
   },
   {
    "duration": 1158,
    "start_time": "2022-10-24T13:34:13.056Z"
   },
   {
    "duration": 242,
    "start_time": "2022-10-24T13:34:14.216Z"
   },
   {
    "duration": 11,
    "start_time": "2022-10-24T13:34:14.459Z"
   },
   {
    "duration": 3,
    "start_time": "2022-10-24T13:34:14.472Z"
   },
   {
    "duration": 18,
    "start_time": "2022-10-24T13:34:14.476Z"
   },
   {
    "duration": 4,
    "start_time": "2022-10-24T13:34:14.495Z"
   },
   {
    "duration": 15,
    "start_time": "2022-10-24T13:34:14.501Z"
   },
   {
    "duration": 8,
    "start_time": "2022-10-24T13:34:14.518Z"
   },
   {
    "duration": 12,
    "start_time": "2022-10-24T13:34:14.528Z"
   },
   {
    "duration": 4,
    "start_time": "2022-10-24T13:34:14.543Z"
   },
   {
    "duration": 7,
    "start_time": "2022-10-24T13:34:14.548Z"
   },
   {
    "duration": 29,
    "start_time": "2022-10-24T13:34:14.556Z"
   },
   {
    "duration": 9,
    "start_time": "2022-10-24T13:34:14.586Z"
   },
   {
    "duration": 40,
    "start_time": "2022-10-24T13:34:14.596Z"
   },
   {
    "duration": 3,
    "start_time": "2022-10-24T13:34:14.637Z"
   },
   {
    "duration": 7,
    "start_time": "2022-10-24T13:34:14.642Z"
   },
   {
    "duration": 275,
    "start_time": "2022-10-24T13:34:14.650Z"
   },
   {
    "duration": 244,
    "start_time": "2022-10-24T13:34:14.927Z"
   },
   {
    "duration": 185,
    "start_time": "2022-10-24T13:34:15.173Z"
   },
   {
    "duration": 324,
    "start_time": "2022-10-24T13:34:15.360Z"
   },
   {
    "duration": 181,
    "start_time": "2022-10-24T13:34:15.686Z"
   },
   {
    "duration": 281,
    "start_time": "2022-10-24T13:34:15.868Z"
   },
   {
    "duration": 10,
    "start_time": "2022-10-24T13:34:16.151Z"
   },
   {
    "duration": 139,
    "start_time": "2022-10-24T13:34:16.162Z"
   },
   {
    "duration": 3,
    "start_time": "2022-10-24T13:34:16.303Z"
   },
   {
    "duration": 121,
    "start_time": "2022-10-24T13:34:16.307Z"
   },
   {
    "duration": 4,
    "start_time": "2022-10-24T13:34:16.430Z"
   },
   {
    "duration": 309,
    "start_time": "2022-10-24T13:34:16.436Z"
   },
   {
    "duration": 21,
    "start_time": "2022-10-24T13:34:16.746Z"
   },
   {
    "duration": 10,
    "start_time": "2022-10-24T13:34:16.777Z"
   },
   {
    "duration": 7,
    "start_time": "2022-10-24T13:34:16.788Z"
   },
   {
    "duration": 8,
    "start_time": "2022-10-24T13:34:16.797Z"
   },
   {
    "duration": 22,
    "start_time": "2022-10-24T13:34:16.806Z"
   },
   {
    "duration": 12,
    "start_time": "2022-10-24T13:34:16.829Z"
   },
   {
    "duration": 1269,
    "start_time": "2022-10-25T06:33:46.439Z"
   },
   {
    "duration": 300,
    "start_time": "2022-10-25T06:33:47.710Z"
   },
   {
    "duration": 17,
    "start_time": "2022-10-25T06:33:48.012Z"
   },
   {
    "duration": 9,
    "start_time": "2022-10-25T06:33:48.031Z"
   },
   {
    "duration": 30,
    "start_time": "2022-10-25T06:33:48.042Z"
   },
   {
    "duration": 3,
    "start_time": "2022-10-25T06:33:48.073Z"
   },
   {
    "duration": 17,
    "start_time": "2022-10-25T06:33:48.078Z"
   },
   {
    "duration": 9,
    "start_time": "2022-10-25T06:33:48.096Z"
   },
   {
    "duration": 33,
    "start_time": "2022-10-25T06:33:48.107Z"
   },
   {
    "duration": 5,
    "start_time": "2022-10-25T06:33:48.142Z"
   },
   {
    "duration": 17,
    "start_time": "2022-10-25T06:33:48.148Z"
   },
   {
    "duration": 15,
    "start_time": "2022-10-25T06:33:48.167Z"
   },
   {
    "duration": 23,
    "start_time": "2022-10-25T06:33:48.184Z"
   },
   {
    "duration": 71,
    "start_time": "2022-10-25T06:33:48.210Z"
   },
   {
    "duration": 4,
    "start_time": "2022-10-25T06:33:48.283Z"
   },
   {
    "duration": 14,
    "start_time": "2022-10-25T06:33:48.290Z"
   },
   {
    "duration": 306,
    "start_time": "2022-10-25T06:33:48.306Z"
   },
   {
    "duration": 282,
    "start_time": "2022-10-25T06:33:48.613Z"
   },
   {
    "duration": 212,
    "start_time": "2022-10-25T06:33:48.898Z"
   },
   {
    "duration": 357,
    "start_time": "2022-10-25T06:33:49.113Z"
   },
   {
    "duration": 223,
    "start_time": "2022-10-25T06:33:49.472Z"
   },
   {
    "duration": 357,
    "start_time": "2022-10-25T06:33:49.697Z"
   },
   {
    "duration": 12,
    "start_time": "2022-10-25T06:33:50.056Z"
   },
   {
    "duration": 164,
    "start_time": "2022-10-25T06:33:50.070Z"
   },
   {
    "duration": 5,
    "start_time": "2022-10-25T06:33:50.238Z"
   },
   {
    "duration": 148,
    "start_time": "2022-10-25T06:33:50.245Z"
   },
   {
    "duration": 5,
    "start_time": "2022-10-25T06:33:50.395Z"
   },
   {
    "duration": 351,
    "start_time": "2022-10-25T06:33:50.402Z"
   },
   {
    "duration": 25,
    "start_time": "2022-10-25T06:33:50.755Z"
   },
   {
    "duration": 12,
    "start_time": "2022-10-25T06:33:50.781Z"
   },
   {
    "duration": 38,
    "start_time": "2022-10-25T06:33:50.795Z"
   },
   {
    "duration": 10,
    "start_time": "2022-10-25T06:33:50.835Z"
   },
   {
    "duration": 28,
    "start_time": "2022-10-25T06:33:50.848Z"
   },
   {
    "duration": 14,
    "start_time": "2022-10-25T06:33:50.879Z"
   },
   {
    "duration": 114,
    "start_time": "2022-10-25T06:40:29.058Z"
   }
  ],
  "kernelspec": {
   "display_name": "Python 3 (ipykernel)",
   "language": "python",
   "name": "python3"
  },
  "language_info": {
   "codemirror_mode": {
    "name": "ipython",
    "version": 3
   },
   "file_extension": ".py",
   "mimetype": "text/x-python",
   "name": "python",
   "nbconvert_exporter": "python",
   "pygments_lexer": "ipython3",
   "version": "3.11.0"
  },
  "toc": {
   "base_numbering": 1,
   "nav_menu": {},
   "number_sections": true,
   "sideBar": true,
   "skip_h1_title": true,
   "title_cell": "Table of Contents",
   "title_sidebar": "Contents",
   "toc_cell": false,
   "toc_position": {
    "height": "calc(100% - 180px)",
    "left": "10px",
    "top": "150px",
    "width": "238.26px"
   },
   "toc_section_display": true,
   "toc_window_display": true
  }
 },
 "nbformat": 4,
 "nbformat_minor": 2
}
